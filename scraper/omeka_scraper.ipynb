{
 "cells": [
  {
   "cell_type": "markdown",
   "id": "7cec6496",
   "metadata": {},
   "source": [
    "# Scraping Data "
   ]
  },
  {
   "cell_type": "code",
   "execution_count": 1,
   "id": "a3ce5ada",
   "metadata": {},
   "outputs": [],
   "source": [
    "from bs4 import BeautifulSoup\n",
    "import requests\n",
    "import json\n",
    "from pprint import pprint"
   ]
  },
  {
   "cell_type": "code",
   "execution_count": 2,
   "id": "86359a5b",
   "metadata": {},
   "outputs": [],
   "source": [
    "link = \"https://miamiuniversityartmuseum.omeka.net/items/browse?page=2\""
   ]
  },
  {
   "cell_type": "code",
   "execution_count": 3,
   "id": "1e09323a",
   "metadata": {},
   "outputs": [],
   "source": [
    "pages = 248"
   ]
  },
  {
   "cell_type": "code",
   "execution_count": 4,
   "id": "76340279",
   "metadata": {},
   "outputs": [],
   "source": [
    "for page in range(1, pages + 1):\n",
    "    if page == 1:\n",
    "        browse = \"https://miamiuniversityartmuseum.omeka.net/items/browse\"\n",
    "    else:\n",
    "        i = page - 1\n",
    "browse = f\"https://miamiuniversityartmuseum.omeka.net/items/browse&page={i}\""
   ]
  },
  {
   "cell_type": "code",
   "execution_count": 5,
   "id": "908c9e70",
   "metadata": {},
   "outputs": [],
   "source": [
    "response = requests.get(browse)\n",
    "if response.status_code != 200:\n",
    "    print(f\"Failed to retrieve data from the URL. Status code: {response.status_code}\")\n",
    "    exit()\n",
    "\n",
    "soup = BeautifulSoup(response.text, 'html.parser')"
   ]
  },
  {
   "cell_type": "code",
   "execution_count": 6,
   "id": "fc5fec2c",
   "metadata": {},
   "outputs": [],
   "source": [
    "link_on_pages = []\n",
    "for link in soup.find_all('a'):\n",
    "\n",
    "    href = link.get('href')\n",
    "    if href and href.startswith('/items/show/'):\n",
    "        #print(href)\n",
    "        link_on_pages.append(href)\n",
    "\n",
    "#print(link_on_pages)"
   ]
  },
  {
   "cell_type": "code",
   "execution_count": 7,
   "id": "dc99d281",
   "metadata": {},
   "outputs": [],
   "source": [
    "soups = []\n",
    "\n",
    "for link in link_on_pages:\n",
    "    full_link = \"https://miamiuniversityartmuseum.omeka.net\" + link\n",
    "    #print(full_link)\n",
    "    response = requests.get(full_link)\n",
    "    if response.status_code != 200:\n",
    "        print(f\"Failed to retrieve data from the URL. Status code: {response.status_code}\")\n",
    "        exit()\n",
    "\n",
    "    soup = BeautifulSoup(response.text, 'html.parser')\n",
    "    soups.append(soup)"
   ]
  },
  {
   "cell_type": "code",
   "execution_count": 8,
   "id": "b79e915c",
   "metadata": {},
   "outputs": [],
   "source": [
    "def extract_data_from_soup(soup):\n",
    "    data = {}\n",
    "\n",
    "    # Extract fields using a loop\n",
    "    fields = {\n",
    "        'dublin-core-title': 'Title',\n",
    "        'dublin-core-identifier': 'Identifier',\n",
    "        'dublin-core-subject': 'Subject',\n",
    "        'dublin-core-description': 'Description',\n",
    "        'dublin-core-creator': 'Creator',\n",
    "        'dublin-core-format': 'Format',\n",
    "        'dublin-core-date': 'Date',\n",
    "        'dublin-core-medium': 'Medium',\n",
    "        'physical-object-item-type-metadata-donor': 'Donor',\n",
    "        'item-citation': 'Citation'\n",
    "    }\n",
    "\n",
    "    for field_id, field_name in fields.items():\n",
    "        element = soup.find('div', {'id': field_id})\n",
    "        if element:\n",
    "            data[field_name] = element.find('div', {'class': 'element-text'}).get_text(strip=True)\n",
    "\n",
    "    # Extract tags\n",
    "    data['Tags'] = [tag.get_text(strip=True) for tag in soup.find_all('a', {'rel': 'tag'})]\n",
    "\n",
    "    # Extract image URL\n",
    "    '''\n",
    "    image_element = soup.find('div', {'id': 'item-images'})\n",
    "    if image_element:\n",
    "        data['Image URL'] = image_element.find('a')['href']\n",
    "    '''\n",
    "\n",
    "    # Extract collection link\n",
    "    collection_element = soup.find('div', {'id': 'collection'})\n",
    "    if collection_element:\n",
    "        data['Collection Link'] = collection_element.find('a')['href']\n",
    "\n",
    "    return data\n",
    "    #print(f\"{key}: {value}\\n\")\n"
   ]
  },
  {
   "cell_type": "code",
   "execution_count": 9,
   "id": "47d13cb3",
   "metadata": {},
   "outputs": [
    {
     "name": "stdout",
     "output_type": "stream",
     "text": [
      "Data saved to data/extracted_data.json\n"
     ]
    }
   ],
   "source": [
    "import json\n",
    "\n",
    "# Initialize a list to store all extracted data\n",
    "all_data = []\n",
    "\n",
    "# Extract data from each soup and append to the list\n",
    "for soup in soups:\n",
    "    data = extract_data_from_soup(soup)\n",
    "    all_data.append(data)\n",
    "\n",
    "# Save the extracted data to a JSON file\n",
    "with open(\"data/extracted_data.json\", \"w\", encoding=\"utf-8\") as json_file:\n",
    "    json.dump(all_data, json_file, ensure_ascii=False, indent=4)\n",
    "\n",
    "print(\"Data saved to data/extracted_data.json\")"
   ]
  },
  {
   "cell_type": "code",
   "execution_count": 10,
   "id": "7badee5b",
   "metadata": {},
   "outputs": [
    {
     "name": "stdout",
     "output_type": "stream",
     "text": [
      "Data saved to data/extracted_data.json\n"
     ]
    }
   ],
   "source": [
    "def scrape_omeka():\n",
    "    # Initialize a list to store all extracted data\n",
    "    all_data = []\n",
    "\n",
    "    # Extract data from each soup and append to the list\n",
    "    for soup in soups:\n",
    "        data = extract_data_from_soup(soup)\n",
    "        all_data.append(data)\n",
    "\n",
    "    # Save the extracted data to a JSON file\n",
    "    with open(\"data/extracted_data.json\", \"w\", encoding=\"utf-8\") as json_file:\n",
    "        json.dump(all_data, json_file, ensure_ascii=False, indent=4)\n",
    "\n",
    "    print(\"Data saved to data/extracted_data.json\")\n",
    "if __name__ == \"__main__\":\n",
    "    scrape_omeka()"
   ]
  },
  {
   "cell_type": "code",
   "execution_count": 15,
   "id": "a542a08d",
   "metadata": {},
   "outputs": [
    {
     "name": "stdout",
     "output_type": "stream",
     "text": [
      "Appended 10 records to data/extracted_data.json\n",
      "Processed page: https://miamiuniversityartmuseum.omeka.net/items/browse?page=0\n",
      "Appended 10 records to data/extracted_data.json\n",
      "Processed page: https://miamiuniversityartmuseum.omeka.net/items/browse\n",
      "Appended 10 records to data/extracted_data.json\n",
      "Processed page: https://miamiuniversityartmuseum.omeka.net/items/browse?page=2\n"
     ]
    }
   ],
   "source": [
    "from bs4 import BeautifulSoup\n",
    "import requests\n",
    "import json\n",
    "import os\n",
    "\n",
    "def generate_page_urls(base_url, total_pages):\n",
    "    urls = []\n",
    "    for i in range(0, total_pages + 1):\n",
    "        if i == 1:\n",
    "            urls.append(base_url)\n",
    "        else:\n",
    "            urls.append(base_url + \"?page=\" + str(i))\n",
    "    return urls\n",
    "\n",
    "def get_item_links(page_url):\n",
    "    response = requests.get(page_url)\n",
    "    if response.status_code != 200:\n",
    "        print(\"Failed to retrieve\", page_url, \"Status code:\", response.status_code)\n",
    "        return []\n",
    "\n",
    "    soup = BeautifulSoup(response.text, 'html.parser')\n",
    "    links = []\n",
    "    for a in soup.find_all('a', href=True):\n",
    "        if a['href'].startswith('/items/show/'):\n",
    "            full_url = \"https://miamiuniversityartmuseum.omeka.net\" + a['href']\n",
    "            links.append(full_url)\n",
    "    return links\n",
    "\n",
    "def fetch_soup(url):\n",
    "    response = requests.get(url)\n",
    "    if response.status_code != 200:\n",
    "        print(\"Failed to retrieve\", url, \"Status code:\", response.status_code)\n",
    "        return None\n",
    "    return BeautifulSoup(response.text, 'html.parser')\n",
    "\n",
    "def extract_data_from_soup(soup):\n",
    "    data = {}\n",
    "    fields = {\n",
    "        'dublin-core-title': 'Title',\n",
    "        'dublin-core-identifier': 'Identifier',\n",
    "        'dublin-core-subject': 'Subject',\n",
    "        'dublin-core-description': 'Description',\n",
    "        'dublin-core-creator': 'Creator',\n",
    "        'dublin-core-format': 'Format',\n",
    "        'dublin-core-date': 'Date',\n",
    "        'dublin-core-medium': 'Medium',\n",
    "        'physical-object-item-type-metadata-donor': 'Donor',\n",
    "        'item-citation': 'Citation'\n",
    "    }\n",
    "\n",
    "    for field_id, field_name in fields.items():\n",
    "        element = soup.find('div', {'id': field_id})\n",
    "        if element:\n",
    "            text_element = element.find('div', {'class': 'element-text'})\n",
    "            if text_element:\n",
    "                data[field_name] = text_element.get_text(strip=True)\n",
    "\n",
    "    tags = []\n",
    "    for tag in soup.find_all('a', {'rel': 'tag'}):\n",
    "        tags.append(tag.get_text(strip=True))\n",
    "    data['Tags'] = tags\n",
    "\n",
    "    collection_element = soup.find('div', {'id': 'collection'})\n",
    "    if collection_element:\n",
    "        link = collection_element.find('a')\n",
    "        if link:\n",
    "            data['Collection Link'] = link['href']\n",
    "\n",
    "    return data\n",
    "\n",
    "def append_to_json(data, output_path):\n",
    "    if os.path.exists(output_path):\n",
    "        with open(output_path, 'r', encoding='utf-8') as f:\n",
    "            existing_data = json.load(f)\n",
    "    else:\n",
    "        existing_data = []\n",
    "\n",
    "    existing_data.extend(data)\n",
    "\n",
    "    with open(output_path, 'w', encoding='utf-8') as f:\n",
    "        json.dump(existing_data, f, ensure_ascii=False, indent=4)\n",
    "\n",
    "    print(\"Appended\", len(data), \"records to\", output_path)\n",
    "\n",
    "def scrape_omeka(base_url, total_pages, output_path):\n",
    "    page_urls = generate_page_urls(base_url, total_pages)\n",
    "\n",
    "    for page_url in page_urls:\n",
    "        page_data = []\n",
    "        item_links = get_item_links(page_url)\n",
    "        for item_url in item_links:\n",
    "            soup = fetch_soup(item_url)\n",
    "            if soup:\n",
    "                data = extract_data_from_soup(soup)\n",
    "                page_data.append(data)\n",
    "\n",
    "        append_to_json(page_data, output_path)\n",
    "        print(\"Processed page:\", page_url)\n",
    "\n",
    "def main():\n",
    "    base_url = \"https://miamiuniversityartmuseum.omeka.net/items/browse\"\n",
    "    total_pages = 2\n",
    "    output_path = \"data/extracted_data.json\"\n",
    "    scrape_omeka(base_url, total_pages, output_path)\n",
    "\n",
    "if __name__ == \"__main__\":\n",
    "    main()\n"
   ]
  },
  {
   "cell_type": "code",
   "execution_count": null,
   "id": "86073b56",
   "metadata": {},
   "outputs": [],
   "source": []
  }
 ],
 "metadata": {
  "kernelspec": {
   "display_name": ".venv",
   "language": "python",
   "name": "python3"
  },
  "language_info": {
   "codemirror_mode": {
    "name": "ipython",
    "version": 3
   },
   "file_extension": ".py",
   "mimetype": "text/x-python",
   "name": "python",
   "nbconvert_exporter": "python",
   "pygments_lexer": "ipython3",
   "version": "3.10.7"
  }
 },
 "nbformat": 4,
 "nbformat_minor": 5
}
