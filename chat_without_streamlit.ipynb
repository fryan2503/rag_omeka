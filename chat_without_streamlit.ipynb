{
 "cells": [
  {
   "cell_type": "markdown",
   "id": "af66394c",
   "metadata": {},
   "source": [
    "# Development Notebook"
   ]
  },
  {
   "cell_type": "code",
   "execution_count": 1,
   "id": "98e6273d",
   "metadata": {},
   "outputs": [],
   "source": [
    "EMBEDDINGS_DIRECTORY = './vstore' # directory of stored embeddings"
   ]
  },
  {
   "cell_type": "code",
   "execution_count": 2,
   "id": "e98bd12b",
   "metadata": {},
   "outputs": [],
   "source": [
    "from dotenv import load_dotenv\n",
    "import os\n",
    "from langchain_core.runnables import RunnableParallel, RunnablePassthrough\n",
    "from langchain_core.output_parsers import StrOutputParser\n",
    "import json\n",
    "from langchain.vectorstores import FAISS\n",
    "from langchain_nomic.embeddings import NomicEmbeddings\n",
    "from langchain.schema import Document\n",
    "from langchain_ollama import OllamaLLM\n",
    "from langchain_ollama import ChatOllama\n",
    "from langchain.prompts import (\n",
    "    ChatPromptTemplate,\n",
    "    HumanMessagePromptTemplate,\n",
    "    SystemMessagePromptTemplate,\n",
    "    PromptTemplate\n",
    ")"
   ]
  },
  {
   "cell_type": "code",
   "execution_count": null,
   "id": "c31466bb",
   "metadata": {},
   "outputs": [],
   "source": [
    "OPENAI_API_KEY = os.getenv(\"OPENAI_API_KEY\")"
   ]
  },
  {
   "cell_type": "code",
   "execution_count": null,
   "id": "a99dfaad",
   "metadata": {},
   "outputs": [
    {
     "name": "stdout",
     "output_type": "stream",
     "text": [
      "Underneath the twinkling stars by the Miami University fountain, a playful unicorn with shimmering mane danced joyfully, sprinkling stardust that filled the air with dreams of adventure for all the students sleeping nearby.\n"
     ]
    }
   ],
   "source": [
    "from openai import OpenAI\n",
    "client = OpenAI()\n",
    "\n",
    "response = client.responses.create(\n",
    "    model=\"gpt-4o-mini\",\n",
    "    input=\"Write a one-sentence bedtime story about a unicorn at Miami University\"\n",
    ")\n",
    "\n",
    "print(response.output_text)"
   ]
  },
  {
   "cell_type": "code",
   "execution_count": null,
   "id": "3e40c1a6",
   "metadata": {},
   "outputs": [],
   "source": [
    "embedding_model = NomicEmbeddings(model=\"nomic-embed-text-v1.5\", inference_mode=\"local\")\n",
    "vectorstore = FAISS.load_local(\n",
    "  'scripts/vstore', \n",
    "  embeddings = embedding_model, \n",
    "  allow_dangerous_deserialization = True\n",
    "  )\n",
    "retriever = vectorstore.as_retriever(search_kwargs={\"k\": 10, \"fetch_k\": 20})"
   ]
  },
  {
   "cell_type": "code",
   "execution_count": null,
   "id": "8aa7d0c8",
   "metadata": {},
   "outputs": [
    {
     "name": "stderr",
     "output_type": "stream",
     "text": [
      "Embedding texts: 100%|██████████| 1/1 [00:00<00:00, 27.12inputs/s]\n"
     ]
    },
    {
     "data": {
      "text/plain": [
       "[Document(id='4f6118a3-2199-4c1b-be77-056d97aca848', metadata={'id': '2019.13.38', 'title': None, 'creator': 'Felice Beato', 'date': '1860s', 'medium': 'Albumen photoprint', 'format': '9 1/4\" x 11 1/2\"', 'subject': 'Graphic Arts-Photos', 'donor': 'Miami University Art Museum Purchase', 'citation': 'Felice Beato, “[Untitled],”Richard and Carole Cocks Art Museum at Miami University, accessed May 23, 2025,https://miamiuniversityartmuseum.omeka.net/items/show/20613.', 'tags': [], 'collection_link': None}, page_content='Title: Unknown\\nCreator: Felice Beato\\nDate: 1860s\\nMedium: Albumen photoprint\\nFormat: 9 1/4\" x 11 1/2\"\\nSubject: Graphic Arts-Photos\\nDescription: Looking under an arch to another building, presumably a temple'),\n",
       " Document(id='f75546a4-c7c7-4250-abfb-e467744756bd', metadata={'id': '2019.13.36', 'title': 'The Children of a Brother of Mr. Guikado', 'creator': 'Felice Beato', 'date': '1860s', 'medium': 'Albumen photoprint', 'format': '9\" x 11 3/4\"', 'subject': 'Graphic Arts-Photos', 'donor': 'Miami University Art Museum Purchase', 'citation': 'Felice Beato, “The Children of a Brother of Mr. Guikado,”Richard and Carole Cocks Art Museum at Miami University, accessed May 23, 2025,https://miamiuniversityartmuseum.omeka.net/items/show/20611.', 'tags': [], 'collection_link': None}, page_content='Title: The Children of a Brother of Mr. Guikado\\nCreator: Felice Beato\\nDate: 1860s\\nMedium: Albumen photoprint\\nFormat: 9\" x 11 3/4\"\\nSubject: Graphic Arts-Photos\\nDescription: Portrait of two people looking across a body of water at buildings'),\n",
       " Document(id='4838e4a3-9109-480f-a5ea-73a8a84b684d', metadata={'id': '2020.12.6', 'title': 'Elisabeth + Benght The Photograph Saddle River, NJ, 1981', 'creator': 'Donna Ferrato', 'date': '1981', 'medium': 'Archival pigment print', 'format': 'Image Size: 13 1/8\" × 20\" (33.4 × 50.8 cm)Paper Size: 20\" × 24\" (50.8 × 61 cm)', 'subject': 'Graphic Arts-Photos', 'donor': 'Gift of Bradley Griffen and Betsy McCormick', 'citation': 'Donna Ferrato, “Elisabeth + Benght The Photograph Saddle River, NJ, 1981,”Richard and Carole Cocks Art Museum at Miami University, accessed May 23, 2025,https://miamiuniversityartmuseum.omeka.net/items/show/20657.', 'tags': [], 'collection_link': None}, page_content='Title: Elisabeth + Benght The Photograph Saddle River, NJ, 1981\\nCreator: Donna Ferrato\\nDate: 1981\\nMedium: Archival pigment print\\nFormat: Image Size: 13 1/8\" × 20\" (33.4 × 50.8 cm)Paper Size: 20\" × 24\" (50.8 × 61 cm)\\nSubject: Graphic Arts-Photos\\nDescription: A naked man and woman sit on a bed and look at a picture.'),\n",
       " Document(id='a0085fc0-02b3-4052-8bed-0fa043c69353', metadata={'id': '2019.13.39', 'title': None, 'creator': 'Felice Beato', 'date': '1860s', 'medium': 'Albumen photoprint', 'format': '9 1/4\" x 11 1/2\"', 'subject': 'Graphic Arts-Photos', 'donor': 'Miami University Art Museum Purchase', 'citation': 'Felice Beato, “[Untitled],”Richard and Carole Cocks Art Museum at Miami University, accessed May 23, 2025,https://miamiuniversityartmuseum.omeka.net/items/show/20614.', 'tags': [], 'collection_link': None}, page_content='Title: Unknown\\nCreator: Felice Beato\\nDate: 1860s\\nMedium: Albumen photoprint\\nFormat: 9 1/4\" x 11 1/2\"\\nSubject: Graphic Arts-Photos\\nDescription: Portrait of unknown temple'),\n",
       " Document(id='10aad924-d3e9-491e-a914-ea90d01ef683', metadata={'id': '2019.13.42', 'title': None, 'creator': 'Felice Beato', 'date': '1860s', 'medium': 'Albumen photoprint', 'format': '11\" x 9 3/4\"', 'subject': 'Graphic Arts-Photos', 'donor': 'Miami University Art Museum Purchase', 'citation': 'Felice Beato, “[Untitled],”Richard and Carole Cocks Art Museum at Miami University, accessed May 23, 2025,https://miamiuniversityartmuseum.omeka.net/items/show/20617.', 'tags': [], 'collection_link': None}, page_content='Title: Unknown\\nCreator: Felice Beato\\nDate: 1860s\\nMedium: Albumen photoprint\\nFormat: 11\" x 9 3/4\"\\nSubject: Graphic Arts-Photos\\nDescription: Picture of unknown temple'),\n",
       " Document(id='9ed1e07c-b69d-4f56-9a81-82b0ed830497', metadata={'id': '2019.13.37', 'title': 'The Temple of Choo-o-ng Kioto', 'creator': 'Felice Beato', 'date': '1860s', 'medium': 'Albumen photoprint', 'format': '8 1/4\" x 11\"', 'subject': 'Graphic Arts-Photos', 'donor': 'Miami University Art Museum Purchase', 'citation': 'Felice Beato, “The Temple of Choo-o-ng Kioto,”Richard and Carole Cocks Art Museum at Miami University, accessed May 23, 2025,https://miamiuniversityartmuseum.omeka.net/items/show/20612.', 'tags': [], 'collection_link': None}, page_content='Title: The Temple of Choo-o-ng Kioto\\nCreator: Felice Beato\\nDate: 1860s\\nMedium: Albumen photoprint\\nFormat: 8 1/4\" x 11\"\\nSubject: Graphic Arts-Photos\\nDescription: Portrait of temple behind group of trees'),\n",
       " Document(id='8987092a-da30-4c4c-9a0a-3202cb2d6f47', metadata={'id': '2019.13.41', 'title': 'Temple of Asaxa Yedo', 'creator': 'Felice Beato', 'date': '1860s', 'medium': 'Albumen photoprint', 'format': '9 1/4\" x 11 1/4\"', 'subject': 'Graphic Arts-Photos', 'donor': 'Miami University Art Museum Purchase', 'citation': 'Felice Beato, “Temple of Asaxa Yedo,”Richard and Carole Cocks Art Museum at Miami University, accessed May 23, 2025,https://miamiuniversityartmuseum.omeka.net/items/show/20616.', 'tags': [], 'collection_link': None}, page_content='Title: Temple of Asaxa Yedo\\nCreator: Felice Beato\\nDate: 1860s\\nMedium: Albumen photoprint\\nFormat: 9 1/4\" x 11 1/4\"\\nSubject: Graphic Arts-Photos\\nDescription: Picture of the Temple of Asaxa Yedo'),\n",
       " Document(id='7c5144c9-409d-44fa-a969-136e0b01c3c6', metadata={'id': '2019.13.35', 'title': 'Temples at Kamakura', 'creator': 'Felice Beato', 'date': '1860s', 'medium': 'Albumen photoprint', 'format': '9 3/8\" x 11 1/2\"', 'subject': 'Graphic Arts-Photos', 'donor': 'Miami University Art Museum Purchase', 'citation': 'Felice Beato, “Temples at Kamakura,”Richard and Carole Cocks Art Museum at Miami University, accessed May 23, 2025,https://miamiuniversityartmuseum.omeka.net/items/show/20610.', 'tags': [], 'collection_link': None}, page_content='Title: Temples at Kamakura\\nCreator: Felice Beato\\nDate: 1860s\\nMedium: Albumen photoprint\\nFormat: 9 3/8\" x 11 1/2\"\\nSubject: Graphic Arts-Photos\\nDescription: Temples at Kamakura shown with people walking around below'),\n",
       " Document(id='746ad802-c2ff-429c-9561-d11a2c3be7c5', metadata={'id': '2019.13.34', 'title': 'Gateway Hikone Castle - Lake Biwa', 'creator': 'Felice Beato', 'date': '1860s', 'medium': 'Albumen photoprint', 'format': '9 3/4\" x 11 3/8\"', 'subject': 'Graphic Arts-Photos', 'donor': 'Miami University Art Museum Purchase', 'citation': 'Felice Beato, “Gateway Hikone Castle - Lake Biwa,”Richard and Carole Cocks Art Museum at Miami University, accessed May 23, 2025,https://miamiuniversityartmuseum.omeka.net/items/show/20609.', 'tags': [], 'collection_link': None}, page_content='Title: Gateway Hikone Castle - Lake Biwa\\nCreator: Felice Beato\\nDate: 1860s\\nMedium: Albumen photoprint\\nFormat: 9 3/4\" x 11 3/8\"\\nSubject: Graphic Arts-Photos\\nDescription: Portrait of a group of people outside a gateway'),\n",
       " Document(id='4dfded76-98f4-4e6f-81e5-b87f8c32ed62', metadata={'id': '2020.12.7', 'title': 'Elisabeth + Bength Saddle River, NJ, 1981', 'creator': 'Donna Ferrato', 'date': '1981', 'medium': 'Archival pigment print', 'format': 'Image Size: 13 3/8\" × 20\" (35 × 50.9 cm)Paper Size: 20\" × 24\" (50.7 × 62 cm)', 'subject': 'Graphic Arts-Photos', 'donor': 'Gift of Bradley Griffen and Betsy McCormick', 'citation': 'Donna Ferrato, “Elisabeth + Bength Saddle River, NJ, 1981,”Richard and Carole Cocks Art Museum at Miami University, accessed May 23, 2025,https://miamiuniversityartmuseum.omeka.net/items/show/20658.', 'tags': [], 'collection_link': None}, page_content='Title: Elisabeth + Bength Saddle River, NJ, 1981\\nCreator: Donna Ferrato\\nDate: 1981\\nMedium: Archival pigment print\\nFormat: Image Size: 13 3/8\" × 20\" (35 × 50.9 cm)Paper Size: 20\" × 24\" (50.7 × 62 cm)\\nSubject: Graphic Arts-Photos\\nDescription: A naked man and woman lay together, up close.')]"
      ]
     },
     "execution_count": 42,
     "metadata": {},
     "output_type": "execute_result"
    }
   ],
   "source": [
    "retriever.get_relevant_documents(\"photos?\") # Example query"
   ]
  },
  {
   "cell_type": "code",
   "execution_count": null,
   "id": "144e393f",
   "metadata": {},
   "outputs": [],
   "source": [
    "local_llm = OllamaLLM(model=\"llama3\")\n",
    "llm = ChatOllama(model=\"llama3\", temperature=0)\n",
    "llm_json_mode = ChatOllama(model=\"llama3\", temperature=0, format=\"json\")"
   ]
  },
  {
   "cell_type": "code",
   "execution_count": null,
   "id": "853c2931",
   "metadata": {},
   "outputs": [],
   "source": [
    "system_temp = (\n",
    "    \"You are an expert art historian working for the Richard and Carole Cocks Art Museum at Miami University. \"\n",
    "    \"You will be provided with a question and a set of contextual documents related to artworks, artists, or cultural history.\\n\\n\"\n",
    "    \"Your task is to analyze the documents carefully and provide a thoughtful, accurate, and well-supported response based strictly on the information provided.\\n\\n\"\n",
    "    \"Question: {question}\\n\\n\"\n",
    "    \"Context: {context}\\n\\n\"\n",
    "    \"If the answer cannot be found in the provided context, respond with: 'I don't know.'\"\n",
    ")\n"
   ]
  },
  {
   "cell_type": "code",
   "execution_count": null,
   "id": "a1140aca",
   "metadata": {},
   "outputs": [],
   "source": [
    "prompt = ChatPromptTemplate(\n",
    "    input_variables=[\"context\", \"question\"],\n",
    "    messages=[\n",
    "        HumanMessagePromptTemplate(\n",
    "            prompt=PromptTemplate(\n",
    "                input_variables=[\"context\", \"question\"],\n",
    "                template=system_temp\n",
    "            )\n",
    "        )\n",
    "    ]\n",
    ")"
   ]
  },
  {
   "cell_type": "code",
   "execution_count": null,
   "id": "d15b5e72",
   "metadata": {},
   "outputs": [
    {
     "name": "stderr",
     "output_type": "stream",
     "text": [
      "Embedding texts: 100%|██████████| 1/1 [00:00<00:00, 24.97inputs/s]\n"
     ]
    }
   ],
   "source": [
    "docs = retriever.get_relevant_documents(\"What is the medium of the artwork?\")"
   ]
  },
  {
   "cell_type": "code",
   "execution_count": null,
   "id": "3d09e844",
   "metadata": {},
   "outputs": [
    {
     "name": "stderr",
     "output_type": "stream",
     "text": [
      "Embedding texts: 100%|██████████| 1/1 [00:00<00:00, 17.78inputs/s]\n"
     ]
    },
    {
     "name": "stdout",
     "output_type": "stream",
     "text": [
      "What a fascinating collection of photographs! As an art historian, I'll do my best to provide a comprehensive answer based on the context provided.\n",
      "\n",
      "**Photographs by Felice Beato:**\n",
      "\n",
      "1. **Unknown**: A photograph showing a temple or shrine under an archway.\n",
      "2. **The Children of a Brother of Mr. Guikado**: A portrait of two people looking across a body of water at buildings, likely in Japan.\n",
      "3. **Unknown Temple**: A portrait of an unknown temple, possibly in Japan.\n",
      "4. **Temples at Kamakura**: A photograph showing temples at Kamakura, Japan, with people walking around below.\n",
      "5. **Temple of Asaxa Yedo**: A photograph of the Temple of Asaxa Yedo, likely located in Tokyo, Japan.\n",
      "6. **The Temple of Choo-o-ng Kioto**: A portrait of a temple behind a group of trees, possibly located in Kyoto, Japan.\n",
      "\n",
      "These photographs are all albumen prints from the 1860s, which is consistent with Beato's work during that period. He was a pioneering photographer who worked extensively in Asia, particularly in Japan and China.\n",
      "\n",
      "**Photographs by Donna Ferrato:**\n",
      "\n",
      "1. **Elisabeth + Benght**: A photograph of a naked man and woman sitting on a bed, looking at a picture (1981).\n",
      "2. **34 Leonard St. Limited Edition Homes Tribeca**: A black-and-white photograph of construction workers (2007).\n",
      "3. **Lovers and Holy Child Nun**: A black-and-white photograph of a nun in the foreground, with two lovers kissing in the background, taken in Venice, Italy (1986).\n",
      "\n",
      "These photographs are all archival pigment prints from the 1980s and 2000s, which is consistent with Ferrato's work during that period. She is known for her documentary photography and social commentary.\n",
      "\n",
      "In summary, I have identified six photographs by Felice Beato, a pioneering photographer who worked in Asia during the 1860s, and three photographs by Donna Ferrato, a documentary photographer known for her social commentary.\n"
     ]
    }
   ],
   "source": [
    "rag_chain = (\n",
    "    RunnablePassthrough.assign(context=lambda x: \"\\n\\n\".join(d.page_content for d in retriever.get_relevant_documents(x[\"question\"])))\n",
    "    | prompt\n",
    "    | llm\n",
    "    | StrOutputParser()\n",
    ")\n",
    "\n",
    "# 4. Run the model (just provide the question!)\n",
    "response = rag_chain.invoke({\"question\": \"list the photographs and be sure to check if they are photos \"})\n",
    "print(response)"
   ]
  },
  {
   "cell_type": "code",
   "execution_count": null,
   "id": "7fdd1143",
   "metadata": {},
   "outputs": [
    {
     "name": "stderr",
     "output_type": "stream",
     "text": [
      "Embedding texts: 100%|██████████| 1/1 [00:00<00:00, 21.76inputs/s]\n"
     ]
    },
    {
     "name": "stdout",
     "output_type": "stream",
     "text": [
      "What a fascinating collection of artworks! Based on the provided context, I'll focus on \"The Long Voyage Home\" by Varujan Boghosian (1996).\n",
      "\n",
      "\"The Long Voyage Home\" appears to be a mixed-media painting that depicts a wooden sailboat at night. The artwork features a paper sail, wood mast, painted background, and a circular wooden moon with glitter. This piece seems to evoke a sense of tranquility and serenity, perhaps capturing the peacefulness of being out on the water under the stars.\n",
      "\n",
      "In comparison to other artworks in this collection, \"The Long Voyage Home\" stands out for its unique blend of materials and textures. The use of wood, paper, paint, and glue creates a visually interesting piece that invites the viewer to explore its various elements.\n",
      "\n",
      "It's also worth noting that the title \"The Long Voyage Home\" might be interpreted as a metaphorical journey rather than just a literal one. This could lead to discussions about the themes of travel, exploration, or even the search for home and belonging.\n",
      "\n",
      "If you'd like me to analyze any specific aspects of this artwork or draw connections to other pieces in the collection, please let me know!\n"
     ]
    }
   ],
   "source": [
    "response = rag_chain.invoke({\"question\": \"Tell me more about the long voyage home \"})\n",
    "print(response)"
   ]
  },
  {
   "cell_type": "code",
   "execution_count": null,
   "id": "9fba60fa",
   "metadata": {},
   "outputs": [],
   "source": []
  }
 ],
 "metadata": {
  "kernelspec": {
   "display_name": ".venv",
   "language": "python",
   "name": "python3"
  },
  "language_info": {
   "codemirror_mode": {
    "name": "ipython",
    "version": 3
   },
   "file_extension": ".py",
   "mimetype": "text/x-python",
   "name": "python",
   "nbconvert_exporter": "python",
   "pygments_lexer": "ipython3",
   "version": "3.10.7"
  }
 },
 "nbformat": 4,
 "nbformat_minor": 5
}
