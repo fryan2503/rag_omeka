{
 "cells": [
  {
   "cell_type": "code",
   "execution_count": 265,
   "id": "e3c1f315",
   "metadata": {},
   "outputs": [],
   "source": [
    "EMBEDDINGS_DIRECTORY = './vstore' # directory of stored embeddings"
   ]
  },
  {
   "cell_type": "code",
   "execution_count": null,
   "id": "583d7241",
   "metadata": {},
   "outputs": [],
   "source": [
    "from langchain_ollama import ChatOllama\n",
    "from langchain.vectorstores import FAISS\n",
    "from langchain_nomic.embeddings import NomicEmbeddings\n",
    "from langchain_openai import ChatOpenAI\n",
    "from langchain_core.messages import HumanMessage, SystemMessage\n",
    "from typing import Annotated\n",
    "from typing_extensions import TypedDict\n",
    "from langchain_core.messages import AnyMessage, AIMessage, SystemMessage, HumanMessage\n",
    "from langgraph.graph.message import add_messages\n",
    "from typing import List, Annotated"
   ]
  },
  {
   "cell_type": "markdown",
   "id": "869bf09e",
   "metadata": {},
   "source": [
    "# Embedding and Vector Store"
   ]
  },
  {
   "cell_type": "code",
   "execution_count": 279,
   "id": "bc838681",
   "metadata": {},
   "outputs": [],
   "source": [
    "embedding_model = NomicEmbeddings(model=\"nomic-embed-text-v1.5\", inference_mode=\"local\")\n",
    "\n",
    "vectorstore = FAISS.load_local(\n",
    "  EMBEDDINGS_DIRECTORY, \n",
    "  embeddings = embedding_model, \n",
    "  allow_dangerous_deserialization = True\n",
    "  )\n",
    "retriever = vectorstore.as_retriever(search_kwargs={\"k\": 5})"
   ]
  },
  {
   "cell_type": "markdown",
   "id": "cc2eb8e6",
   "metadata": {},
   "source": [
    "# LLM"
   ]
  },
  {
   "cell_type": "code",
   "execution_count": 268,
   "id": "e5338c0c",
   "metadata": {},
   "outputs": [
    {
     "data": {
      "text/plain": [
       "AIMessage(content=\"I am LLaMA, an AI assistant developed by Meta AI that can understand and respond to human input in a conversational manner. I'm not a human, but rather a computer program designed to simulate conversation and answer questions to the best of my ability based on my training.\\n\\nI'm a type of artificial intelligence (AI) called a large language model (LLM), which means I've been trained on a massive dataset of text from various sources, including books, articles, and online conversations. This training enables me to understand and generate human-like language, allowing us to have a conversation that feels natural and engaging.\\n\\nI can answer questions, provide information, offer suggestions, and even engage in creative activities like storytelling or generating ideas. I'm constantly learning and improving my responses based on the interactions I have with users like you, so please bear with me if I make any mistakes – it's all part of my ongoing development!\", additional_kwargs={}, response_metadata={'model': 'llama3', 'created_at': '2025-06-08T20:16:56.770504Z', 'done': True, 'done_reason': 'stop', 'total_duration': 9800067250, 'load_duration': 3352103458, 'prompt_eval_count': 14, 'prompt_eval_duration': 531041250, 'eval_count': 187, 'eval_duration': 5913812792, 'message': Message(role='assistant', content='', images=None, tool_calls=None), 'model_name': 'llama3'}, id='run-37fc0b3a-2a0b-4143-80bf-a741ab5ab23a-0', usage_metadata={'input_tokens': 14, 'output_tokens': 187, 'total_tokens': 201})"
      ]
     },
     "execution_count": 268,
     "metadata": {},
     "output_type": "execute_result"
    }
   ],
   "source": [
    "# llm = ChatOllama(model=\"llama3\", temperature=0)\n",
    "def choose_model(model_name: str):\n",
    "    if model_name == \"ollama\":\n",
    "        return ChatOllama(model=\"llama3\", temperature=0)\n",
    "    elif model_name == \"openai\":\n",
    "        return ChatOpenAI(model=\"gpt-4\", temperature=0)\n",
    "    else:\n",
    "        raise ValueError(f\"Unsupported model name: {model_name}\")\n",
    "llm = choose_model(\"ollama\")\n",
    "llm.invoke(\"what are you \")\n"
   ]
  },
  {
   "cell_type": "markdown",
   "id": "d20e4eab",
   "metadata": {},
   "source": [
    "# Router"
   ]
  },
  {
   "cell_type": "code",
   "execution_count": 269,
   "id": "5d3d18f5",
   "metadata": {},
   "outputs": [],
   "source": [
    "# Prompt\n",
    "router_instructions = \"\"\"You are an expert at routing a user question to a vectorstore or web search.\n",
    "\n",
    "The vectorstore contains documents related 17000 objects in the Miami University's Richard and Carole Cocks Art Museum collection, including: paintings, sculptures, and photographs.\n",
    "\n",
    "Use the vectorstore for questions on these topics. For all else, and especially for current events, use web-search.\n",
    "\n",
    "Return JSON with single key, datasource, that is 'websearch' or 'vectorstore' depending on the question.\"\"\"\n"
   ]
  },
  {
   "cell_type": "markdown",
   "id": "9dd6af6f",
   "metadata": {},
   "source": [
    "# LangGraph"
   ]
  },
  {
   "cell_type": "code",
   "execution_count": 270,
   "id": "4d89d34f",
   "metadata": {},
   "outputs": [],
   "source": [
    "class State(TypedDict):\n",
    "    messages: Annotated[list[AnyMessage], add_messages]\n",
    "    route: str \n",
    "    documents: List[str] \n",
    "    question: str\n",
    "    generation: str\n",
    "    keywords: str"
   ]
  },
  {
   "cell_type": "code",
   "execution_count": 271,
   "id": "9510f8ec",
   "metadata": {},
   "outputs": [],
   "source": [
    "rag_prompt = \"\"\"You are an assistant for question-answering tasks. \n",
    "\n",
    "Here is the context to use to answer the question:\n",
    "\n",
    "{context} \n",
    "\n",
    "Think carefully about the above context. \n",
    "\n",
    "Now, review the user question:\n",
    "\n",
    "{question}\n",
    "\n",
    "Provide an answer to this questions using only the above context. \n",
    "\n",
    "Use three sentences maximum and keep the answer concise.\n",
    "\n",
    "Answer:\"\"\""
   ]
  },
  {
   "cell_type": "markdown",
   "id": "f0c57aa2",
   "metadata": {},
   "source": [
    "# Nodes"
   ]
  },
  {
   "cell_type": "code",
   "execution_count": 272,
   "id": "aa89e7ff",
   "metadata": {},
   "outputs": [],
   "source": [
    "def extract_keywords(state):\n",
    "    print(\"--- Extracting Keywords ---\")\n",
    "    question = state[\"question\"]\n",
    "\n",
    "    # Strict and focused prompt\n",
    "    prompt = (\n",
    "        \"You are an art museum curator using a vector search engine to retrieve artworks from a digital collection. \"\n",
    "        \"Extract only the most relevant search keywords from the user's question.\\n\\n\"\n",
    "        \"Your output MUST be:\\n\"\n",
    "        \"- A strict list of relevant keywords or short phrases\\n\"\n",
    "        \"- Comma-separated\\n\"\n",
    "        \"No explanations, no extra text, no labels\\n\"\n",
    "        \" Only keywords related to paintings, artists, styles, periods, materials, etc.\\n\\n\"\n",
    "        \"Correct format:\\n\"\n",
    "        \"Input: What are some oil paintings by Van Gogh from his time in Arles?\\n\"\n",
    "        \"Output:  Van Gogh, oil painting, Arles\\n\\n\"\n",
    "        \"Do NOT output like this:\\n\"\n",
    "        \"- 'Here are your keywords: ...'\\n\"\n",
    "        \"- 'The relevant terms are...'\\n\"\n",
    "        \"- Any bullet points or sentences\\n\\n\"\n",
    "        f\"User question: \\\"{question}\\\"\\n\"\n",
    "        \"Keywords (comma-separated):\"\n",
    "    )\n",
    "\n",
    "    # LLM call\n",
    "    keywords = llm.invoke([HumanMessage(content=prompt)]).content.strip()\n",
    "\n",
    "    print(f\"Extracted Keywords from the question: {keywords}\")\n",
    "    return {\"keywords\": keywords}\n",
    "\n",
    "\n",
    "\n",
    "\n",
    "def retrieve(state): # Retriver\n",
    "    \"\"\"\n",
    "    Retrieve documents from vectorstore\n",
    "\n",
    "    Args:\n",
    "        state (dict): The current graph state\n",
    "\n",
    "    Returns:\n",
    "        state (dict): New key added to state, documents, that contains retrieved documents\n",
    "    \"\"\"\n",
    "    print(\"---RETRIEVE---\")\n",
    "    keywords = state[\"keywords\"]\n",
    "    question = state[\"question\"]\n",
    "\n",
    "    documents_question = retriever.invoke(question)\n",
    "    documents_keywords = retriever.invoke(keywords)\n",
    "\n",
    "    # Deduplicate by page content\n",
    "    seen_pages = set()\n",
    "    unique_documents = []\n",
    "    for doc in documents_question + documents_keywords:\n",
    "        if doc.page_content not in seen_pages:\n",
    "            unique_documents.append(doc)\n",
    "            seen_pages.add(doc.page_content)\n",
    "\n",
    "    print(f\"Retrieved {len(unique_documents)} unique documents for question: {question} with keywords: {keywords}\")\n",
    "    return {\"documents\": unique_documents}\n",
    "\n",
    "\n",
    "def generate(state):\n",
    "    \"\"\"\n",
    "\n",
    "    Generate an AI response using the LLM, given the current state and retrieved documents.\n",
    "\n",
    "    Args:\n",
    "        state (dict): The current graph state, expected to contain 'messages' and 'documents'.\n",
    "\n",
    "    Returns:\n",
    "        dict: Updated state with the AI response appended to the 'messages' key.\n",
    "    \"\"\"\n",
    "    print(\"-----GENERATE------\")\n",
    "\n",
    "    question = state[\"question\"]\n",
    "    documents = state[\"documents\"]\n",
    "    \n",
    "    context = \"\\n\".join([doc.page_content for doc in documents])  # adjust if needed\n",
    "    prompt = rag_prompt.format(context=context, question=question)\n",
    "    generation = llm.invoke([HumanMessage(content=prompt)])\n",
    "    return {\"generation\": generation}"
   ]
  },
  {
   "cell_type": "code",
   "execution_count": 273,
   "id": "7c754c8c",
   "metadata": {},
   "outputs": [],
   "source": [
    "### Search\n",
    "from langchain_community.tools.tavily_search import TavilySearchResults\n",
    "\n",
    "web_search_tool = TavilySearchResults(k=3)"
   ]
  },
  {
   "cell_type": "code",
   "execution_count": 274,
   "id": "e22f57eb",
   "metadata": {},
   "outputs": [
    {
     "data": {
      "image/png": "[encoded data removed]",
      "text/plain": [
       "<IPython.core.display.Image object>"
      ]
     },
     "metadata": {},
     "output_type": "display_data"
    }
   ],
   "source": [
    "from langgraph.graph import START, END, StateGraph\n",
    "from IPython.display import Image, display\n",
    "builder = StateGraph(State)\n",
    "\n",
    "# Nodes \n",
    "builder.add_node(\"retrieve\", retrieve)\n",
    "builder.add_node(\"generate\", generate)\n",
    "builder.add_node(\"extract_keywords\",extract_keywords)\n",
    "\n",
    "# Edges\n",
    "builder.add_edge(START, \"extract_keywords\")\n",
    "builder.add_edge(\"extract_keywords\",\"retrieve\")\n",
    "builder.add_edge(\"retrieve\", \"generate\")\n",
    "builder.add_edge(\"generate\", END)\n",
    "\n",
    "# Add\n",
    "graph = builder.compile()\n",
    "\n",
    "# View\n",
    "display(Image(graph.get_graph().draw_mermaid_png()))"
   ]
  },
  {
   "cell_type": "code",
   "execution_count": 281,
   "id": "2310d0af",
   "metadata": {},
   "outputs": [
    {
     "name": "stdout",
     "output_type": "stream",
     "text": [
      "--- Extracting Keywords ---\n",
      "Extracted Keywords from the question: Van Gogh, Miami University Art Museum\n",
      "---RETRIEVE---\n"
     ]
    },
    {
     "name": "stderr",
     "output_type": "stream",
     "text": [
      "Embedding texts: 100%|██████████| 1/1 [00:00<00:00,  9.24inputs/s]\n",
      "Embedding texts: 100%|██████████| 1/1 [00:00<00:00, 51.54inputs/s]"
     ]
    },
    {
     "name": "stdout",
     "output_type": "stream",
     "text": [
      "Retrieved 6 unique documents for question: Find me some paintings by Van Gogh in the Miami University Art Museum collection. with keywords: Van Gogh, Miami University Art Museum\n",
      "-----GENERATE------\n"
     ]
    },
    {
     "name": "stderr",
     "output_type": "stream",
     "text": [
      "\n"
     ]
    },
    {
     "name": "stdout",
     "output_type": "stream",
     "text": [
      "Based on the provided context, I found that George Deem created a painting titled \"Van Gogh's Bedroom at Arles\" in 1979, which is part of the Miami University Art Museum collection. This painting is categorized under Modern & Contemporary-Paintings-20th C. & Later. Unfortunately, there are no original paintings by Van Gogh himself in the collection, as Deem's work is a reproduction or interpretation of Van Gogh's famous piece.\n"
     ]
    }
   ],
   "source": [
    "question = {\"question\":\"Find me some paintings by Van Gogh in the Miami University Art Museum collection.\"}\n",
    "response = graph.invoke(question)\n",
    "print(response[\"generation\"].content)"
   ]
  },
  {
   "cell_type": "code",
   "execution_count": 276,
   "id": "654bd289",
   "metadata": {},
   "outputs": [
    {
     "name": "stdout",
     "output_type": "stream",
     "text": [
      "--- Extracting Keywords ---\n",
      "Extracted Keywords from the question: Ives, The Long Voyage Home, painting\n",
      "---RETRIEVE---\n"
     ]
    },
    {
     "name": "stderr",
     "output_type": "stream",
     "text": [
      "Embedding texts: 100%|██████████| 1/1 [00:00<00:00, 23.05inputs/s]\n",
      "Embedding texts: 100%|██████████| 1/1 [00:00<00:00, 118.23inputs/s]"
     ]
    },
    {
     "name": "stdout",
     "output_type": "stream",
     "text": [
      "Retrieved 7 unique documents for question: tell me more about 'The Long Voyage Home' with keywords: Ives, The Long Voyage Home, painting\n",
      "-----GENERATE------\n"
     ]
    },
    {
     "name": "stderr",
     "output_type": "stream",
     "text": [
      "\n"
     ]
    },
    {
     "name": "stdout",
     "output_type": "stream",
     "text": [
      "Based on the provided context, here's the answer:\n",
      "\n",
      "\"The Long Voyage Home\" is a mixed-media painting created by Varujan Boghosian in 1996. The artwork features a wooden sailboat at night with a paper sail, wood mast, painted background, and a circular wooden moon with glitter.\n"
     ]
    }
   ],
   "source": [
    "question = {\"question\":\"tell me more about 'The Long Voyage Home'\"}\n",
    "response = graph.invoke(question)\n",
    "print(response[\"generation\"].content)"
   ]
  },
  {
   "cell_type": "code",
   "execution_count": 280,
   "id": "f52537aa",
   "metadata": {},
   "outputs": [
    {
     "name": "stdout",
     "output_type": "stream",
     "text": [
      "--- Extracting Keywords ---\n",
      "Extracted Keywords from the question: Pima, jar\n",
      "---RETRIEVE---\n"
     ]
    },
    {
     "name": "stderr",
     "output_type": "stream",
     "text": [
      "Embedding texts: 100%|██████████| 1/1 [00:00<00:00,  8.14inputs/s]\n",
      "Embedding texts: 100%|██████████| 1/1 [00:00<00:00, 71.50inputs/s]"
     ]
    },
    {
     "name": "stdout",
     "output_type": "stream",
     "text": [
      "Retrieved 3 unique documents for question: tell me more about 'Pima jar' with keywords: Pima, jar\n",
      "-----GENERATE------\n"
     ]
    },
    {
     "name": "stderr",
     "output_type": "stream",
     "text": [
      "\n"
     ]
    },
    {
     "name": "stdout",
     "output_type": "stream",
     "text": [
      "The \"Pima jar\" is a Native American basket created by the Pima people in the early 20th century. The exact medium used to create the jar is unknown, but it is made from willow and cottonwood materials. It is part of the Edna M. Kelly Collection and is classified under African, Oceanic & New World Cultures-North America.\n"
     ]
    }
   ],
   "source": [
    "question = {\"question\":\"tell me more about 'Pima jar'\"}\n",
    "response = graph.invoke(question)\n",
    "print(response[\"generation\"].content)"
   ]
  },
  {
   "cell_type": "code",
   "execution_count": null,
   "id": "47f1f2b4",
   "metadata": {},
   "outputs": [],
   "source": []
  }
 ],
 "metadata": {
  "kernelspec": {
   "display_name": ".venv",
   "language": "python",
   "name": "python3"
  },
  "language_info": {
   "codemirror_mode": {
    "name": "ipython",
    "version": 3
   },
   "file_extension": ".py",
   "mimetype": "text/x-python",
   "name": "python",
   "nbconvert_exporter": "python",
   "pygments_lexer": "ipython3",
   "version": "3.10.7"
  }
 },
 "nbformat": 4,
 "nbformat_minor": 5
}
