{
 "cells": [
  {
   "cell_type": "markdown",
   "id": "ea5b5d69",
   "metadata": {},
   "source": [
    "# Dev Notebook"
   ]
  },
  {
   "cell_type": "code",
   "execution_count": 4,
   "id": "dbaa2f3c",
   "metadata": {},
   "outputs": [],
   "source": [
    "EMBEDDINGS_DIRECTORY = './vstore' # directory to store embeddings"
   ]
  },
  {
   "cell_type": "code",
   "execution_count": null,
   "id": "19fde8ae",
   "metadata": {},
   "outputs": [],
   "source": [
    "import json\n",
    "from langchain.vectorstores import FAISS\n",
    "from langchain_nomic.embeddings import NomicEmbeddings\n",
    "from langchain.schema import Document"
   ]
  },
  {
   "cell_type": "code",
   "execution_count": 6,
   "id": "02374963",
   "metadata": {},
   "outputs": [],
   "source": [
    "with open(\"/Users/ryan/PycharmProjects/pythonProject/College/projects/rag_omeka/data/extracted_data.json\") as file:\n",
    "    data = json.load(file)"
   ]
  },
  {
   "cell_type": "code",
   "execution_count": 7,
   "id": "afebd87d",
   "metadata": {},
   "outputs": [
    {
     "name": "stdout",
     "output_type": "stream",
     "text": [
      "Title: Untitled III, Description token length: 49\n",
      "Title: Gathering of the Clans, Description token length: 39\n",
      "Title: Pink Cone, Description token length: 82\n",
      "Title: Sunliners #7, Description token length: 76\n",
      "Title: Van Ness, Santa Monica, Melrose, Description token length: 78\n",
      "Title: Melrose, Market, Description token length: 78\n",
      "Title: Untitled, Description token length: 30\n",
      "Title: Desolate, Description token length: 75\n",
      "Title: Ear 1968, Description token length: 55\n",
      "Title: Palo Alto, Description token length: 57\n",
      "Title: Untitled, Description token length: 35\n",
      "Title: Untitled, Description token length: 35\n",
      "Title: Manhattan, Description token length: 60\n",
      "Title: Untitled, Description token length: 37\n",
      "Title: The Nut Trees, Description token length: 74\n",
      "Title: Child and Star, Description token length: 43\n",
      "Title: Diver (Masthead Diver), Description token length: 47\n",
      "Title: Untitled, Description token length: 33\n",
      "Title: Pulsar, Description token length: 47\n",
      "Title: Ten Winter Tools: Snips, Description token length: 0\n",
      "Title: Traveler's Dream, Description token length: 7\n",
      "Title: Ten Winter Tools: Wire Stripper, Description token length: 9\n",
      "Title: Ten Winter Tools: Scissors, Description token length: 14\n",
      "Title: X, Description token length: 8\n",
      "Title: Canal - Etaples, France, Description token length: 15\n",
      "Title: Martigues, Description token length: 12\n",
      "Title: Indian Camp, Description token length: 12\n",
      "Title: Angry Bird, Description token length: 19\n",
      "Title: Full Moon, Description token length: 40\n",
      "Title: Valazquez Hands, Description token length: 11\n",
      "Title: Untitled, Description token length: 8\n",
      "Title: Untitled, Description token length: 22\n",
      "Title: Untitled, Description token length: 32\n",
      "Title: Keat's Last Letter, Description token length: 16\n",
      "Title: The Long Voyage Home, Description token length: 16\n",
      "Title: 60 T-Bird, Description token length: 17\n",
      "Title: SK-ED, Description token length: 21\n",
      "Title: Red and Blue Ball, Description token length: 21\n",
      "Title: Under The El, Description token length: 17\n",
      "Title: Untitled, Description token length: 34\n",
      "Title: Untitled, Description token length: 28\n",
      "Title: The Five and Ten, Description token length: 38\n",
      "Title: Black and White Bathrobe, Description token length: 8\n",
      "Title: Maternity, Description token length: 21\n",
      "Title: African/American, Description token length: 6\n",
      "Title: Toothbrush, Description token length: 8\n",
      "Title: Kenny Putting On Makeup, Description token length: 7\n",
      "Title: Untitled, Description token length: 17\n",
      "Title: Untitled, Description token length: 7\n",
      "Title: Untitled, (Salt Portfolio), Description token length: 5\n",
      "Title: Sub-Total, Description token length: 6\n",
      "Title: Untitled, Description token length: 8\n",
      "Title: Elisabeth + Bength Saddle River, NJ, 1982, Description token length: 18\n",
      "Title: Elisabeth + Bength Saddle River, NJ, 1981, Description token length: 9\n",
      "Title: Elisabeth + Benght The Photograph Saddle River, NJ, 1981, Description token length: 14\n",
      "Title: Elisabeth + Bength (Lisa + Garth) \"in the bathroom\" Saddle River, NJ, 1981, Description token length: 15\n",
      "Title: The Holmgren Saga Saddle River, NJ 1981, Description token length: 12\n",
      "Title: After Meredith's husband broke her arm, she hit the road with Rebel, her dog. The loyal duo walked from Oregon to California and never looked back. Santa Cruz, CA, 1999, Description token length: 12\n",
      "Title: Margo left her abusive husband with her daughters so they wouldn't grow up thinking abuse was normal. Marin County, CA 2011, Description token length: 17\n",
      "Title: Untitled (from Transformations), Description token length: 16\n",
      "Title: Untitled (from Transformations), Description token length: 12\n",
      "Title: Jane Goodall, Description token length: 9\n",
      "Title: Lola Santos, Description token length: 11\n",
      "Title: Revolutionary Road, W. Broadway & Worth Tribeca, Description token length: 11\n",
      "Title: 34 Leonard St. Limited Edition Homes Tribeca, Description token length: 7\n",
      "Title: SIOUX SISTERS, Pine Ridge Reservation, SD, Description token length: 13\n",
      "Title: Wissam in the Morning, Western Syria, Description token length: 0\n",
      "Title: Margaret Atwood, Author of \"The Handmaids Tale\", Description token length: 0\n",
      "Title: First Battered Women's Conference, Kansas City, MO, Description token length: 0\n",
      "Title: Lovers and Holy Child Nun, Description token length: 19\n",
      "Title: Contact sheet with car, Description token length: 2\n",
      "Title: Contact sheet with woman, Description token length: 2\n",
      "Title: Contact Sheet w/ bus, Description token length: 2\n",
      "Title: Register and Vote, Description token length: 24\n",
      "Title: James Foreman and Andrew Goodman, Description token length: 27\n",
      "Title: Chaney Family - Waiting to Hear About Their Son, Description token length: 6\n",
      "Title: Sheriff and Dredged Up Civil Rights Workers' Station Wagon, Description token length: 11\n",
      "Title: Jerome Smith (one of the Original Freedom Riders) Looks at Bullet Holes in Fannie Lou Hamer's Door, Description token length: 11\n",
      "Title: John Lewis, Description token length: 25\n",
      "Title: Searching for the Civil Rights Workers, Description token length: 9\n",
      "Title: Rita Schwerner, Description token length: 13\n",
      "Title: Boys on the Bridge Laughing, Description token length: 12\n",
      "Title: Freedom Now, Description token length: 21\n",
      "Title: James Baldwin and Nephew at National Memorial Bookstore, Description token length: 11\n",
      "Title: Non-Violence Resistance Training, Description token length: 16\n",
      "Title: Woman and Flag, Description token length: 28\n",
      "Title: Man in Overalls (Dave Dennis), Description token length: 11\n",
      "Title: Fannie Lou Hamer, Description token length: 13\n",
      "Title: Bob Moses, Description token length: 4\n",
      "Title: We Shall Overcome; Summer Freedom Bus, Description token length: 20\n",
      "Title: N/A, Description token length: 4\n",
      "Title: Temple of Asaxa Yedo, Description token length: 7\n",
      "Title: The Great Bell at the Kobo-Daishi Temple Near Kawasaki, Description token length: 9\n",
      "Title: N/A, Description token length: 4\n",
      "Title: N/A, Description token length: 10\n",
      "Title: The Temple of Choo-o-ng Kioto, Description token length: 7\n",
      "Title: The Children of a Brother of Mr. Guikado, Description token length: 12\n",
      "Title: Temples at Kamakura, Description token length: 9\n",
      "Title: Gateway Hikone Castle - Lake Biwa, Description token length: 9\n"
     ]
    }
   ],
   "source": [
    "for item in data:\n",
    "    desc = item.get('Description', '')\n",
    "    print(f\"Title: {item.get('Title', 'N/A')}, Description token length: {len(desc.split())}\")"
   ]
  },
  {
   "cell_type": "code",
   "execution_count": 11,
   "id": "bc69ad75",
   "metadata": {},
   "outputs": [],
   "source": [
    "# Create documents\n",
    "docs = []\n",
    "for art in data:\n",
    "    # Create a readable summary for embedding (page_content)\n",
    "    page_content = (\n",
    "        f\"Title: {art.get('Title', 'Unknown')}\\n\"\n",
    "        f\"Creator: {art.get('Creator', 'Unknown')}\\n\"\n",
    "        f\"Date: {art.get('Date', 'Unknown')}\\n\"\n",
    "        f\"Medium: {art.get('Medium', 'Unknown')}\\n\"\n",
    "        f\"Format: {art.get('Format', 'Unknown')}\\n\"\n",
    "        f\"Subject: {art.get('Subject', 'Unknown')}\\n\"\n",
    "        f\"Description: {art.get('Description', 'No description provided.')}\"\n",
    "    )\n",
    "\n",
    "    # Create metadata dictionary\n",
    "    metadata = {\n",
    "        \"id\": art.get(\"Identifier\"),\n",
    "        \"title\": art.get(\"Title\"),\n",
    "        \"creator\": art.get(\"Creator\"),\n",
    "        \"date\": art.get(\"Date\"),\n",
    "        \"medium\": art.get(\"Medium\"),\n",
    "        \"format\": art.get(\"Format\"),\n",
    "        \"subject\": art.get(\"Subject\"),\n",
    "        \"donor\": art.get(\"Donor\"),\n",
    "        \"citation\": art.get(\"Citation\"),\n",
    "        \"tags\": art.get(\"Tags\", []),\n",
    "        \"collection_link\": art.get(\"Collection Link\")\n",
    "    }\n",
    "\n",
    "    docs.append(Document(page_content=page_content, metadata=metadata))"
   ]
  },
  {
   "cell_type": "code",
   "execution_count": null,
   "id": "638c7c49",
   "metadata": {},
   "outputs": [
    {
     "name": "stderr",
     "output_type": "stream",
     "text": [
      "Embedding texts: 100%|██████████| 99/99 [00:03<00:00, 28.40inputs/s]\n"
     ]
    }
   ],
   "source": [
    "embedding_model = NomicEmbeddings(model=\"nomic-embed-text-v1.5\", inference_mode=\"local\")\n",
    "vectorstore = FAISS.from_documents(\n",
    "    documents=docs,\n",
    "    embedding=embedding_model\n",
    ")\n",
    "# Persist the FAISS index to disk\n",
    "vectorstore.save_local(EMBEDDINGS_DIRECTORY)\n",
    "\n",
    " # Create retriever\n",
    "retriever = vectorstore.as_retriever(k=3)"
   ]
  },
  {
   "cell_type": "code",
   "execution_count": 14,
   "id": "2a702c1d",
   "metadata": {},
   "outputs": [
    {
     "name": "stderr",
     "output_type": "stream",
     "text": [
      "Embedding texts: 100%|██████████| 1/1 [00:00<00:00, 18.34inputs/s]\n"
     ]
    },
    {
     "data": {
      "text/plain": [
       "[Document(metadata={'id': '2019.13.38', 'title': None, 'creator': 'Felice Beato', 'date': '1860s', 'medium': 'Albumen photoprint', 'format': '9 1/4\" x 11 1/2\"', 'subject': 'Graphic Arts-Photos', 'donor': 'Miami University Art Museum Purchase', 'citation': 'Felice Beato, “[Untitled],”Richard and Carole Cocks Art Museum at Miami University, accessed May 23, 2025,https://miamiuniversityartmuseum.omeka.net/items/show/20613.', 'tags': [], 'collection_link': None}, page_content='Title: Unknown\\nCreator: Felice Beato\\nDate: 1860s\\nMedium: Albumen photoprint\\nFormat: 9 1/4\" x 11 1/2\"\\nSubject: Graphic Arts-Photos\\nDescription: Looking under an arch to another building, presumably a temple'),\n",
       " Document(metadata={'id': '2019.23.11', 'title': 'Searching for the Civil Rights Workers', 'creator': 'Steve Schapiro', 'date': '1964', 'medium': 'Silver Gelatin print', 'format': 'Paper Size: 15 3/4\" x 19 11/16\" (40 x 50 cm)', 'subject': 'Graphic Arts-photos', 'donor': 'Partial Gift of Stephen Schapiro and Partial Purchase by Miami University Art Museum with contributions from the Kezur Endowment Fund', 'citation': 'Steve Schapiro, “Searching for the Civil Rights Workers,”Richard and Carole Cocks Art Museum at Miami University, accessed May 23, 2025,https://miamiuniversityartmuseum.omeka.net/items/show/20628.', 'tags': [], 'collection_link': None}, page_content='Title: Searching for the Civil Rights Workers\\nCreator: Steve Schapiro\\nDate: 1964\\nMedium: Silver Gelatin print\\nFormat: Paper Size: 15 3/4\" x 19 11/16\" (40 x 50 cm)\\nSubject: Graphic Arts-photos\\nDescription: A group of men are searching through the brush'),\n",
       " Document(metadata={'id': '2019.13.36', 'title': 'The Children of a Brother of Mr. Guikado', 'creator': 'Felice Beato', 'date': '1860s', 'medium': 'Albumen photoprint', 'format': '9\" x 11 3/4\"', 'subject': 'Graphic Arts-Photos', 'donor': 'Miami University Art Museum Purchase', 'citation': 'Felice Beato, “The Children of a Brother of Mr. Guikado,”Richard and Carole Cocks Art Museum at Miami University, accessed May 23, 2025,https://miamiuniversityartmuseum.omeka.net/items/show/20611.', 'tags': [], 'collection_link': None}, page_content='Title: The Children of a Brother of Mr. Guikado\\nCreator: Felice Beato\\nDate: 1860s\\nMedium: Albumen photoprint\\nFormat: 9\" x 11 3/4\"\\nSubject: Graphic Arts-Photos\\nDescription: Portrait of two people looking across a body of water at buildings'),\n",
       " Document(metadata={'id': '2020.12.6', 'title': 'Elisabeth + Benght The Photograph Saddle River, NJ, 1981', 'creator': 'Donna Ferrato', 'date': '1981', 'medium': 'Archival pigment print', 'format': 'Image Size: 13 1/8\" × 20\" (33.4 × 50.8 cm)Paper Size: 20\" × 24\" (50.8 × 61 cm)', 'subject': 'Graphic Arts-Photos', 'donor': 'Gift of Bradley Griffen and Betsy McCormick', 'citation': 'Donna Ferrato, “Elisabeth + Benght The Photograph Saddle River, NJ, 1981,”Richard and Carole Cocks Art Museum at Miami University, accessed May 23, 2025,https://miamiuniversityartmuseum.omeka.net/items/show/20657.', 'tags': [], 'collection_link': None}, page_content='Title: Elisabeth + Benght The Photograph Saddle River, NJ, 1981\\nCreator: Donna Ferrato\\nDate: 1981\\nMedium: Archival pigment print\\nFormat: Image Size: 13 1/8\" × 20\" (33.4 × 50.8 cm)Paper Size: 20\" × 24\" (50.8 × 61 cm)\\nSubject: Graphic Arts-Photos\\nDescription: A naked man and woman sit on a bed and look at a picture.')]"
      ]
     },
     "execution_count": 14,
     "metadata": {},
     "output_type": "execute_result"
    }
   ],
   "source": [
    "retriever.get_relevant_documents(\"find photos\") "
   ]
  },
  {
   "cell_type": "code",
   "execution_count": 16,
   "id": "81bb7639",
   "metadata": {},
   "outputs": [
    {
     "name": "stderr",
     "output_type": "stream",
     "text": [
      "Embedding texts: 100%|██████████| 1/1 [00:00<00:00, 25.05inputs/s]\n"
     ]
    },
    {
     "data": {
      "text/plain": [
       "[Document(id='b15c8f05-7eef-4e3a-9706-fa9a30c6dd01', metadata={'id': '2019.13.38', 'title': None, 'creator': 'Felice Beato', 'date': '1860s', 'medium': 'Albumen photoprint', 'format': '9 1/4\" x 11 1/2\"', 'subject': 'Graphic Arts-Photos', 'donor': 'Miami University Art Museum Purchase', 'citation': 'Felice Beato, “[Untitled],”Richard and Carole Cocks Art Museum at Miami University, accessed May 23, 2025,https://miamiuniversityartmuseum.omeka.net/items/show/20613.', 'tags': [], 'collection_link': None}, page_content='Title: Unknown\\nCreator: Felice Beato\\nDate: 1860s\\nMedium: Albumen photoprint\\nFormat: 9 1/4\" x 11 1/2\"\\nSubject: Graphic Arts-Photos\\nDescription: Looking under an arch to another building, presumably a temple'),\n",
       " Document(id='b8478d8b-3660-4760-a8d5-aa3a34146826', metadata={'id': '2019.13.35', 'title': 'Temples at Kamakura', 'creator': 'Felice Beato', 'date': '1860s', 'medium': 'Albumen photoprint', 'format': '9 3/8\" x 11 1/2\"', 'subject': 'Graphic Arts-Photos', 'donor': 'Miami University Art Museum Purchase', 'citation': 'Felice Beato, “Temples at Kamakura,”Richard and Carole Cocks Art Museum at Miami University, accessed May 23, 2025,https://miamiuniversityartmuseum.omeka.net/items/show/20610.', 'tags': [], 'collection_link': None}, page_content='Title: Temples at Kamakura\\nCreator: Felice Beato\\nDate: 1860s\\nMedium: Albumen photoprint\\nFormat: 9 3/8\" x 11 1/2\"\\nSubject: Graphic Arts-Photos\\nDescription: Temples at Kamakura shown with people walking around below'),\n",
       " Document(id='cce40bb7-7046-46d5-ba6a-52f06ee08f61', metadata={'id': '2019.23.11', 'title': 'Searching for the Civil Rights Workers', 'creator': 'Steve Schapiro', 'date': '1964', 'medium': 'Silver Gelatin print', 'format': 'Paper Size: 15 3/4\" x 19 11/16\" (40 x 50 cm)', 'subject': 'Graphic Arts-photos', 'donor': 'Partial Gift of Stephen Schapiro and Partial Purchase by Miami University Art Museum with contributions from the Kezur Endowment Fund', 'citation': 'Steve Schapiro, “Searching for the Civil Rights Workers,”Richard and Carole Cocks Art Museum at Miami University, accessed May 23, 2025,https://miamiuniversityartmuseum.omeka.net/items/show/20628.', 'tags': [], 'collection_link': None}, page_content='Title: Searching for the Civil Rights Workers\\nCreator: Steve Schapiro\\nDate: 1964\\nMedium: Silver Gelatin print\\nFormat: Paper Size: 15 3/4\" x 19 11/16\" (40 x 50 cm)\\nSubject: Graphic Arts-photos\\nDescription: A group of men are searching through the brush'),\n",
       " Document(id='e86fa180-4e18-41be-b929-bf4eedb653b6', metadata={'id': '2019.13.42', 'title': None, 'creator': 'Felice Beato', 'date': '1860s', 'medium': 'Albumen photoprint', 'format': '11\" x 9 3/4\"', 'subject': 'Graphic Arts-Photos', 'donor': 'Miami University Art Museum Purchase', 'citation': 'Felice Beato, “[Untitled],”Richard and Carole Cocks Art Museum at Miami University, accessed May 23, 2025,https://miamiuniversityartmuseum.omeka.net/items/show/20617.', 'tags': [], 'collection_link': None}, page_content='Title: Unknown\\nCreator: Felice Beato\\nDate: 1860s\\nMedium: Albumen photoprint\\nFormat: 11\" x 9 3/4\"\\nSubject: Graphic Arts-Photos\\nDescription: Picture of unknown temple')]"
      ]
     },
     "execution_count": 16,
     "metadata": {},
     "output_type": "execute_result"
    }
   ],
   "source": [
    "retriever.invoke(\"Find me religious art century\") # this should return 3 documents"
   ]
  },
  {
   "cell_type": "code",
   "execution_count": null,
   "id": "123c7ebe",
   "metadata": {},
   "outputs": [],
   "source": []
  }
 ],
 "metadata": {
  "kernelspec": {
   "display_name": ".venv",
   "language": "python",
   "name": "python3"
  },
  "language_info": {
   "codemirror_mode": {
    "name": "ipython",
    "version": 3
   },
   "file_extension": ".py",
   "mimetype": "text/x-python",
   "name": "python",
   "nbconvert_exporter": "python",
   "pygments_lexer": "ipython3",
   "version": "3.10.7"
  }
 },
 "nbformat": 4,
 "nbformat_minor": 5
}
