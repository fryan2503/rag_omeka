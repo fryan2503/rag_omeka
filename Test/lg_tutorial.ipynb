{
 "cells": [
  {
   "cell_type": "code",
   "execution_count": 1,
   "id": "e62e60e2",
   "metadata": {},
   "outputs": [],
   "source": [
    "from typing import Annotated\n",
    "\n",
    "from typing_extensions import TypedDict\n",
    "\n",
    "from langgraph.graph import StateGraph, START\n",
    "from langgraph.graph.message import add_messages\n",
    "\n",
    "\n",
    "class State(TypedDict):\n",
    "    # Messages have the type \"list\". The `add_messages` function\n",
    "    # in the annotation defines how this state key should be updated\n",
    "    # (in this case, it appends messages to the list, rather than overwriting them)\n",
    "    messages: Annotated[list, add_messages]\n",
    "\n",
    "\n",
    "graph_builder = StateGraph(State)"
   ]
  },
  {
   "cell_type": "code",
   "execution_count": 6,
   "id": "83edd931",
   "metadata": {},
   "outputs": [
    {
     "data": {
      "text/plain": [
       "AIMessage(content='Miami University is a prominent public research university located in Oxford, Ohio. Founded in 1809, it is one of the oldest universities in the United States and is known for its strong undergraduate programs, vibrant campus community, and emphasis on experiential learning. Miami University offers a wide range of undergraduate, graduate, and professional degree programs across various fields, including arts and sciences, business, education, engineering, and health sciences.\\n\\nThe university is renowned for its beautiful campus, which features historic architecture, lush green spaces, and modern facilities. It also emphasizes a global perspective, offering study abroad opportunities and diverse student populations. Miami University is committed to fostering a supportive environment that promotes personal growth, academic excellence, and leadership development.', additional_kwargs={}, response_metadata={'token_usage': {'completion_tokens': 143, 'prompt_tokens': 10, 'total_tokens': 153, 'completion_tokens_details': {'accepted_prediction_tokens': 0, 'audio_tokens': 0, 'reasoning_tokens': 0, 'rejected_prediction_tokens': 0}, 'prompt_tokens_details': {'audio_tokens': 0, 'cached_tokens': 0}}, 'model_name': 'gpt-4.1-nano', 'system_fingerprint': 'fp_eede8f0d45', 'finish_reason': 'stop', 'logprobs': None}, id='run-ca8c308a-8035-4e20-881b-5b8978bcdc05-0')"
      ]
     },
     "execution_count": 6,
     "metadata": {},
     "output_type": "execute_result"
    }
   ],
   "source": [
    "import os \n",
    "from langchain.chat_models import ChatOpenAI\n",
    "llm = ChatOpenAI(model=\"gpt-4.1-nano\")\n",
    "llm.invoke(\"Explain Miami University\")"
   ]
  },
  {
   "cell_type": "code",
   "execution_count": 7,
   "id": "7df2ae28",
   "metadata": {},
   "outputs": [
    {
     "data": {
      "text/plain": [
       "<langgraph.graph.state.StateGraph at 0x1081b0520>"
      ]
     },
     "execution_count": 7,
     "metadata": {},
     "output_type": "execute_result"
    }
   ],
   "source": [
    "def chatbot(state: State):\n",
    "    return {\"messages\": [llm.invoke(state[\"messages\"])]}\n",
    "\n",
    "\n",
    "# The first argument is the unique node name\n",
    "# The second argument is the function or object that will be called whenever\n",
    "# the node is used.\n",
    "graph_builder.add_node(\"chatbot\", chatbot)"
   ]
  },
  {
   "cell_type": "code",
   "execution_count": 8,
   "id": "7cdee731",
   "metadata": {},
   "outputs": [
    {
     "data": {
      "text/plain": [
       "<langgraph.graph.state.StateGraph at 0x1081b0520>"
      ]
     },
     "execution_count": 8,
     "metadata": {},
     "output_type": "execute_result"
    }
   ],
   "source": [
    "graph_builder.add_edge(START, \"chatbot\")"
   ]
  },
  {
   "cell_type": "code",
   "execution_count": 9,
   "id": "333111a8",
   "metadata": {},
   "outputs": [],
   "source": [
    "graph = graph_builder.compile()"
   ]
  },
  {
   "cell_type": "code",
   "execution_count": 10,
   "id": "26ac9deb",
   "metadata": {},
   "outputs": [
    {
     "name": "stdout",
     "output_type": "stream",
     "text": [
      "Assistant: Hello! How can I assist you today?\n",
      "Assistant: OpenAI is an artificial intelligence research organization dedicated to developing and promoting friendly AI for the benefit of all humanity. Founded in December 2015 by Elon Musk, Sam Altman, Greg Brockman, Ilya Sutskever, John Schulman, Wojciech Zaremba, and others, OpenAI aims to ensure that artificial general intelligence (AGI) benefits everyone and is developed safely.\n",
      "\n",
      "Some key aspects of OpenAI include:\n",
      "\n",
      "1. **Research and Development:** OpenAI conducts cutting-edge research in machine learning, particularly in natural language processing, reinforcement learning, and other AI subfields.\n",
      "\n",
      "2. **Notable Technologies:** OpenAI is known for creating advanced AI models such as GPT (Generative Pre-trained Transformer) series, including GPT-3 and GPT-4, which are capable of understanding and generating human-like text.\n",
      "\n",
      "3. **Open Source and Collaboration:** While some of OpenAI's models and tools are open source, they also collaborate with the broader AI community to advance the field responsibly.\n",
      "\n",
      "4. **Commercial Applications:** OpenAI offers APIs that allow developers and businesses to integrate AI capabilities into their products, such as chatbots, content creation tools, and more.\n",
      "\n",
      "5. **Ethical Focus:** The organization emphasizes safety, ethics, and the long-term impact of AI, advocating for policies and practices that ensure AI benefits society as a whole.\n",
      "\n",
      "If you're interested in specific aspects of OpenAI, such as their latest projects or technologies, feel free to ask!\n",
      "Assistant: It seems like you're referring to the word \"Escape.\" Could you please clarify or provide more context? Are you looking for the definition, synonyms, or something else related to \"Escape\"?\n",
      "Assistant: It seems like you're referring to \"Escape.\" Could you please provide more context or specify what you're looking for? Are you interested in escape rooms, escape plans, or perhaps something else? Let me know how I can assist you!\n",
      "Assistant: It seems like you're referring to \"Escape.\" Could you please provide more context or specify what you'd like to know or discuss about escape? Are you interested in escape rooms, escape techniques, literature, or something else?\n",
      "Goodbye!\n"
     ]
    }
   ],
   "source": [
    "def stream_graph_updates(user_input: str):\n",
    "    for event in graph.stream({\"messages\": [{\"role\": \"user\", \"content\": user_input}]}):\n",
    "        for value in event.values():\n",
    "            print(\"Assistant:\", value[\"messages\"][-1].content)\n",
    "\n",
    "\n",
    "while True:\n",
    "    try:\n",
    "        user_input = input(\"User: \")\n",
    "        if user_input.lower() in [\"quit\", \"exit\", \"q\"]:\n",
    "            print(\"Goodbye!\")\n",
    "            break\n",
    "        stream_graph_updates(user_input)\n",
    "    except:\n",
    "        # fallback if input() is not available\n",
    "        user_input = \"What do you know about LangGraph?\"\n",
    "        print(\"User: \" + user_input)\n",
    "        stream_graph_updates(user_input)\n",
    "        break"
   ]
  },
  {
   "cell_type": "code",
   "execution_count": 1,
   "id": "e8472734",
   "metadata": {},
   "outputs": [
    {
     "name": "stdout",
     "output_type": "stream",
     "text": [
      "['sleep', 'wolfram-alpha', 'google-search', 'google-search-results-json', 'searx-search-results-json', 'bing-search', 'metaphor-search', 'ddg-search', 'google-books', 'google-lens', 'google-serper', 'google-scholar', 'google-finance', 'google-trends', 'google-jobs', 'google-serper-results-json', 'searchapi', 'searchapi-results-json', 'serpapi', 'dalle-image-generator', 'twilio', 'searx-search', 'merriam-webster', 'wikipedia', 'arxiv', 'golden-query', 'pubmed', 'human', 'awslambda', 'stackexchange', 'sceneXplain', 'graphql', 'openweathermap-api', 'dataforseo-api-search', 'dataforseo-api-search-json', 'eleven_labs_text2speech', 'google_cloud_texttospeech', 'read_file', 'reddit_search', 'news-api', 'tmdb-api', 'podcast-api', 'memorize', 'llm-math', 'open-meteo-api', 'requests', 'requests_get', 'requests_post', 'requests_patch', 'requests_put', 'requests_delete', 'terminal']\n"
     ]
    }
   ],
   "source": [
    "from langchain.agents import load_tools, get_all_tool_names\n",
    "\n",
    "# Retrieve all available tool names\n",
    "tool_names = get_all_tool_names()\n",
    "print(tool_names)"
   ]
  },
  {
   "cell_type": "code",
   "execution_count": null,
   "id": "248b7fcd",
   "metadata": {},
   "outputs": [],
   "source": []
  }
 ],
 "metadata": {
  "kernelspec": {
   "display_name": ".venv",
   "language": "python",
   "name": "python3"
  },
  "language_info": {
   "codemirror_mode": {
    "name": "ipython",
    "version": 3
   },
   "file_extension": ".py",
   "mimetype": "text/x-python",
   "name": "python",
   "nbconvert_exporter": "python",
   "pygments_lexer": "ipython3",
   "version": "3.10.7"
  }
 },
 "nbformat": 4,
 "nbformat_minor": 5
}
