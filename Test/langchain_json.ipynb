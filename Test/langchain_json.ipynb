{
 "cells": [
  {
   "cell_type": "code",
   "execution_count": 1,
   "id": "1132f509",
   "metadata": {},
   "outputs": [],
   "source": [
    "from langchain_ollama import OllamaLLM\n",
    "from langchain_ollama import ChatOllama\n",
    "local_llm = OllamaLLM(model=\"llama3\")\n",
    "llm = ChatOllama(model=\"llama3\", temperature=0)\n",
    "llm_json_mode = ChatOllama(model=\"llama3\", temperature=0, format=\"json\")"
   ]
  },
  {
   "cell_type": "markdown",
   "id": "a9639cb6",
   "metadata": {},
   "source": [
    "# Splitting\n"
   ]
  },
  {
   "cell_type": "code",
   "execution_count": 2,
   "id": "6cbb5a42",
   "metadata": {},
   "outputs": [],
   "source": [
    "import json\n",
    "from langchain_text_splitters import RecursiveJsonSplitter\n",
    "\n",
    "with open(\"data/extracted_data.json\") as f:\n",
    "    json_data = json.load(f)\n",
    "\n",
    "# Fix top-level list if needed\n",
    "if isinstance(json_data, list):\n",
    "    json_data = {str(i): item for i, item in enumerate(json_data)}\n",
    "\n",
    "splitter = RecursiveJsonSplitter(max_chunk_size=200)\n",
    "\n",
    "texts = splitter.split_text(json_data=json_data, convert_lists=True)\n"
   ]
  },
  {
   "cell_type": "code",
   "execution_count": 3,
   "id": "e3674e09",
   "metadata": {},
   "outputs": [],
   "source": [
    "from langchain_core.documents import Document\n",
    "\n",
    "# Convert each string chunk into a Document object\n",
    "docs = [Document(page_content=text) for text in texts]"
   ]
  },
  {
   "cell_type": "code",
   "execution_count": 11,
   "id": "908f63e3",
   "metadata": {},
   "outputs": [
    {
     "data": {
      "text/plain": [
       "[Document(metadata={}, page_content='{\"0\": {\"Title\": \"Untitled III\", \"Identifier\": \"2024.25\", \"Subject\": \"Graphic Arts-Prints\"}}'),\n",
       " Document(metadata={}, page_content='{\"0\": {\"Description\": \"Print by the title \\\\\"Untitled III\\\\\" done by etching and screenprint process on paper in 1978 by American artist Adja Yunkers (1900-1983) as indicated by his signature in pencil. Marked in pencil with the edition number \\\\\"6\\\\\" of an edition of 40 produced.Raised black abstract image on black background.\"}}'),\n",
       " Document(metadata={}, page_content='{\"0\": {\"Creator\": \"Adja Yunkers (American, b. Latvia, 1900-1983)\", \"Format\": \"PrintImage Size: 23 3/4 inches x 16 1/2 inches\", \"Date\": \"1978\", \"Medium\": \"Etching and screen print process on paper\"}}'),\n",
       " Document(metadata={}, page_content='{\"0\": {\"Donor\": \"Gift of Jeffrey L. Horrell \\'75 and Rodney F. Rose\"}}'),\n",
       " Document(metadata={}, page_content='{\"0\": {\"Citation\": \"Adja Yunkers (American, b. Latvia, 1900-1983), \\\\u201cUntitled III,\\\\u201dRichard and Carole Cocks Art Museum at Miami University, accessed April 28, 2025,https://miamiuniversityartmuseum.omeka.net/items/show/20713.\"}}'),\n",
       " Document(metadata={}, page_content='{\"0\": {\"Tags\": {\"0\": \"20th Century\", \"1\": \"Abstract\", \"2\": \"Adja Yunkers\", \"3\": \"African Oceanic and New World Cultures\", \"4\": \"African Oceanic and New World Cultures-North America\"}}}'),\n",
       " Document(metadata={}, page_content='{\"0\": {\"Tags\": {\"5\": \"American\", \"6\": \"etching\", \"7\": \"European\", \"8\": \"Graphic Arts\", \"9\": \"Graphic Arts-Prints\", \"10\": \"Latvia\", \"11\": \"North American\", \"12\": \"Paper\", \"13\": \"Print\"}}}'),\n",
       " Document(metadata={}, page_content='{\"0\": {\"Tags\": {\"14\": \"Screenprint\", \"15\": \"United States\"}, \"Collection Link\": \"/collections/show/25\"}}'),\n",
       " Document(metadata={}, page_content='{\"1\": {\"Title\": \"Gathering of the Clans\", \"Identifier\": \"2024.24\", \"Subject\": \"Graphic Arts-Prints\"}}'),\n",
       " Document(metadata={}, page_content='{\"1\": {\"Description\": \"Print by the title \\\\\"Gathering of the Clans\\\\\" done by color woodcut process on paper in 1952 by American artist Adja Yunkers (1900-1983) as indicated by his signature, title and date in pencil. Printed in an edition of 95.\"}}'),\n",
       " Document(metadata={}, page_content='{\"1\": {\"Creator\": \"Adja Yunkers (American, b. Latvia, 1900-1983)\", \"Format\": \"PrintImage Size: 19 inches x 13 1/2 inches\", \"Date\": \"1952\", \"Medium\": \"Color woodcut process on paper\"}}'),\n",
       " Document(metadata={}, page_content='{\"1\": {\"Donor\": \"Gift of Jeffrey L. Horrell \\'75 and Rodney F. Rose\"}}'),\n",
       " Document(metadata={}, page_content='{\"1\": {\"Citation\": \"Adja Yunkers (American, b. Latvia, 1900-1983), \\\\u201cGathering of the Clans,\\\\u201dRichard and Carole Cocks Art Museum at Miami University, accessed April 28, 2025,https://miamiuniversityartmuseum.omeka.net/items/show/20712.\"}}'),\n",
       " Document(metadata={}, page_content='{\"1\": {\"Tags\": {\"0\": \"20th Century\", \"1\": \"Adja Yunkers\", \"2\": \"African Oceanic and New World Cultures\", \"3\": \"African Oceanic and New World Cultures-North America\", \"4\": \"Anthropomorphic\"}}}'),\n",
       " Document(metadata={}, page_content='{\"1\": {\"Tags\": {\"5\": \"Clan\", \"6\": \"Clans\", \"7\": \"Color woodcut\", \"8\": \"European\", \"9\": \"Gathering\", \"10\": \"Graphic Arts\", \"11\": \"Graphic Arts-Prints\", \"12\": \"Latvia\", \"13\": \"North American\"}}}'),\n",
       " Document(metadata={}, page_content='{\"1\": {\"Tags\": {\"14\": \"Paper\", \"15\": \"Print\", \"16\": \"Tribal\", \"17\": \"Tribal clan\", \"18\": \"Tribal clans\", \"19\": \"United States\", \"20\": \"Woodcut\"}, \"Collection Link\": \"/collections/show/25\"}}'),\n",
       " Document(metadata={}, page_content='{\"2\": {\"Title\": \"Pink Cone\", \"Identifier\": \"2024.23\", \"Subject\": \"Graphic Arts-Prints\"}}'),\n",
       " Document(metadata={}, page_content='{\"2\": {\"Description\": \"Print by the title \\\\\"Pink Cone\\\\\" done by process of hard ground etching printed in pink on gampi paper chine colle in 1995 (edition printed in 2011) by American artist Wayne Thiebaud (1920-2021) as indicated by his signature, date and title in pencil. Also marked in pencil with the edition number \\\\\"11\\\\\" of an edition of 40 produced. Published by the Crown Point Press of San Francisco and printed by Emily York & Daria Sywulak.Line etching in pink of ice cream cone.\"}}'),\n",
       " Document(metadata={}, page_content='{\"2\": {\"Creator\": \"Wayne Thiebaud (American, 1920-2021)\", \"Format\": \"PrintImage Size: 6 1/2 inches x 8 inches\", \"Date\": \"1995\"}}'),\n",
       " Document(metadata={}, page_content='{\"2\": {\"Medium\": \"Hard ground etching printed in pink on gampi paper chine colle\", \"Donor\": \"Gift of Jeffrey L. Horrell \\'75 and Rodney F. Rose\"}}'),\n",
       " Document(metadata={}, page_content='{\"2\": {\"Citation\": \"Wayne Thiebaud (American, 1920-2021), \\\\u201cPink Cone,\\\\u201dRichard and Carole Cocks Art Museum at Miami University, accessed April 28, 2025,https://miamiuniversityartmuseum.omeka.net/items/show/20711.\"}}'),\n",
       " Document(metadata={}, page_content='{\"2\": {\"Tags\": {\"0\": \"20th Century\", \"1\": \"African Oceanic and New World Cultures\", \"2\": \"African Oceanic and New World Cultures-North America\", \"3\": \"American\", \"4\": \"Cone\", \"5\": \"etching\"}}}'),\n",
       " Document(metadata={}, page_content='{\"2\": {\"Tags\": {\"6\": \"Gampi paper chine colle\", \"7\": \"Graphic Arts\", \"8\": \"Graphic Arts-Prints\", \"9\": \"Hard ground etching\", \"10\": \"Ice Cream\", \"11\": \"Line\", \"12\": \"Line etching\", \"13\": \"Lines\"}}}'),\n",
       " Document(metadata={}, page_content='{\"2\": {\"Tags\": {\"14\": \"North American\", \"15\": \"Paper\", \"16\": \"Pink\", \"17\": \"Print\", \"18\": \"United States\", \"19\": \"Wayne Thiebaud\"}, \"Collection Link\": \"/collections/show/25\"}}'),\n",
       " Document(metadata={}, page_content='{\"3\": {\"Title\": \"Sunliners #7\", \"Identifier\": \"2024.22\", \"Subject\": \"Graphic Arts-Prints\"}}'),\n",
       " Document(metadata={}, page_content='{\"3\": {\"Description\": \"Print by the title \\\\\"Sunliners #7\\\\\" done by process of etching and aquatint in colors on Hahnmuhle paper in 1995 by American artist Ed Ruscha (1937- ) as indicated by his signature and date in pencil. The print was published by Pace Editions of New York and printed by Atelier Crommelynck in Paris. Also marked in pencil with the edition number \\\\\"50\\\\\" of an edition of 50 produced.Glass of water in clear glass with black background.\"}}'),\n",
       " Document(metadata={}, page_content='{\"3\": {\"Creator\": \"Edward Ruscha (American, b. 1937)\", \"Format\": \"PrintImage Size: 10 1/2 inches x 7 1/2 inches\", \"Date\": \"1995\", \"Medium\": \"Etching and aquatint in colors on Hahnemuhle paper\"}}'),\n",
       " Document(metadata={}, page_content='{\"3\": {\"Donor\": \"Gift of Jeffrey L. Horrell \\'75 and Rodney F. Rose\"}}'),\n",
       " Document(metadata={}, page_content='{\"3\": {\"Citation\": \"Edward Ruscha (American, b. 1937), \\\\u201cSunliners #7,\\\\u201dRichard and Carole Cocks Art Museum at Miami University, accessed April 28, 2025,https://miamiuniversityartmuseum.omeka.net/items/show/20710.\"}}'),\n",
       " Document(metadata={}, page_content='{\"3\": {\"Tags\": {\"0\": \"20th Century\", \"1\": \"African Oceanic and New World Cultures\", \"2\": \"African Oceanic and New World Cultures-North America\", \"3\": \"American\", \"4\": \"Aquatint\", \"5\": \"Black\"}}}'),\n",
       " Document(metadata={}, page_content='{\"3\": {\"Tags\": {\"6\": \"Clear\", \"7\": \"Edward Ruscha\", \"8\": \"etching\", \"9\": \"Glass\", \"10\": \"Graphic Arts\", \"11\": \"Graphic Arts-Prints\", \"12\": \"Hahnemuhle paper\", \"13\": \"North American\", \"14\": \"Paper\"}}}'),\n",
       " Document(metadata={}, page_content='{\"3\": {\"Tags\": {\"15\": \"Sun\", \"16\": \"United States\", \"17\": \"Water\"}, \"Collection Link\": \"/collections/show/25\"}}'),\n",
       " Document(metadata={}, page_content='{\"4\": {\"Title\": \"Van Ness, Santa Monica, Melrose\", \"Identifier\": \"2024.21\", \"Subject\": \"Graphic Arts-Prints\"}}'),\n",
       " Document(metadata={}, page_content='{\"4\": {\"Description\": \"Print by the title \\\\\"Van Ness, Santa Monica, Vine, Melrose\\\\\" done by direct gravure process on Somerset wove paper in 1999 by American artist Ed Ruscha (1937- ) as indicated by his signature and date in pencil. Marked in pencil with the edition number \\\\\"41\\\\\" of an edition of 50 produced. Published by Crown Point Press of San Francisco, California and is printed by Dena Schuckit.Black and white print of streets and intersections with streets labeled in text.\"}}'),\n",
       " Document(metadata={}, page_content='{\"4\": {\"Creator\": \"Edward Ruscha (American, b. 1937)\", \"Format\": \"PrintImage Size: 16 inches x 20 inches\", \"Date\": \"1999\", \"Medium\": \"Direct gravure process on Somerset wove paper\"}}'),\n",
       " Document(metadata={}, page_content='{\"4\": {\"Donor\": \"Gift of Jeffrey L. Horrell \\'75 and Rodney F. Rose\"}}'),\n",
       " Document(metadata={}, page_content='{\"4\": {\"Citation\": \"Edward Ruscha (American, b. 1937), \\\\u201cVan Ness, Santa Monica, Melrose,\\\\u201dRichard and Carole Cocks Art Museum at Miami University, accessed April 28, 2025,https://miamiuniversityartmuseum.omeka.net/items/show/20709.\"}}'),\n",
       " Document(metadata={}, page_content='{\"4\": {\"Tags\": {\"0\": \"20th Century\", \"1\": \"African Oceanic and New World Cultures\", \"2\": \"African Oceanic and New World Cultures-North America\", \"3\": \"Direct gravure process\", \"4\": \"Edward Ruscha\"}}}'),\n",
       " Document(metadata={}, page_content='{\"4\": {\"Tags\": {\"5\": \"Graphic Arts\", \"6\": \"Graphic Arts-Prints\", \"7\": \"Intersection\", \"8\": \"Intersections\", \"9\": \"Melrose\", \"10\": \"North American\", \"11\": \"Paper\", \"12\": \"Print\"}}}'),\n",
       " Document(metadata={}, page_content='{\"4\": {\"Tags\": {\"13\": \"Santa Monica\", \"14\": \"Somerset wove paper\", \"15\": \"Street\", \"16\": \"Streets\", \"17\": \"United States\", \"18\": \"Van Ness\", \"19\": \"Vine\"}, \"Collection Link\": \"/collections/show/25\"}}'),\n",
       " Document(metadata={}, page_content='{\"5\": {\"Title\": \"Melrose, Market\", \"Identifier\": \"2024.20\", \"Subject\": \"Graphic Arts-Prints\"}}'),\n",
       " Document(metadata={}, page_content='{\"5\": {\"Description\": \"Print by the title \\\\\"Melrose, Market\\\\\" plate 6 from the Los Francisco San Angeles portolio done by soft ground etching process on paper in 2001 by American artist Ed Ruscha (1937- ) as indicated by his signature and date in pencil. Also marked in pencil with the edition number \\\\\"3\\\\\" of an edition of 45 produced. The print was published by Crown Point Press of San Francisco, California.Street intersection of Melrose Ave and Market. Blue and Red coloring.\"}}'),\n",
       " Document(metadata={}, page_content='{\"5\": {\"Creator\": \"Edward Ruscha (American, b. 1937)\", \"Format\": \"PrintImage Size: 8 1/4 inches x 9 1/2 inches\", \"Date\": \"2001\", \"Medium\": \"Soft ground etching on paper\"}}'),\n",
       " Document(metadata={}, page_content='{\"5\": {\"Donor\": \"Gift of Jeffrey L. Horrell \\'75 and Rodney F. Rose\"}}'),\n",
       " Document(metadata={}, page_content='{\"5\": {\"Citation\": \"Edward Ruscha (American, b. 1937), \\\\u201cMelrose, Market,\\\\u201dRichard and Carole Cocks Art Museum at Miami University, accessed April 28, 2025,https://miamiuniversityartmuseum.omeka.net/items/show/20708.\"}}'),\n",
       " Document(metadata={}, page_content='{\"5\": {\"Tags\": {\"0\": \"21st Century\", \"1\": \"African Oceanic and New World Cultures\", \"2\": \"African Oceanic and New World Cultures-North America\", \"3\": \"American\", \"4\": \"Avenue\"}}}'),\n",
       " Document(metadata={}, page_content='{\"5\": {\"Tags\": {\"5\": \"Cross Section\", \"6\": \"Edward Ruscha\", \"7\": \"etching\", \"8\": \"Graphic Arts\", \"9\": \"Graphic Arts-Prints\", \"10\": \"Intersection\", \"11\": \"Market\", \"12\": \"Melrose\"}}}'),\n",
       " Document(metadata={}, page_content='{\"5\": {\"Tags\": {\"13\": \"North American\", \"14\": \"Paper\", \"15\": \"Print\", \"16\": \"Soft ground etching\", \"17\": \"Street\", \"18\": \"Streets\", \"19\": \"United States\"}, \"Collection Link\": \"/collections/show/25\"}}'),\n",
       " Document(metadata={}, page_content='{\"6\": {\"Title\": \"Untitled\", \"Identifier\": \"2024.19\", \"Subject\": \"Modern & Contemporary-Paintings-20th C. & Later\"}}'),\n",
       " Document(metadata={}, page_content='{\"6\": {\"Description\": \"Painting done in an abstract manner in the late 1960s or early 1970s using oil paints on paper by American artist Larry Poons (1937- ) as indicated by his signature.\"}}'),\n",
       " Document(metadata={}, page_content='{\"6\": {\"Creator\": \"Larry Poons (American, b. 1937)\", \"Format\": \"PaintingImage Size: 39 inches x 31 1/2 inches\", \"Date\": \"ca. Late 1960s or Early 1970s\", \"Medium\": \"Oil paints on paper\"}}'),\n",
       " Document(metadata={}, page_content='{\"6\": {\"Donor\": \"Gift of Jeffrey L. Horrell \\'75 and Rodney F. Rose\"}}'),\n",
       " Document(metadata={}, page_content='{\"6\": {\"Citation\": \"Larry Poons (American, b. 1937), \\\\u201cUntitled,\\\\u201dRichard and Carole Cocks Art Museum at Miami University, accessed April 28, 2025,https://miamiuniversityartmuseum.omeka.net/items/show/20707.\"}}'),\n",
       " Document(metadata={}, page_content='{\"6\": {\"Tags\": {\"0\": \"20th Century\", \"1\": \"African Oceanic and New World Cultures\", \"2\": \"African Oceanic and New World Cultures-North America\", \"3\": \"American\", \"4\": \"Cafe\", \"5\": \"Coffee\"}}}'),\n",
       " Document(metadata={}, page_content='{\"6\": {\"Tags\": {\"6\": \"Colorful\", \"7\": \"Cup\", \"8\": \"Larry Poons\", \"9\": \"Modern & Contemporary\", \"10\": \"Modern & Contemporary-Paintings-20th C. & Later\", \"11\": \"Mug\", \"12\": \"North American\"}}}'),\n",
       " Document(metadata={}, page_content='{\"6\": {\"Tags\": {\"13\": \"Oil paints on paper\", \"14\": \"painting\", \"15\": \"Paper\", \"16\": \"Tea\", \"17\": \"United States\"}, \"Collection Link\": \"/collections/show/25\"}}'),\n",
       " Document(metadata={}, page_content='{\"7\": {\"Title\": \"Desolate\", \"Identifier\": \"2024.18\", \"Subject\": \"Graphic Arts-Prints\"}}'),\n",
       " Document(metadata={}, page_content='{\"7\": {\"Description\": \"Print by the title \\\\\"Desolate\\\\\" from the suite \\\\\"Notes in Hand\\\\\" done by offset lithograph process on paper with mechanical tints by the artist in 1972 by Swedish-born American artist Claes Oldenburg (1929-2022) as indicated by his signature in pencil. Also marked in pencil with the edition number \\\\\"64\\\\\" of an edition of 100. Print dimensions are 9 3/4 (h) x 8 inches (w).Green sofa chair with black smudge to the right of the chair.\"}}'),\n",
       " Document(metadata={}, page_content='{\"7\": {\"Creator\": \"Claes Oldenburg (American, b. Sweden 1929)\", \"Format\": \"PrintImage Size: 9 3/4 inches x 8 inches\", \"Date\": \"1972\"}}'),\n",
       " Document(metadata={}, page_content='{\"7\": {\"Medium\": \"Offset lithograph process on paper with mechanical tints\", \"Donor\": \"Gift of Jeffrey L. Horrell \\'75 and Rodney F. Rose\"}}'),\n",
       " Document(metadata={}, page_content='{\"7\": {\"Citation\": \"Claes Oldenburg (American, b. Sweden 1929), \\\\u201cDesolate,\\\\u201dRichard and Carole Cocks Art Museum at Miami University, accessed April 28, 2025,https://miamiuniversityartmuseum.omeka.net/items/show/20706.\"}}'),\n",
       " Document(metadata={}, page_content='{\"7\": {\"Tags\": {\"0\": \"20th Century\", \"1\": \"African Oceanic and New World Cultures\", \"2\": \"African Oceanic and New World Cultures-North America\", \"3\": \"American\", \"4\": \"Chair\"}}}'),\n",
       " Document(metadata={}, page_content='{\"7\": {\"Tags\": {\"5\": \"Claes Oldenburg\", \"6\": \"Couch\", \"7\": \"Desolate\", \"8\": \"European\", \"9\": \"Graphic Arts\", \"10\": \"Graphic Arts-Prints\", \"11\": \"Lithograph\", \"12\": \"Mechanical tints\"}}}'),\n",
       " Document(metadata={}, page_content='{\"7\": {\"Tags\": {\"13\": \"North American\", \"14\": \"Paper\", \"15\": \"Print\", \"16\": \"Sofa\", \"17\": \"Sweden\", \"18\": \"United States\"}, \"Collection Link\": \"/collections/show/25\"}}'),\n",
       " Document(metadata={}, page_content='{\"8\": {\"Title\": \"Ear 1968\", \"Identifier\": \"2024.17\", \"Subject\": \"Graphic Arts-Prints\"}}'),\n",
       " Document(metadata={}, page_content='{\"8\": {\"Description\": \"Print by the title \\\\\"Ear 1968\\\\\" from the suite \\\\\"Notes in Hand\\\\\" done by offset lithograph process on paper with mechanical tints by the artist in 1972 by Swedish-born American artist Claes Oldenburg (1929-2022) as indicated by his signature in pencil. Also marked in pencil with the edition number \\\\\"64\\\\\" of an edition of 100.\"}}'),\n",
       " Document(metadata={}, page_content='{\"8\": {\"Creator\": \"Claes Oldenburg (American, b. Sweden 1929)\", \"Format\": \"PrintImage Size: 9 3/4 inches x 8 inches\", \"Date\": \"1972\", \"Medium\": \"Lithograph process on paper with mechanical tints\"}}'),\n",
       " Document(metadata={}, page_content='{\"8\": {\"Donor\": \"Gift of Jeffrey L. Horrell \\'75 and Rodney F. Rose\"}}'),\n",
       " Document(metadata={}, page_content='{\"8\": {\"Citation\": \"Claes Oldenburg (American, b. Sweden 1929), \\\\u201cEar 1968,\\\\u201dRichard and Carole Cocks Art Museum at Miami University, accessed April 28, 2025,https://miamiuniversityartmuseum.omeka.net/items/show/20705.\"}}'),\n",
       " Document(metadata={}, page_content='{\"8\": {\"Tags\": {\"0\": \"20th Century\", \"1\": \"African Oceanic and New World Cultures\", \"2\": \"African Oceanic and New World Cultures-North America\", \"3\": \"American\", \"4\": \"Claes Oldenburg\", \"5\": \"Ear\"}}}'),\n",
       " Document(metadata={}, page_content='{\"8\": {\"Tags\": {\"6\": \"European\", \"7\": \"Graphic Arts\", \"8\": \"Graphic Arts-Prints\", \"9\": \"Lithograph\", \"10\": \"Mechanical tints\", \"11\": \"Paper\", \"12\": \"Print\", \"13\": \"Sweden\", \"14\": \"United States\"}}}'),\n",
       " Document(metadata={}, page_content='{\"8\": {\"Collection Link\": \"/collections/show/25\"}}'),\n",
       " Document(metadata={}, page_content='{\"9\": {\"Title\": \"Palo Alto\", \"Identifier\": \"2024.16\", \"Subject\": \"Graphic Arts-Prints\"}}'),\n",
       " Document(metadata={}, page_content='{\"9\": {\"Description\": \"Print by the title \\\\\"Palo Alto\\\\\" done by lithographic process on Arches 88 paper in 1978 by American artist Robert Motherwell (1915-1991) as indicated by his signature in pencil. Also marked in pencil with the edition number \\\\\"20\\\\\" of an edition of 40 produced. The print was published by Gemini G. E. L.Black symbol on red background.\"}}'),\n",
       " Document(metadata={}, page_content='{\"9\": {\"Creator\": \"Robert Motherwell (American, 1915-1991)\", \"Format\": \"PrintImage Size: 36 inches x 24 inches\", \"Date\": \"1978\", \"Medium\": \"Lithographic process on Arches 88 paper\"}}'),\n",
       " Document(metadata={}, page_content='{\"9\": {\"Donor\": \"Gift of Jeffrey L. Horrell \\'75 and Rodney F. Rose\"}}'),\n",
       " Document(metadata={}, page_content='{\"9\": {\"Citation\": \"Robert Motherwell (American, 1915-1991), \\\\u201cPalo Alto,\\\\u201dRichard and Carole Cocks Art Museum at Miami University, accessed April 28, 2025,https://miamiuniversityartmuseum.omeka.net/items/show/20704.\"}}'),\n",
       " Document(metadata={}, page_content='{\"9\": {\"Tags\": {\"0\": \"20th Century\", \"1\": \"African Oceanic and New World Cultures\", \"2\": \"African Oceanic and New World Cultures-North America\", \"3\": \"American\", \"4\": \"Arches 88 paper\"}}}'),\n",
       " Document(metadata={}, page_content='{\"9\": {\"Tags\": {\"5\": \"Black\", \"6\": \"Graphic Arts\", \"7\": \"Graphic Arts-Prints\", \"8\": \"Lithograph\", \"9\": \"North American\", \"10\": \"Paper\", \"11\": \"Print\", \"12\": \"Red\", \"13\": \"Robert Motherwell\"}}}'),\n",
       " Document(metadata={}, page_content='{\"9\": {\"Tags\": {\"14\": \"Symbol\", \"15\": \"United States\"}, \"Collection Link\": \"/collections/show/25\"}}'),\n",
       " Document(metadata={}, page_content='{\"10\": {\"Title\": \"Untitled\", \"Identifier\": \"2024.15\", \"Subject\": \"Modern & Contemporary-Paintings-20th C. & Later\"}}'),\n",
       " Document(metadata={}, page_content='{\"10\": {\"Description\": \"Painting done circa 1970 using oil paints on canvas by American artist Nancy Mitchnick (b. 1947) as indicated by her signature.Colorful depiction of a bouquet of flowers in a vase sitting on an end table.\"}}'),\n",
       " Document(metadata={}, page_content='{\"10\": {\"Creator\": \"Nancy Mitchnick (American, b. 1947)\", \"Format\": \"PaintingImage Size: 61 inches x 48 inches\", \"Date\": \"ca. 1970\", \"Medium\": \"Oil on canvas\"}}'),\n",
       " Document(metadata={}, page_content='{\"10\": {\"Donor\": \"Gift of Jeffrey L. Horrell \\'75 and Rodney F. Rose\"}}'),\n",
       " Document(metadata={}, page_content='{\"10\": {\"Citation\": \"Nancy Mitchnick (American, b. 1947), \\\\u201cUntitled,\\\\u201dRichard and Carole Cocks Art Museum at Miami University, accessed April 28, 2025,https://miamiuniversityartmuseum.omeka.net/items/show/20703.\"}}'),\n",
       " Document(metadata={}, page_content='{\"10\": {\"Tags\": {\"0\": \"20th Century\", \"1\": \"African Oceanic and New World Cultures\", \"2\": \"African Oceanic and New World Cultures-North America\", \"3\": \"American\", \"4\": \"Bouquet\", \"5\": \"Colorful\"}}}'),\n",
       " Document(metadata={}, page_content='{\"10\": {\"Tags\": {\"6\": \"Flower\", \"7\": \"Flowers\", \"8\": \"Modern & Contemporary\", \"9\": \"Modern & Contemporary-Paintings-20th C. & Later\", \"10\": \"Nancy Mitchnick\", \"11\": \"North American\"}}}'),\n",
       " Document(metadata={}, page_content='{\"10\": {\"Tags\": {\"12\": \"Oil on canvas\", \"13\": \"painting\", \"14\": \"Table\", \"15\": \"United States\", \"16\": \"Vase\"}, \"Collection Link\": \"/collections/show/25\"}}'),\n",
       " Document(metadata={}, page_content='{\"11\": {\"Title\": \"Untitled\", \"Identifier\": \"2024.14\", \"Subject\": \"Graphic Arts-Prints\"}}'),\n",
       " Document(metadata={}, page_content='{\"11\": {\"Description\": \"Print depicting an abstract composition done by etching process on paper in 1993 by American artist Michael Mazur (1935-2009) as indicated by his signature. The print is Artist Proof #5.Depicts a nude figure from behind.\"}}'),\n",
       " Document(metadata={}, page_content='{\"11\": {\"Creator\": \"Michael Mazur (American, 1935-2009)\", \"Format\": \"PrintImage Size: 20 1/2 inches x 14 1/2 inches\", \"Date\": \"1993\", \"Medium\": \"Etching process on paper\"}}'),\n",
       " Document(metadata={}, page_content='{\"11\": {\"Donor\": \"Gift of Jeffrey L. Horrell \\'75 and Rodney F. Rose\"}}'),\n",
       " Document(metadata={}, page_content='{\"11\": {\"Citation\": \"Michael Mazur (American, 1935-2009), \\\\u201cUntitled,\\\\u201dRichard and Carole Cocks Art Museum at Miami University, accessed April 28, 2025,https://miamiuniversityartmuseum.omeka.net/items/show/20702.\"}}'),\n",
       " Document(metadata={}, page_content='{\"11\": {\"Tags\": {\"0\": \"20th Century\", \"1\": \"African Oceanic and New World Cultures\", \"2\": \"African Oceanic and New World Cultures-North America\", \"3\": \"American\", \"4\": \"etching\"}}}'),\n",
       " Document(metadata={}, page_content='{\"11\": {\"Tags\": {\"5\": \"Graphic Arts\", \"6\": \"Graphic Arts-Prints\", \"7\": \"Male\", \"8\": \"Males\", \"9\": \"Michael Mazur\", \"10\": \"North American\", \"11\": \"Nude\", \"12\": \"Paper\", \"13\": \"Print\"}}}'),\n",
       " Document(metadata={}, page_content='{\"11\": {\"Tags\": {\"14\": \"United States\"}, \"Collection Link\": \"/collections/show/25\"}}'),\n",
       " Document(metadata={}, page_content='{\"12\": {\"Title\": \"Manhattan\", \"Identifier\": \"2024.13\", \"Subject\": \"Graphic Arts-Prints\"}}'),\n",
       " Document(metadata={}, page_content='{\"12\": {\"Description\": \"Print by the title \\\\\"Manhattan\\\\\" done by process of direct gravure with aquatint in color on paper in 1996 by American artist Tom Marioni (b. 1937) as indicated by his signature and date in pencil. The print was published by Crown Point Press in San Francisco, CA.Depicts a overview image of a cocktail in a martini glass with a cherry.\"}}'),\n",
       " Document(metadata={}, page_content='{\"12\": {\"Creator\": \"Tom Marioni (American, b. 1937)\", \"Format\": \"PrintImage Size: 23 1/4 inches x 18 inches\", \"Date\": \"1996\", \"Medium\": \"Direct gravure with aquatint in color on paper\"}}'),\n",
       " Document(metadata={}, page_content='{\"12\": {\"Donor\": \"Gift of Jeffrey L. Horrell \\'75 and Rodney F. Rose\"}}'),\n",
       " Document(metadata={}, page_content='{\"12\": {\"Citation\": \"Tom Marioni (American, b. 1937), \\\\u201cManhattan,\\\\u201dRichard and Carole Cocks Art Museum at Miami University, accessed April 28, 2025,https://miamiuniversityartmuseum.omeka.net/items/show/20701.\"}}'),\n",
       " Document(metadata={}, page_content='{\"12\": {\"Tags\": {\"0\": \"20th Century\", \"1\": \"African Oceanic and New World Cultures\", \"2\": \"African Oceanic and New World Cultures-North America\", \"3\": \"American\", \"4\": \"Aquatint\", \"5\": \"Cherries\"}}}'),\n",
       " Document(metadata={}, page_content='{\"12\": {\"Tags\": {\"6\": \"Cherry\", \"7\": \"Graphic Arts\", \"8\": \"Graphic Arts-Prints\", \"9\": \"Gravure\", \"10\": \"Manhattan\", \"11\": \"Martini\", \"12\": \"North American\", \"13\": \"Paper\", \"14\": \"Print\"}}}'),\n",
       " Document(metadata={}, page_content='{\"12\": {\"Tags\": {\"15\": \"Shadow\", \"16\": \"Shadows\", \"17\": \"Tom Marioni\", \"18\": \"United States\"}, \"Collection Link\": \"/collections/show/25\"}}'),\n",
       " Document(metadata={}, page_content='{\"13\": {\"Title\": \"Untitled\", \"Identifier\": \"2024.12\", \"Subject\": \"Modern & Contemporary-Paintings-20th C. & Later\"}}'),\n",
       " Document(metadata={}, page_content='{\"13\": {\"Description\": \"Painting depicting an abstract composition done in 1977 using oil paints on paper by American abstract artist Margo Margolis (b. 1947) as indicated by her signature.Depicts parts of circles with different shades of blue, gray, and black.\"}}'),\n",
       " Document(metadata={}, page_content='{\"13\": {\"Creator\": \"Margo Margolis (American, b. 1947)\", \"Format\": \"PaintingImage Size: 30 inches x 22 inches\", \"Date\": \"1977\", \"Medium\": \"Oil paints on paper\"}}'),\n",
       " Document(metadata={}, page_content='{\"13\": {\"Donor\": \"Gift of Jeffrey L. Horrell \\'75 and Rodney F. Rose\"}}'),\n",
       " Document(metadata={}, page_content='{\"13\": {\"Citation\": \"Margo Margolis (American, b. 1947), \\\\u201cUntitled,\\\\u201dRichard and Carole Cocks Art Museum at Miami University, accessed April 28, 2025,https://miamiuniversityartmuseum.omeka.net/items/show/20700.\"}}'),\n",
       " Document(metadata={}, page_content='{\"13\": {\"Tags\": {\"0\": \"20th Century\", \"1\": \"African Oceanic and New World Cultures\", \"2\": \"African Oceanic and New World Cultures-North America\", \"3\": \"American\", \"4\": \"Circle\"}}}'),\n",
       " Document(metadata={}, page_content='{\"13\": {\"Tags\": {\"5\": \"Margo Margolis\", \"6\": \"Modern & Contemporary\", \"7\": \"Modern & Contemporary-Paintings-20th C. & Later\", \"8\": \"North American\", \"9\": \"Oil paints on paper\", \"10\": \"painting\"}}}'),\n",
       " Document(metadata={}, page_content='{\"13\": {\"Tags\": {\"11\": \"United States\"}, \"Collection Link\": \"/collections/show/25\"}}'),\n",
       " Document(metadata={}, page_content='{\"14\": {\"Title\": \"The Nut Trees\", \"Identifier\": \"2024.11\", \"Subject\": \"Graphic Arts-Prints\"}}'),\n",
       " Document(metadata={}, page_content='{\"14\": {\"Description\": \"Print by the title \\\\\"The Nut Trees\\\\\" done by color woodcut on paper in 1985 by American artist Sylvia Plimack Mangold (b. 1938) as indicated by her signature and date in pencil. Also marked in pencil with the edition number \\\\\"75\\\\\" of an edition of 100 produced. The print was published by Crown Point Press in San Francisco, CA.Depicts landscape with bare-leaved trees and grassy hills in background. Foreground depicts lake or a marsh.\"}}'),\n",
       " Document(metadata={}, page_content='{\"14\": {\"Creator\": \"Sylvia Plimack Mangold (American, b. 1938)\", \"Format\": \"PrintImage Size: 18 1/2 inches x 12 inches\", \"Date\": \"1985\", \"Medium\": \"Color woodcut on paper\"}}'),\n",
       " Document(metadata={}, page_content='{\"14\": {\"Donor\": \"Gift of Jeffrey L. Horrel \\'75 and Rodney F. Rose\"}}'),\n",
       " Document(metadata={}, page_content='{\"14\": {\"Citation\": \"Sylvia Plimack Mangold (American, b. 1938), \\\\u201cThe Nut Trees,\\\\u201dRichard and Carole Cocks Art Museum at Miami University, accessed April 28, 2025,https://miamiuniversityartmuseum.omeka.net/items/show/20699.\"}}'),\n",
       " Document(metadata={}, page_content='{\"14\": {\"Tags\": {\"0\": \"20th Century\", \"1\": \"African Oceanic and New World Cultures\", \"2\": \"African Oceanic and New World Cultures-North America\", \"3\": \"American\", \"4\": \"Graphic Arts\"}}}'),\n",
       " Document(metadata={}, page_content='{\"14\": {\"Tags\": {\"5\": \"Graphic Arts-Prints\", \"6\": \"Grass\", \"7\": \"Grassy\", \"8\": \"Hill\", \"9\": \"Hills\", \"10\": \"Lake\", \"11\": \"Lakes\", \"12\": \"Landscape\", \"13\": \"Leaf\", \"14\": \"Leaves\", \"15\": \"Marsh\"}}}'),\n",
       " Document(metadata={}, page_content='{\"14\": {\"Tags\": {\"16\": \"Marshes\", \"17\": \"North American\", \"18\": \"Nut\", \"19\": \"Paper\", \"20\": \"Print\", \"21\": \"Sylvia Plimack Mangold\", \"22\": \"Tree\", \"23\": \"Trees\", \"24\": \"United States\"}}}'),\n",
       " Document(metadata={}, page_content='{\"14\": {\"Tags\": {\"25\": \"Winter\", \"26\": \"Woodcut\"}, \"Collection Link\": \"/collections/show/25\"}}'),\n",
       " Document(metadata={}, page_content='{\"15\": {\"Title\": \"Child and Star\", \"Identifier\": \"2024.10\", \"Subject\": \"PrintImage Size: 3 1/4 inches x 2 inches\"}}'),\n",
       " Document(metadata={}, page_content='{\"15\": {\"Description\": \"Print by the title \\\\\"Child and Star\\\\\" done by wood engraving process on japon paper in 1927 by American artist Rockwell Kent (1882-1971) as indicated by his signature in pencil. Printed in an edition of 150.Engraving of a nude child reaching for star.\"}}'),\n",
       " Document(metadata={}, page_content='{\"15\": {\"Creator\": \"Rockwell Kent (American, 1882-1971)\", \"Format\": \"Print\", \"Date\": \"1927\", \"Medium\": \"Wood engraving process on japon paper\"}}'),\n",
       " Document(metadata={}, page_content='{\"15\": {\"Donor\": \"Gift of Jeffrey L. Horrell \\'75 and Rodney F. Rose\"}}'),\n",
       " Document(metadata={}, page_content='{\"15\": {\"Citation\": \"Rockwell Kent (American, 1882-1971), \\\\u201cChild and Star,\\\\u201dRichard and Carole Cocks Art Museum at Miami University, accessed April 28, 2025,https://miamiuniversityartmuseum.omeka.net/items/show/20698.\"}}'),\n",
       " Document(metadata={}, page_content='{\"15\": {\"Tags\": {\"0\": \"20th Century\", \"1\": \"African Oceanic and New World Cultures\", \"2\": \"African Oceanic and New World Cultures-North America\", \"3\": \"American\", \"4\": \"Child\", \"5\": \"Children\"}}}'),\n",
       " Document(metadata={}, page_content='{\"15\": {\"Tags\": {\"6\": \"Engraving\", \"7\": \"Graphic Arts\", \"8\": \"Graphic Arts-Prints\", \"9\": \"Japon\", \"10\": \"North American\", \"11\": \"Nude\", \"12\": \"Paper\", \"13\": \"Print\", \"14\": \"Rockwell Kent\"}}}'),\n",
       " Document(metadata={}, page_content='{\"15\": {\"Tags\": {\"15\": \"Star\", \"16\": \"Stars\", \"17\": \"United States\", \"18\": \"Wood\"}, \"Collection Link\": \"/collections/show/25\"}}'),\n",
       " Document(metadata={}, page_content='{\"16\": {\"Title\": \"Diver (Masthead Diver)\", \"Identifier\": \"2024.9\", \"Subject\": \"Graphic Arts-Prints\"}}'),\n",
       " Document(metadata={}, page_content='{\"16\": {\"Description\": \"Print, done by wood engraving process on paper in 1931 by American artist Rockwell Kent (1882-1971) as indicated by his signature in pencil. Printed in an edition of 150 under the supervision of Elmer Adler at Penson Printers of New York City.Depicts man in a diving position.\"}}'),\n",
       " Document(metadata={}, page_content='{\"16\": {\"Creator\": \"Rockwell Kent (American, 1882-1971)\", \"Format\": \"PrintImage Size: 3 1/4 inches x 2 inches\", \"Date\": \"1931\", \"Medium\": \"Wood engraving process on paper\"}}'),\n",
       " Document(metadata={}, page_content='{\"16\": {\"Donor\": \"Gift of Jeffrey L. Horell \\'75 and Rodney F. Rose\"}}'),\n",
       " Document(metadata={}, page_content='{\"16\": {\"Citation\": \"Rockwell Kent (American, 1882-1971), \\\\u201cDiver (Masthead Diver),\\\\u201dRichard and Carole Cocks Art Museum at Miami University, accessed April 28, 2025,https://miamiuniversityartmuseum.omeka.net/items/show/20697.\"}}'),\n",
       " Document(metadata={}, page_content='{\"16\": {\"Tags\": {\"0\": \"20th Century\", \"1\": \"African Oceanic and New World Cultures\", \"2\": \"African Oceanic and New World Cultures-North America\", \"3\": \"Dive\", \"4\": \"Diver\", \"5\": \"Diving\"}}}'),\n",
       " Document(metadata={}, page_content='{\"16\": {\"Tags\": {\"6\": \"Engraving\", \"7\": \"Graphic Arts\", \"8\": \"Graphic Arts-Prints\", \"9\": \"Man\", \"10\": \"Masthead\", \"11\": \"North American\", \"12\": \"Paper\", \"13\": \"Print\", \"14\": \"Rockwell Kent\"}}}'),\n",
       " Document(metadata={}, page_content='{\"16\": {\"Tags\": {\"15\": \"United States\", \"16\": \"Wood\"}, \"Collection Link\": \"/collections/show/25\"}}'),\n",
       " Document(metadata={}, page_content='{\"17\": {\"Title\": \"Untitled\", \"Identifier\": \"2024.8\", \"Subject\": \"Modern & Contemporary-Paintings-20th C. & Later\"}}'),\n",
       " Document(metadata={}, page_content='{\"17\": {\"Description\": \"Painting depicting a landscaped setting done in 1984 using pastels on paper by German-born American artist Wolf Kahn (1927-2020) as indicated by his signature.Depicts grassy landscape with trees with autumn foliage. Gray skies.\"}}'),\n",
       " Document(metadata={}, page_content='{\"17\": {\"Creator\": \"Wolf Kahn (German-American, 1927-2020)\", \"Format\": \"PaintingImage Size: 17 inches x 11 inches\", \"Date\": \"1984\", \"Medium\": \"Pastels on paper\"}}'),\n",
       " Document(metadata={}, page_content='{\"17\": {\"Donor\": \"Gift of Jeffrey L. Horrell \\'75 and Rodney F. Rose\"}}'),\n",
       " Document(metadata={}, page_content='{\"17\": {\"Citation\": \"Wolf Kahn (German-American, 1927-2020), \\\\u201cUntitled,\\\\u201dRichard and Carole Cocks Art Museum at Miami University, accessed April 28, 2025,https://miamiuniversityartmuseum.omeka.net/items/show/20696.\"}}'),\n",
       " Document(metadata={}, page_content='{\"17\": {\"Tags\": {\"0\": \"20th Century\", \"1\": \"African Oceanic and New World Cultures\", \"2\": \"African Oceanic and New World Cultures-North America\", \"3\": \"Autumn\", \"4\": \"European\", \"5\": \"Foliage\"}}}'),\n",
       " Document(metadata={}, page_content='{\"17\": {\"Tags\": {\"6\": \"Germany\", \"7\": \"Grass\", \"8\": \"Grassy\", \"9\": \"Gray\", \"10\": \"Grey\", \"11\": \"Landscape\", \"12\": \"Modern & Contemporary\", \"13\": \"Modern & Contemporary-Paintings-20th C. & Later\"}}}'),\n",
       " Document(metadata={}, page_content='{\"17\": {\"Tags\": {\"14\": \"North American\", \"15\": \"painting\", \"16\": \"Paper\", \"17\": \"Pastel\", \"18\": \"Pastels\", \"19\": \"Skies\", \"20\": \"Sky\", \"21\": \"Tree\", \"22\": \"Trees\", \"23\": \"United States\"}}}'),\n",
       " Document(metadata={}, page_content='{\"17\": {\"Tags\": {\"24\": \"Wolf Kahn\"}, \"Collection Link\": \"/collections/show/25\"}}'),\n",
       " Document(metadata={}, page_content='{\"18\": {\"Title\": \"Pulsar\", \"Identifier\": \"2024.7\", \"Subject\": \"Graphic Arts-Prints\"}}'),\n",
       " Document(metadata={}, page_content='{\"18\": {\"Description\": \"Print by the title \\\\\"Pulsar\\\\\" done by process of screenprint with collage and stitching in colors on paper in 1974 by American artist Sam Gilliam (1933-2022). The print was included in an artist\\'s book that was assembled by Walter Hamady of the Perishable Press, Ltd.Colorful abstract print.\"}}'),\n",
       " Document(metadata={}, page_content='{\"18\": {\"Creator\": \"Sam Gilliam (American, b. 1933)\", \"Format\": \"PrintImage Size: 10 1/2 inches x 10 1/2 inches\", \"Date\": \"1974\"}}'),\n",
       " Document(metadata={}, page_content='{\"18\": {\"Medium\": \"Screenprint with collage and stitching in colors on paper\", \"Donor\": \"Gift of Jeffrey L. Horrell \\'75 and Rodney F. Rose\"}}'),\n",
       " Document(metadata={}, page_content='{\"18\": {\"Citation\": \"Sam Gilliam (American, b. 1933), \\\\u201cPulsar,\\\\u201dRichard and Carole Cocks Art Museum at Miami University, accessed April 28, 2025,https://miamiuniversityartmuseum.omeka.net/items/show/20695.\"}}'),\n",
       " Document(metadata={}, page_content='{\"18\": {\"Tags\": {\"0\": \"20th Century\", \"1\": \"Abstract\", \"2\": \"African Oceanic and New World Cultures\", \"3\": \"African Oceanic and New World Cultures-North America\", \"4\": \"American\", \"5\": \"Collage\"}}}'),\n",
       " Document(metadata={}, page_content='{\"18\": {\"Tags\": {\"6\": \"Graphic Arts\", \"7\": \"Graphic Arts-Prints\", \"8\": \"North American\", \"9\": \"Paper\", \"10\": \"Print\", \"11\": \"Pulsar\", \"12\": \"Sam Gilliam\", \"13\": \"Screenprint\", \"14\": \"Stitching\"}}}'),\n",
       " Document(metadata={}, page_content='{\"18\": {\"Tags\": {\"15\": \"United States\"}, \"Collection Link\": \"/collections/show/25\"}}'),\n",
       " Document(metadata={}, page_content='{\"19\": {\"Title\": \"Ten Winter Tools: Snips\", \"Identifier\": \"2024.6\", \"Subject\": \"Graphic Arts-Prints\"}}'),\n",
       " Document(metadata={}, page_content='{\"19\": {\"Creator\": \"Print by the title \\\\\"Ten Winter Tools: Snips\\\\\" done by lithographic process on paper in 1973 by American artist Jim Dine (b. 1935) as indicated by his signature and date in pencil. The print is a printer\\'s proof number \\\\\"5\\\\\" of an edition of 10 produced. The print was published by The Petersburg Press.Depicts a black and white tool (snips) in center of image.\"}}'),\n",
       " Document(metadata={}, page_content='{\"19\": {\"Format\": \"PrintImage Size: 30 inches x 22 inches\", \"Date\": \"1973\", \"Medium\": \"Lithographic process on paper\", \"Donor\": \"Gift of Jeffrey L. Horell \\'75 and Rodney F. Rose\"}}'),\n",
       " Document(metadata={}, page_content='{\"19\": {\"Citation\": \"Print by the title \\\\\"Ten Winter Tools: Snips\\\\\" done by lithographic process on paper in 1973 by American artist Jim Dine (b. 1935) as indicated by his signature and date in pencil. The print is a printer\\'s proof number \\\\\"5\\\\\" of an edition of 10 produced. The print was published by The Petersburg Press.\\\\r\\\\n\\\\r\\\\nDepicts a black and white tool (snips) in center of image., \\\\u201cTen Winter Tools: Snips,\\\\u201dRichard and Carole Cocks Art Museum at Miami University, accessed April 28, 2025,https://miamiuniversityartmuseum.omeka.net/items/show/20694.\"}}'),\n",
       " Document(metadata={}, page_content='{\"19\": {\"Tags\": {\"0\": \"20th Century\", \"1\": \"African Oceanic and New World Cultures\", \"2\": \"African Oceanic and New World Cultures-North America\", \"3\": \"Graphic Arts\", \"4\": \"Graphic Arts-Prints\"}}}'),\n",
       " Document(metadata={}, page_content='{\"19\": {\"Tags\": {\"5\": \"Jim Dine\", \"6\": \"Lithograph\", \"7\": \"North American\", \"8\": \"Paper\", \"9\": \"Print\", \"10\": \"Snips\", \"11\": \"Tool\", \"12\": \"Tools\", \"13\": \"United States\", \"14\": \"Winter\"}}}'),\n",
       " Document(metadata={}, page_content='{\"19\": {\"Collection Link\": \"/collections/show/25\"}}')]"
      ]
     },
     "execution_count": 11,
     "metadata": {},
     "output_type": "execute_result"
    }
   ],
   "source": [
    "docs"
   ]
  },
  {
   "cell_type": "markdown",
   "id": "a3739be6",
   "metadata": {},
   "source": [
    "# VectorStore"
   ]
  },
  {
   "cell_type": "code",
   "execution_count": 1,
   "id": "30e122bb",
   "metadata": {},
   "outputs": [
    {
     "ename": "NameError",
     "evalue": "name 'docs' is not defined",
     "output_type": "error",
     "traceback": [
      "\u001b[0;31m---------------------------------------------------------------------------\u001b[0m",
      "\u001b[0;31mNameError\u001b[0m                                 Traceback (most recent call last)",
      "Cell \u001b[0;32mIn[1], line 6\u001b[0m\n\u001b[1;32m      2\u001b[0m \u001b[38;5;28;01mfrom\u001b[39;00m\u001b[38;5;250m \u001b[39m\u001b[38;5;21;01mlangchain_nomic\u001b[39;00m\u001b[38;5;21;01m.\u001b[39;00m\u001b[38;5;21;01membeddings\u001b[39;00m\u001b[38;5;250m \u001b[39m\u001b[38;5;28;01mimport\u001b[39;00m NomicEmbeddings\n\u001b[1;32m      4\u001b[0m \u001b[38;5;66;03m# Create the vector store with proper document format\u001b[39;00m\n\u001b[1;32m      5\u001b[0m vectorstore \u001b[38;5;241m=\u001b[39m SKLearnVectorStore\u001b[38;5;241m.\u001b[39mfrom_documents(\n\u001b[0;32m----> 6\u001b[0m     documents\u001b[38;5;241m=\u001b[39m\u001b[43mdocs\u001b[49m,\n\u001b[1;32m      7\u001b[0m     embedding\u001b[38;5;241m=\u001b[39mNomicEmbeddings(model\u001b[38;5;241m=\u001b[39m\u001b[38;5;124m\"\u001b[39m\u001b[38;5;124mnomic-embed-text-v1.5\u001b[39m\u001b[38;5;124m\"\u001b[39m, inference_mode\u001b[38;5;241m=\u001b[39m\u001b[38;5;124m\"\u001b[39m\u001b[38;5;124mlocal\u001b[39m\u001b[38;5;124m\"\u001b[39m),\n\u001b[1;32m      8\u001b[0m )\n\u001b[1;32m     10\u001b[0m \u001b[38;5;66;03m# Create retriever\u001b[39;00m\n\u001b[1;32m     11\u001b[0m retriever \u001b[38;5;241m=\u001b[39m vectorstore\u001b[38;5;241m.\u001b[39mas_retriever(k\u001b[38;5;241m=\u001b[39m\u001b[38;5;241m3\u001b[39m)\n",
      "\u001b[0;31mNameError\u001b[0m: name 'docs' is not defined"
     ]
    }
   ],
   "source": [
    "from langchain_community.vectorstores import SKLearnVectorStore\n",
    "from langchain_nomic.embeddings import NomicEmbeddings\n",
    "\n",
    "# Create the vector store with proper document format\n",
    "vectorstore = SKLearnVectorStore.from_documents(\n",
    "    documents=docs,\n",
    "    embedding=NomicEmbeddings(model=\"nomic-embed-text-v1.5\", inference_mode=\"local\"),\n",
    ")\n",
    "\n",
    "# Create retriever\n",
    "retriever = vectorstore.as_retriever(k=3)\n"
   ]
  },
  {
   "cell_type": "code",
   "execution_count": 5,
   "id": "0e1647c5",
   "metadata": {},
   "outputs": [
    {
     "name": "stderr",
     "output_type": "stream",
     "text": [
      "Embedding texts: 100%|██████████| 1/1 [00:00<00:00, 18.83inputs/s]\n"
     ]
    },
    {
     "data": {
      "text/plain": [
       "[Document(metadata={'id': '3bcb1f51-296d-4116-a1e5-6d616f00eae6'}, page_content='{\"11\": {\"Title\": \"Untitled\", \"Identifier\": \"2024.14\", \"Subject\": \"Graphic Arts-Prints\"}}'),\n",
       " Document(metadata={'id': '333da6e6-01e9-4bef-a26e-f558fb2408d9'}, page_content='{\"0\": {\"Description\": \"Print by the title \\\\\"Untitled III\\\\\" done by etching and screenprint process on paper in 1978 by American artist Adja Yunkers (1900-1983) as indicated by his signature in pencil. Marked in pencil with the edition number \\\\\"6\\\\\" of an edition of 40 produced.Raised black abstract image on black background.\"}}'),\n",
       " Document(metadata={'id': '3754382e-2c44-400e-98f6-c23e16652c9c'}, page_content='{\"17\": {\"Title\": \"Untitled\", \"Identifier\": \"2024.8\", \"Subject\": \"Modern & Contemporary-Paintings-20th C. & Later\"}}'),\n",
       " Document(metadata={'id': '8a9b271f-a04b-44cb-98e4-1ab578dfd9f8'}, page_content='{\"0\": {\"Title\": \"Untitled III\", \"Identifier\": \"2024.25\", \"Subject\": \"Graphic Arts-Prints\"}}')]"
      ]
     },
     "execution_count": 5,
     "metadata": {},
     "output_type": "execute_result"
    }
   ],
   "source": [
    "retriever.invoke(\"Untitled\")"
   ]
  },
  {
   "cell_type": "code",
   "execution_count": 7,
   "id": "88e51bb4",
   "metadata": {},
   "outputs": [
    {
     "name": "stdout",
     "output_type": "stream",
     "text": [
      "{'datasource': 'websearch'} {'datasource': 'websearch'} {'datasource': 'websearch'}\n"
     ]
    }
   ],
   "source": [
    "### Router\n",
    "import json\n",
    "from langchain_core.messages import HumanMessage, SystemMessage\n",
    "\n",
    "# Prompt\n",
    "router_instructions = \"\"\"You are an expert at routing a user question to a vectorstore or web search.\n",
    "\n",
    "The vectorstore contains documents related to agents, prompt engineering, and adversarial attacks.\n",
    "\n",
    "Use the vectorstore for questions on these topics. For all else, and especially for current events, use web-search.\n",
    "\n",
    "Return JSON with single key, datasource, that is 'websearch' or 'vectorstore' depending on the question.\"\"\"\n",
    "\n",
    "# Test router\n",
    "test_web_search = llm_json_mode.invoke(\n",
    "    [SystemMessage(content=router_instructions)]\n",
    "    + [\n",
    "        HumanMessage(\n",
    "            content=\"Who is favored to win the NFC Championship game in the 2024 season?\"\n",
    "        )\n",
    "    ]\n",
    ")\n",
    "test_web_search_2 = llm_json_mode.invoke(\n",
    "    [SystemMessage(content=router_instructions)]\n",
    "    + [HumanMessage(content=\"What are the models released today for llama3.2?\")]\n",
    ")\n",
    "test_vector_store = llm_json_mode.invoke(\n",
    "    [SystemMessage(content=router_instructions)]\n",
    "    + [HumanMessage(content=\"What made the artwork 'Gathering of the Clans'?\")]\n",
    ")\n",
    "print(\n",
    "    json.loads(test_web_search.content),\n",
    "    json.loads(test_web_search_2.content),\n",
    "    json.loads(test_vector_store.content),\n",
    ")"
   ]
  },
  {
   "cell_type": "code",
   "execution_count": 9,
   "id": "fb757986",
   "metadata": {},
   "outputs": [
    {
     "name": "stderr",
     "output_type": "stream",
     "text": [
      "Embedding texts: 100%|██████████| 1/1 [00:00<00:00, 23.31inputs/s]"
     ]
    },
    {
     "name": "stdout",
     "output_type": "stream",
     "text": [
      "\n",
      "--- Document 1 ---\n",
      "{\"1\": {\"Citation\": \"Adja Yunkers (American, b. Latvia, 1900-1983), \\u201cGathering of the Clans,\\u201dRichard and Carole Cocks Art Museum at Miami University, accessed April 28, 2025,https://miamiuniversityartmuseum.omeka.net/items/show/20712.\"}}\n",
      "\n",
      "--- Document 2 ---\n",
      "{\"0\": {\"Citation\": \"Adja Yunkers (American, b. Latvia, 1900-1983), \\u201cUntitled III,\\u201dRichard and Carole Cocks Art Museum at Miami University, accessed April 28, 2025,https://miamiuniversityartmuseum.omeka.net/items/show/20713.\"}}\n",
      "\n",
      "--- Document 3 ---\n",
      "{\"1\": {\"Creator\": \"Adja Yunkers (American, b. Latvia, 1900-1983)\", \"Format\": \"PrintImage Size: 19 inches x 13 1/2 inches\", \"Date\": \"1952\", \"Medium\": \"Color woodcut process on paper\", \"Donor\": \"Gift of Jeffrey L. Horrell '75 and Rodney F. Rose\"}}\n",
      "\n",
      "--- Document 4 ---\n",
      "{\"0\": {\"Creator\": \"Adja Yunkers (American, b. Latvia, 1900-1983)\", \"Format\": \"PrintImage Size: 23 3/4 inches x 16 1/2 inches\", \"Date\": \"1978\", \"Medium\": \"Etching and screen print process on paper\", \"Donor\": \"Gift of Jeffrey L. Horrell '75 and Rodney F. Rose\"}}\n"
     ]
    },
    {
     "name": "stderr",
     "output_type": "stream",
     "text": [
      "\n"
     ]
    }
   ],
   "source": [
    "query = \"Adja Yunkers?\"\n",
    "docs = retriever.get_relevant_documents(query)\n",
    "\n",
    "for i, doc in enumerate(docs):\n",
    "    print(f\"\\n--- Document {i+1} ---\\n{doc.page_content}\")\n"
   ]
  },
  {
   "cell_type": "markdown",
   "id": "f436f7c1",
   "metadata": {},
   "source": [
    "# Components"
   ]
  },
  {
   "cell_type": "markdown",
   "id": "f925e455",
   "metadata": {},
   "source": []
  }
 ],
 "metadata": {
  "kernelspec": {
   "display_name": ".venv",
   "language": "python",
   "name": "python3"
  },
  "language_info": {
   "codemirror_mode": {
    "name": "ipython",
    "version": 3
   },
   "file_extension": ".py",
   "mimetype": "text/x-python",
   "name": "python",
   "nbconvert_exporter": "python",
   "pygments_lexer": "ipython3",
   "version": "3.10.7"
  }
 },
 "nbformat": 4,
 "nbformat_minor": 5
}
