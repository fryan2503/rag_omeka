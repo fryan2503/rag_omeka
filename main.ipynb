{
 "cells": [
  {
   "cell_type": "code",
   "execution_count": 10,
   "metadata": {},
   "outputs": [],
   "source": [
    "import matplotlib.pyplot as plt \n",
    "import pandas as pd\n",
    "from bs4 import BeautifulSoup\n",
    "import requests"
   ]
  },
  {
   "cell_type": "code",
   "execution_count": 11,
   "metadata": {},
   "outputs": [],
   "source": [
    "browse = \"https://miamiuniversityartmuseum.omeka.net/items/browse\""
   ]
  },
  {
   "cell_type": "code",
   "execution_count": 21,
   "metadata": {},
   "outputs": [],
   "source": [
    "response = requests.get(browse)\n",
    "if response.status_code != 200:\n",
    "    print(f\"Failed to retrieve data from the URL. Status code: {response.status_code}\")\n",
    "    exit()\n",
    "\n",
    "soup = BeautifulSoup(response.text, 'html.parser')"
   ]
  },
  {
   "cell_type": "code",
   "execution_count": null,
   "metadata": {},
   "outputs": [
    {
     "name": "stdout",
     "output_type": "stream",
     "text": [
      "/items/show/20713\n",
      "/items/show/20712\n",
      "/items/show/20711\n",
      "/items/show/20710\n",
      "/items/show/20709\n",
      "/items/show/20708\n",
      "/items/show/20707\n",
      "/items/show/20706\n",
      "/items/show/20705\n",
      "/items/show/20704\n",
      "['/items/show/20713', '/items/show/20712', '/items/show/20711', '/items/show/20710', '/items/show/20709', '/items/show/20708', '/items/show/20707', '/items/show/20706', '/items/show/20705', '/items/show/20704']\n"
     ]
    }
   ],
   "source": [
    "link_on_pages = []\n",
    "for link in soup.find_all('a'):\n",
    "\n",
    "    href = link.get('href')\n",
    "    if href and href.startswith('/items/show/'):\n",
    "        #print(href)\n",
    "        link_on_pages.append(href)\n",
    "\n",
    "print(link_on_pages)"
   ]
  },
  {
   "cell_type": "code",
   "execution_count": 23,
   "metadata": {},
   "outputs": [
    {
     "name": "stdout",
     "output_type": "stream",
     "text": [
      "https://miamiuniversityartmuseum.omeka.net/items/show/20713\n",
      "https://miamiuniversityartmuseum.omeka.net/items/show/20712\n",
      "https://miamiuniversityartmuseum.omeka.net/items/show/20711\n",
      "https://miamiuniversityartmuseum.omeka.net/items/show/20710\n",
      "https://miamiuniversityartmuseum.omeka.net/items/show/20709\n",
      "https://miamiuniversityartmuseum.omeka.net/items/show/20708\n",
      "https://miamiuniversityartmuseum.omeka.net/items/show/20707\n",
      "https://miamiuniversityartmuseum.omeka.net/items/show/20706\n",
      "https://miamiuniversityartmuseum.omeka.net/items/show/20705\n",
      "https://miamiuniversityartmuseum.omeka.net/items/show/20704\n"
     ]
    }
   ],
   "source": [
    "for link in link_on_pages:\n",
    "    full_link = \"https://miamiuniversityartmuseum.omeka.net\" + link\n",
    "    print(full_link)\n",
    "    response = requests.get(full_link)\n",
    "    if response.status_code != 200:\n",
    "        print(f\"Failed to retrieve data from the URL. Status code: {response.status_code}\")\n",
    "        exit()\n",
    "\n",
    "\n",
    "soup = BeautifulSoup(response.text, 'html.parser')"
   ]
  },
  {
   "cell_type": "code",
   "execution_count": 26,
   "metadata": {},
   "outputs": [
    {
     "name": "stdout",
     "output_type": "stream",
     "text": [
      "Title: Palo Alto\n",
      "\n",
      "Identifier: 2024.16\n",
      "\n",
      "Subject: Graphic Arts-Prints\n",
      "\n",
      "Description: Print by the title \"Palo Alto\" done by lithographic process on Arches 88 paper in 1978 by American artist Robert Motherwell (1915-1991) as indicated by his signature in pencil. Also marked in pencil with the edition number \"20\" of an edition of 40 produced. The print was published by Gemini G. E. L.Black symbol on red background.\n",
      "\n",
      "Creator: Robert Motherwell (American, 1915-1991)\n",
      "\n",
      "Format: PrintImage Size: 36 inches x 24 inches\n",
      "\n",
      "Date: 1978\n",
      "\n",
      "Medium: Lithographic process on Arches 88 paper\n",
      "\n",
      "Donor: Gift of Jeffrey L. Horrell '75 and Rodney F. Rose\n",
      "\n",
      "Citation: Robert Motherwell (American, 1915-1991), “Palo Alto,”Richard and Carole Cocks Art Museum at Miami University, accessed April 9, 2025,https://miamiuniversityartmuseum.omeka.net/items/show/20704.\n",
      "\n",
      "Tags: ['20th Century', 'African Oceanic and New World Cultures', 'African Oceanic and New World Cultures-North America', 'American', 'Arches 88 paper', 'Black', 'Graphic Arts', 'Graphic Arts-Prints', 'Lithograph', 'North American', 'Paper', 'Print', 'Red', 'Robert Motherwell', 'Symbol', 'United States']\n",
      "\n",
      "Image URL: https://d1y502jg6fpugt.cloudfront.net/29278/archive/files/c38560b0be92dbf11a6b731e52b8e1cd.jpg?Expires=1744848000&Signature=uBtiIEC3128Of3ICz2Rt100nBEazEViAkGuj9BqSHPvJBoNNCbhK%7E5qAFhw6nUJya6eunukAy7qxQDpJrpOKDhINFxrsP8A6GTnOiorLAYh%7EheopOFRfstGRRrniGsbHDlYZxZ55nEi3hRRx1pfEfT-QUKzzouBICZzzCnfP7hbokP5aghCeUNkOKIHMVdZBdZtzkpaD8sYXhNse9GazC5AZRlJ6OKoKurtaUO7xQSmtRpN4EDWzL-hzSdkEFwcC5Rmgk9s4JpqU96oyymRL4vkx%7EyVHhI6T-CLe1eAYcVReBfRl4-yq7lubFQv201UebRMUjnAxbdUaFsCqmLDcfw__&Key-Pair-Id=K6UGZS9ZTDSZM\n",
      "\n",
      "Collection Link: /collections/show/25\n",
      "\n"
     ]
    }
   ],
   "source": [
    "data = {}\n",
    "\n",
    "# Extract fields using a loop\n",
    "fields = {\n",
    "    'dublin-core-title': 'Title',\n",
    "    'dublin-core-identifier': 'Identifier',\n",
    "    'dublin-core-subject': 'Subject',\n",
    "    'dublin-core-description': 'Description',\n",
    "    'dublin-core-creator': 'Creator',\n",
    "    'dublin-core-format': 'Format',\n",
    "    'dublin-core-date': 'Date',\n",
    "    'dublin-core-medium': 'Medium',\n",
    "    'physical-object-item-type-metadata-donor': 'Donor',\n",
    "    'item-citation': 'Citation'\n",
    "}\n",
    "\n",
    "for field_id, field_name in fields.items():\n",
    "    element = soup.find('div', {'id': field_id})\n",
    "    if element:\n",
    "        data[field_name] = element.find('div', {'class': 'element-text'}).get_text(strip=True)\n",
    "\n",
    "# Extract tags\n",
    "data['Tags'] = [tag.get_text(strip=True) for tag in soup.find_all('a', {'rel': 'tag'})]\n",
    "\n",
    "# Extract image URL\n",
    "image_element = soup.find('div', {'id': 'item-images'})\n",
    "if image_element:\n",
    "    data['Image URL'] = image_element.find('a')['href']\n",
    "\n",
    "# Extract collection link\n",
    "collection_element = soup.find('div', {'id': 'collection'})\n",
    "if collection_element:\n",
    "    data['Collection Link'] = collection_element.find('a')['href']\n",
    "\n",
    "# Print out the extracted data\n",
    "for key, value in data.items():\n",
    "    print(f\"{key}: {value}\\n\")\n"
   ]
  },
  {
   "cell_type": "code",
   "execution_count": null,
   "metadata": {},
   "outputs": [
    {
     "name": "stdout",
     "output_type": "stream",
     "text": [
      "<class 'dict'>\n"
     ]
    }
   ],
   "source": [
    "print(data)"
   ]
  },
  {
   "cell_type": "code",
   "execution_count": null,
   "metadata": {},
   "outputs": [],
   "source": []
  }
 ],
 "metadata": {
  "kernelspec": {
   "display_name": "Python 3",
   "language": "python",
   "name": "python3"
  },
  "language_info": {
   "codemirror_mode": {
    "name": "ipython",
    "version": 3
   },
   "file_extension": ".py",
   "mimetype": "text/x-python",
   "name": "python",
   "nbconvert_exporter": "python",
   "pygments_lexer": "ipython3",
   "version": "3.10.7"
  }
 },
 "nbformat": 4,
 "nbformat_minor": 2
}
