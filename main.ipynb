{
 "cells": [
  {
   "cell_type": "code",
   "execution_count": 4,
   "metadata": {},
   "outputs": [
    {
     "name": "stderr",
     "output_type": "stream",
     "text": [
      "Matplotlib is building the font cache; this may take a moment.\n"
     ]
    }
   ],
   "source": [
    "import matplotlib.pyplot as plt \n",
    "import pandas as pd\n",
    "from bs4 import BeautifulSoup\n",
    "import requests"
   ]
  },
  {
   "cell_type": "code",
   "execution_count": 5,
   "metadata": {},
   "outputs": [],
   "source": [
    "browse = \"https://miamiuniversityartmuseum.omeka.net/items/browse\""
   ]
  },
  {
   "cell_type": "code",
   "execution_count": 6,
   "metadata": {},
   "outputs": [],
   "source": [
    "response = requests.get(browse)\n",
    "if response.status_code != 200:\n",
    "    print(f\"Failed to retrieve data from the URL. Status code: {response.status_code}\")\n",
    "    exit()\n",
    "\n",
    "soup = BeautifulSoup(response.text, 'html.parser')"
   ]
  },
  {
   "cell_type": "code",
   "execution_count": 7,
   "metadata": {},
   "outputs": [
    {
     "name": "stdout",
     "output_type": "stream",
     "text": [
      "['/items/show/20713', '/items/show/20712', '/items/show/20711', '/items/show/20710', '/items/show/20709', '/items/show/20708', '/items/show/20707', '/items/show/20706', '/items/show/20705', '/items/show/20704']\n"
     ]
    }
   ],
   "source": [
    "link_on_pages = []\n",
    "for link in soup.find_all('a'):\n",
    "\n",
    "    href = link.get('href')\n",
    "    if href and href.startswith('/items/show/'):\n",
    "        #print(href)\n",
    "        link_on_pages.append(href)\n",
    "\n",
    "print(link_on_pages)"
   ]
  },
  {
   "cell_type": "code",
   "execution_count": 8,
   "metadata": {},
   "outputs": [
    {
     "name": "stdout",
     "output_type": "stream",
     "text": [
      "https://miamiuniversityartmuseum.omeka.net/items/show/20713\n",
      "https://miamiuniversityartmuseum.omeka.net/items/show/20712\n",
      "https://miamiuniversityartmuseum.omeka.net/items/show/20711\n",
      "https://miamiuniversityartmuseum.omeka.net/items/show/20710\n",
      "https://miamiuniversityartmuseum.omeka.net/items/show/20709\n",
      "https://miamiuniversityartmuseum.omeka.net/items/show/20708\n",
      "https://miamiuniversityartmuseum.omeka.net/items/show/20707\n",
      "https://miamiuniversityartmuseum.omeka.net/items/show/20706\n",
      "https://miamiuniversityartmuseum.omeka.net/items/show/20705\n",
      "https://miamiuniversityartmuseum.omeka.net/items/show/20704\n"
     ]
    }
   ],
   "source": [
    "for link in link_on_pages:\n",
    "    full_link = \"https://miamiuniversityartmuseum.omeka.net\" + link\n",
    "    print(full_link)\n",
    "    response = requests.get(full_link)\n",
    "    if response.status_code != 200:\n",
    "        print(f\"Failed to retrieve data from the URL. Status code: {response.status_code}\")\n",
    "        exit()\n",
    "\n",
    "\n",
    "soup = BeautifulSoup(response.text, 'html.parser')"
   ]
  },
  {
   "cell_type": "code",
   "execution_count": 9,
   "metadata": {},
   "outputs": [
    {
     "name": "stdout",
     "output_type": "stream",
     "text": [
      "Title: Palo Alto\n",
      "\n",
      "Identifier: 2024.16\n",
      "\n",
      "Subject: Graphic Arts-Prints\n",
      "\n",
      "Description: Print by the title \"Palo Alto\" done by lithographic process on Arches 88 paper in 1978 by American artist Robert Motherwell (1915-1991) as indicated by his signature in pencil. Also marked in pencil with the edition number \"20\" of an edition of 40 produced. The print was published by Gemini G. E. L.Black symbol on red background.\n",
      "\n",
      "Creator: Robert Motherwell (American, 1915-1991)\n",
      "\n",
      "Format: PrintImage Size: 36 inches x 24 inches\n",
      "\n",
      "Date: 1978\n",
      "\n",
      "Medium: Lithographic process on Arches 88 paper\n",
      "\n",
      "Donor: Gift of Jeffrey L. Horrell '75 and Rodney F. Rose\n",
      "\n",
      "Citation: Robert Motherwell (American, 1915-1991), “Palo Alto,”Richard and Carole Cocks Art Museum at Miami University, accessed April 10, 2025,https://miamiuniversityartmuseum.omeka.net/items/show/20704.\n",
      "\n",
      "Tags: ['20th Century', 'African Oceanic and New World Cultures', 'African Oceanic and New World Cultures-North America', 'American', 'Arches 88 paper', 'Black', 'Graphic Arts', 'Graphic Arts-Prints', 'Lithograph', 'North American', 'Paper', 'Print', 'Red', 'Robert Motherwell', 'Symbol', 'United States']\n",
      "\n",
      "Image URL: https://d1y502jg6fpugt.cloudfront.net/29278/archive/files/c38560b0be92dbf11a6b731e52b8e1cd.jpg?Expires=1745452800&Signature=GXUQ0CXiHtxIu-mzUEUGIbfUszWh4de4%7E8OF3tnytBbW8ZpRKUSY45N%7EFF5GT6TukTVjWRmDW0DqFIZWR45VuIamza7HuqkjvKOIEl4INYd5jcmVqrcl-Kz2k40rRRinT485csNc%7E6-9Dz7JpBlYSSYD1UiFxZ6NWJaCvBSuhYsdK8%7ElkXK0zOCTICjZVBQNOHP5QON2xWVny0XqozHhNn2Jzp7SfqXKTT-sFdfPLL9RFhRhkdxrhGpfehz7gGfjUrVj43hKc-g90VbV0Tg5ozhW53c4N-K58DEGb7JtHBNeKxNwyukO36Yc1a%7ExRD6ttyokafqN9i2MCeMrg5t3EA__&Key-Pair-Id=K6UGZS9ZTDSZM\n",
      "\n",
      "Collection Link: /collections/show/25\n",
      "\n"
     ]
    }
   ],
   "source": [
    "data = {}\n",
    "\n",
    "# Extract fields using a loop\n",
    "fields = {\n",
    "    'dublin-core-title': 'Title',\n",
    "    'dublin-core-identifier': 'Identifier',\n",
    "    'dublin-core-subject': 'Subject',\n",
    "    'dublin-core-description': 'Description',\n",
    "    'dublin-core-creator': 'Creator',\n",
    "    'dublin-core-format': 'Format',\n",
    "    'dublin-core-date': 'Date',\n",
    "    'dublin-core-medium': 'Medium',\n",
    "    'physical-object-item-type-metadata-donor': 'Donor',\n",
    "    'item-citation': 'Citation'\n",
    "}\n",
    "\n",
    "for field_id, field_name in fields.items():\n",
    "    element = soup.find('div', {'id': field_id})\n",
    "    if element:\n",
    "        data[field_name] = element.find('div', {'class': 'element-text'}).get_text(strip=True)\n",
    "\n",
    "# Extract tags\n",
    "data['Tags'] = [tag.get_text(strip=True) for tag in soup.find_all('a', {'rel': 'tag'})]\n",
    "\n",
    "# Extract image URL\n",
    "image_element = soup.find('div', {'id': 'item-images'})\n",
    "if image_element:\n",
    "    data['Image URL'] = image_element.find('a')['href']\n",
    "\n",
    "# Extract collection link\n",
    "collection_element = soup.find('div', {'id': 'collection'})\n",
    "if collection_element:\n",
    "    data['Collection Link'] = collection_element.find('a')['href']\n",
    "\n",
    "# Print out the extracted data\n",
    "for key, value in data.items():\n",
    "    print(f\"{key}: {value}\\n\")\n"
   ]
  },
  {
   "cell_type": "code",
   "execution_count": 23,
   "metadata": {},
   "outputs": [],
   "source": [
    "import os\n",
    "from dotenv import load_dotenv\n",
    "\n",
    "load_dotenv()\n",
    "\n",
    "OPENAI_API_KEY = os.getenv(\"OPENAI_API_KEY\")\n",
    "\n",
    "MODEL = \"llama3\""
   ]
  },
  {
   "cell_type": "code",
   "execution_count": 16,
   "metadata": {},
   "outputs": [],
   "source": [
    "import pandas as pd\n",
    "from langchain import OpenAI"
   ]
  },
  {
   "cell_type": "code",
   "execution_count": 17,
   "metadata": {},
   "outputs": [
    {
     "data": {
      "text/plain": [
       "'The capital of France is Paris.'"
      ]
     },
     "execution_count": 17,
     "metadata": {},
     "output_type": "execute_result"
    }
   ],
   "source": [
    "from langchain_community.llms import Ollama\n",
    "model = Ollama(model=MODEL)\n",
    "model.invoke(\"What is the capital of france?\")"
   ]
  },
  {
   "cell_type": "code",
   "execution_count": null,
   "metadata": {},
   "outputs": [
    {
     "data": {
      "text/plain": [
       "'The capital of India is New Delhi.'"
      ]
     },
     "execution_count": 25,
     "metadata": {},
     "output_type": "execute_result"
    }
   ],
   "source": [
    "from langchain_core.output_parsers import StrOutputParser\n",
    "parser = StrOutputParser()\n",
    "\n",
    "chain = model | parser\n",
    "chain.invoke(\"What is the capital of India?\")  "
   ]
  },
  {
   "cell_type": "code",
   "execution_count": null,
   "metadata": {},
   "outputs": [
    {
     "data": {
      "text/plain": [
       "[Document(metadata={'producer': 'Skia/PDF m135', 'creator': 'Mozilla/5.0 (Macintosh; Intel Mac OS X 10_15_7) AppleWebKit/537.36 (KHTML, like Gecko) Chrome/135.0.0.0 Safari/537.36', 'creationdate': '2025-04-10T04:19:39+00:00', 'title': 'Pink Cone · Richard and Carole Cocks Art Museum at Miami University', 'moddate': '2025-04-10T04:19:39+00:00', 'source': 'data/omeka_pdf.pdf', 'total_pages': 3, 'page': 0, 'page_label': '1'}, page_content='Skip to main content\\nRichard and Carole Cocks Art Museum at Miami University\\nMenu\\nBrowse Exhibits\\nBrowse Collections\\nBrowse Items\\nArt Museum Website\\n \\nSearch using this query type:\\nKeyword\\nBoolean\\nExact match\\nSearch only these record types:\\n Item\\n File\\n Collection\\n Simple Page\\n Exhibit\\n Exhibit Page\\nAdvanced Search (Items only)\\nPink Cone\\nTitle\\nPink Cone\\nIdentiﬁer\\n2024.23\\nSubject\\nGraphic Arts-Prints\\nDescription\\nPrint by the title \"Pink Cone\" done by process of hard ground etching printed in pink on gampi paper\\nchine colle in 1995 (edition printed in 2011) by American artist Wayne Thiebaud (1920-2021) as indicated\\nby his signature, date and title in pencil. Also marked in pencil with the edition number \"11\" of an edition\\nof 40 produced. Published by the Crown Point Press of San Francisco and printed by Emily York & Daria\\nSywulak.\\nLine etching in pink of ice cream cone.\\n4/10/25, 12:19 AM Pink Cone · Richard and Carole Cocks Art Museum at Miami University\\nhttps://miamiuniversityartmuseum.omeka.net/items/show/20711 1/3'),\n",
       " Document(metadata={'producer': 'Skia/PDF m135', 'creator': 'Mozilla/5.0 (Macintosh; Intel Mac OS X 10_15_7) AppleWebKit/537.36 (KHTML, like Gecko) Chrome/135.0.0.0 Safari/537.36', 'creationdate': '2025-04-10T04:19:39+00:00', 'title': 'Pink Cone · Richard and Carole Cocks Art Museum at Miami University', 'moddate': '2025-04-10T04:19:39+00:00', 'source': 'data/omeka_pdf.pdf', 'total_pages': 3, 'page': 1, 'page_label': '2'}, page_content=\"Creator\\nWayne Thiebaud (American, 1920-2021)\\nFormat\\nPrint\\nImage Size: 6 1/2 inches x 8 inches\\nDate\\n1995\\nMedium\\nHard ground etching printed in pink on gampi paper chine colle\\nDonor\\nGift of Jeffrey L. Horrell '75 and Rodney F. Rose\\nFiles\\n4/10/25, 12:19 AM Pink Cone · Richard and Carole Cocks Art Museum at Miami University\\nhttps://miamiuniversityartmuseum.omeka.net/items/show/20711 2/3\"),\n",
       " Document(metadata={'producer': 'Skia/PDF m135', 'creator': 'Mozilla/5.0 (Macintosh; Intel Mac OS X 10_15_7) AppleWebKit/537.36 (KHTML, like Gecko) Chrome/135.0.0.0 Safari/537.36', 'creationdate': '2025-04-10T04:19:39+00:00', 'title': 'Pink Cone · Richard and Carole Cocks Art Museum at Miami University', 'moddate': '2025-04-10T04:19:39+00:00', 'source': 'data/omeka_pdf.pdf', 'total_pages': 3, 'page': 2, 'page_label': '3'}, page_content=\"Collection\\nGifts of Jeffrey L. Horrell '75 and Rodney F. Rose\\nTags\\n20th Century, African Oceanic and New World Cultures, African Oceanic and New World Cultures-North\\nAmerica, American, Cone, etching, Gampi paper chine colle, Graphic Arts, Graphic Arts-Prints, Hard\\nground etching, Ice Cream, Line, Line etching, Lines, North American, Paper, Pink, Print, United States,\\nWayne Thiebaud\\nCitation\\nWayne Thiebaud (American, 1920-2021), “Pink Cone,” Richard and Carole Cocks Art Museum at Miami\\nUniversity, accessed April 10, 2025, https://miamiuniversityartmuseum.omeka.net/items/show/20711.\\nOutput Formats\\natom\\ndc-rdf\\ndcmes-xml\\njson\\nomeka-xml\\n←  Previous Item\\nNext Item →\\n© 2017 Richard and Carole Cocks Art Museum at Miami University, All rights reserved.\\nProudly powered by Omeka.\\n4/10/25, 12:19 AM Pink Cone · Richard and Carole Cocks Art Museum at Miami University\\nhttps://miamiuniversityartmuseum.omeka.net/items/show/20711 3/3\")]"
      ]
     },
     "execution_count": 31,
     "metadata": {},
     "output_type": "execute_result"
    }
   ],
   "source": [
    "from langchain_community.document_loaders import PyPDFLoader\n",
    "\n",
    "loader = PyPDFLoader(\"data/omeka_pdf.pdf\")\n",
    "# Load and split the document\n",
    "pages = loader.load_and_split()\n",
    "pages"
   ]
  },
  {
   "cell_type": "code",
   "execution_count": 36,
   "metadata": {},
   "outputs": [
    {
     "data": {
      "text/plain": [
       "'\\nYou are a helpful assistant at the Art Museum. \\nYou will be provided with a context and a question. \\nYour task is to answer the question based on the context.\\nContext: Here is some context\\nQuestion: What is the capital of France?\\n '"
      ]
     },
     "execution_count": 36,
     "metadata": {},
     "output_type": "execute_result"
    }
   ],
   "source": [
    "from langchain.prompts import PromptTemplate\n",
    "template = \"\"\"\n",
    "You are a helpful assistant at the Art Museum. \n",
    "You will be provided with a context and a question. \n",
    "Your task is to answer the question based on the context.\n",
    "Context: {context}\n",
    "Question: {question}\n",
    " \"\"\"         \n",
    "\n",
    "prompt = PromptTemplate.from_template(template)\n",
    "prompt.format(context=\"Here is some context\", question=\"What is the capital of France?\")"
   ]
  },
  {
   "cell_type": "code",
   "execution_count": null,
   "metadata": {},
   "outputs": [],
   "source": []
  }
 ],
 "metadata": {
  "kernelspec": {
   "display_name": ".venv",
   "language": "python",
   "name": "python3"
  },
  "language_info": {
   "codemirror_mode": {
    "name": "ipython",
    "version": 3
   },
   "file_extension": ".py",
   "mimetype": "text/x-python",
   "name": "python",
   "nbconvert_exporter": "python",
   "pygments_lexer": "ipython3",
   "version": "3.10.7"
  }
 },
 "nbformat": 4,
 "nbformat_minor": 2
}
