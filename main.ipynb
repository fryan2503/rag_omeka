{
 "cells": [
  {
   "cell_type": "code",
   "execution_count": 1,
   "metadata": {},
   "outputs": [],
   "source": [
    "import matplotlib.pyplot as plt \n",
    "import pandas as pd\n",
    "from bs4 import BeautifulSoup\n",
    "import requests"
   ]
  },
  {
   "cell_type": "code",
   "execution_count": 2,
   "metadata": {},
   "outputs": [],
   "source": [
    "browse = \"https://miamiuniversityartmuseum.omeka.net/items/browse\""
   ]
  },
  {
   "cell_type": "code",
   "execution_count": 3,
   "metadata": {},
   "outputs": [],
   "source": [
    "response = requests.get(browse)\n",
    "if response.status_code != 200:\n",
    "    print(f\"Failed to retrieve data from the URL. Status code: {response.status_code}\")\n",
    "    exit()\n",
    "\n",
    "soup = BeautifulSoup(response.text, 'html.parser')"
   ]
  },
  {
   "cell_type": "code",
   "execution_count": 4,
   "metadata": {},
   "outputs": [
    {
     "name": "stdout",
     "output_type": "stream",
     "text": [
      "['/items/show/20713', '/items/show/20712', '/items/show/20711', '/items/show/20710', '/items/show/20709', '/items/show/20708', '/items/show/20707', '/items/show/20706', '/items/show/20705', '/items/show/20704']\n"
     ]
    }
   ],
   "source": [
    "link_on_pages = []\n",
    "for link in soup.find_all('a'):\n",
    "\n",
    "    href = link.get('href')\n",
    "    if href and href.startswith('/items/show/'):\n",
    "        #print(href)\n",
    "        link_on_pages.append(href)\n",
    "\n",
    "print(link_on_pages)"
   ]
  },
  {
   "cell_type": "code",
   "execution_count": 5,
   "metadata": {},
   "outputs": [
    {
     "name": "stdout",
     "output_type": "stream",
     "text": [
      "https://miamiuniversityartmuseum.omeka.net/items/show/20713\n",
      "https://miamiuniversityartmuseum.omeka.net/items/show/20712\n",
      "https://miamiuniversityartmuseum.omeka.net/items/show/20711\n",
      "https://miamiuniversityartmuseum.omeka.net/items/show/20710\n",
      "https://miamiuniversityartmuseum.omeka.net/items/show/20709\n",
      "https://miamiuniversityartmuseum.omeka.net/items/show/20708\n",
      "https://miamiuniversityartmuseum.omeka.net/items/show/20707\n",
      "https://miamiuniversityartmuseum.omeka.net/items/show/20706\n",
      "https://miamiuniversityartmuseum.omeka.net/items/show/20705\n",
      "https://miamiuniversityartmuseum.omeka.net/items/show/20704\n"
     ]
    }
   ],
   "source": [
    "soups = []\n",
    "\n",
    "for link in link_on_pages:\n",
    "    full_link = \"https://miamiuniversityartmuseum.omeka.net\" + link\n",
    "    print(full_link)\n",
    "    response = requests.get(full_link)\n",
    "    if response.status_code != 200:\n",
    "        print(f\"Failed to retrieve data from the URL. Status code: {response.status_code}\")\n",
    "        exit()\n",
    "\n",
    "    soup = BeautifulSoup(response.text, 'html.parser')\n",
    "    soups.append(soup)"
   ]
  },
  {
   "cell_type": "code",
   "execution_count": 6,
   "metadata": {},
   "outputs": [],
   "source": [
    "def extract_data_from_soup(soup):\n",
    "    data = {}\n",
    "\n",
    "    # Extract fields using a loop\n",
    "    fields = {\n",
    "        'dublin-core-title': 'Title',\n",
    "        'dublin-core-identifier': 'Identifier',\n",
    "        'dublin-core-subject': 'Subject',\n",
    "        'dublin-core-description': 'Description',\n",
    "        'dublin-core-creator': 'Creator',\n",
    "        'dublin-core-format': 'Format',\n",
    "        'dublin-core-date': 'Date',\n",
    "        'dublin-core-medium': 'Medium',\n",
    "        'physical-object-item-type-metadata-donor': 'Donor',\n",
    "        'item-citation': 'Citation'\n",
    "    }\n",
    "\n",
    "    for field_id, field_name in fields.items():\n",
    "        element = soup.find('div', {'id': field_id})\n",
    "        if element:\n",
    "            data[field_name] = element.find('div', {'class': 'element-text'}).get_text(strip=True)\n",
    "\n",
    "    # Extract tags\n",
    "    data['Tags'] = [tag.get_text(strip=True) for tag in soup.find_all('a', {'rel': 'tag'})]\n",
    "\n",
    "    # Extract image URL\n",
    "    '''\n",
    "    image_element = soup.find('div', {'id': 'item-images'})\n",
    "    if image_element:\n",
    "        data['Image URL'] = image_element.find('a')['href']\n",
    "    '''\n",
    "\n",
    "    # Extract collection link\n",
    "    collection_element = soup.find('div', {'id': 'collection'})\n",
    "    if collection_element:\n",
    "        data['Collection Link'] = collection_element.find('a')['href']\n",
    "\n",
    "    return data\n",
    "    print(f\"{key}: {value}\\n\")\n"
   ]
  },
  {
   "cell_type": "code",
   "execution_count": 7,
   "metadata": {},
   "outputs": [
    {
     "name": "stdout",
     "output_type": "stream",
     "text": [
      "{'Title': 'Untitled III', 'Identifier': '2024.25', 'Subject': 'Graphic Arts-Prints', 'Description': 'Print by the title \"Untitled III\" done by etching and screenprint process on paper in 1978 by American artist Adja Yunkers (1900-1983) as indicated by his signature in pencil. Marked in pencil with the edition number \"6\" of an edition of 40 produced.Raised black abstract image on black background.', 'Creator': 'Adja Yunkers (American, b. Latvia, 1900-1983)', 'Format': 'PrintImage Size: 23 3/4 inches x 16 1/2 inches', 'Date': '1978', 'Medium': 'Etching and screen print process on paper', 'Donor': \"Gift of Jeffrey L. Horrell '75 and Rodney F. Rose\", 'Citation': 'Adja Yunkers (American, b. Latvia, 1900-1983), “Untitled III,”Richard and Carole Cocks Art Museum at Miami University, accessed April 15, 2025,https://miamiuniversityartmuseum.omeka.net/items/show/20713.', 'Tags': ['20th Century', 'Abstract', 'Adja Yunkers', 'African Oceanic and New World Cultures', 'African Oceanic and New World Cultures-North America', 'American', 'etching', 'European', 'Graphic Arts', 'Graphic Arts-Prints', 'Latvia', 'North American', 'Paper', 'Print', 'Screenprint', 'United States'], 'Collection Link': '/collections/show/25'}\n",
      "{'Title': 'Gathering of the Clans', 'Identifier': '2024.24', 'Subject': 'Graphic Arts-Prints', 'Description': 'Print by the title \"Gathering of the Clans\" done by color woodcut process on paper in 1952 by American artist Adja Yunkers (1900-1983) as indicated by his signature, title and date in pencil. Printed in an edition of 95.', 'Creator': 'Adja Yunkers (American, b. Latvia, 1900-1983)', 'Format': 'PrintImage Size: 19 inches x 13 1/2 inches', 'Date': '1952', 'Medium': 'Color woodcut process on paper', 'Donor': \"Gift of Jeffrey L. Horrell '75 and Rodney F. Rose\", 'Citation': 'Adja Yunkers (American, b. Latvia, 1900-1983), “Gathering of the Clans,”Richard and Carole Cocks Art Museum at Miami University, accessed April 15, 2025,https://miamiuniversityartmuseum.omeka.net/items/show/20712.', 'Tags': ['20th Century', 'Adja Yunkers', 'African Oceanic and New World Cultures', 'African Oceanic and New World Cultures-North America', 'Anthropomorphic', 'Clan', 'Clans', 'Color woodcut', 'European', 'Gathering', 'Graphic Arts', 'Graphic Arts-Prints', 'Latvia', 'North American', 'Paper', 'Print', 'Tribal', 'Tribal clan', 'Tribal clans', 'United States', 'Woodcut'], 'Collection Link': '/collections/show/25'}\n",
      "{'Title': 'Pink Cone', 'Identifier': '2024.23', 'Subject': 'Graphic Arts-Prints', 'Description': 'Print by the title \"Pink Cone\" done by process of hard ground etching printed in pink on gampi paper chine colle in 1995 (edition printed in 2011) by American artist Wayne Thiebaud (1920-2021) as indicated by his signature, date and title in pencil. Also marked in pencil with the edition number \"11\" of an edition of 40 produced. Published by the Crown Point Press of San Francisco and printed by Emily York & Daria Sywulak.Line etching in pink of ice cream cone.', 'Creator': 'Wayne Thiebaud (American, 1920-2021)', 'Format': 'PrintImage Size: 6 1/2 inches x 8 inches', 'Date': '1995', 'Medium': 'Hard ground etching printed in pink on gampi paper chine colle', 'Donor': \"Gift of Jeffrey L. Horrell '75 and Rodney F. Rose\", 'Citation': 'Wayne Thiebaud (American, 1920-2021), “Pink Cone,”Richard and Carole Cocks Art Museum at Miami University, accessed April 15, 2025,https://miamiuniversityartmuseum.omeka.net/items/show/20711.', 'Tags': ['20th Century', 'African Oceanic and New World Cultures', 'African Oceanic and New World Cultures-North America', 'American', 'Cone', 'etching', 'Gampi paper chine colle', 'Graphic Arts', 'Graphic Arts-Prints', 'Hard ground etching', 'Ice Cream', 'Line', 'Line etching', 'Lines', 'North American', 'Paper', 'Pink', 'Print', 'United States', 'Wayne Thiebaud'], 'Collection Link': '/collections/show/25'}\n",
      "{'Title': 'Sunliners #7', 'Identifier': '2024.22', 'Subject': 'Graphic Arts-Prints', 'Description': 'Print by the title \"Sunliners #7\" done by process of etching and aquatint in colors on Hahnmuhle paper in 1995 by American artist Ed Ruscha (1937- ) as indicated by his signature and date in pencil. The print was published by Pace Editions of New York and printed by Atelier Crommelynck in Paris. Also marked in pencil with the edition number \"50\" of an edition of 50 produced.Glass of water in clear glass with black background.', 'Creator': 'Edward Ruscha (American, b. 1937)', 'Format': 'PrintImage Size: 10 1/2 inches x 7 1/2 inches', 'Date': '1995', 'Medium': 'Etching and aquatint in colors on Hahnemuhle paper', 'Donor': \"Gift of Jeffrey L. Horrell '75 and Rodney F. Rose\", 'Citation': 'Edward Ruscha (American, b. 1937), “Sunliners #7,”Richard and Carole Cocks Art Museum at Miami University, accessed April 15, 2025,https://miamiuniversityartmuseum.omeka.net/items/show/20710.', 'Tags': ['20th Century', 'African Oceanic and New World Cultures', 'African Oceanic and New World Cultures-North America', 'American', 'Aquatint', 'Black', 'Clear', 'Edward Ruscha', 'etching', 'Glass', 'Graphic Arts', 'Graphic Arts-Prints', 'Hahnemuhle paper', 'North American', 'Paper', 'Sun', 'United States', 'Water'], 'Collection Link': '/collections/show/25'}\n",
      "{'Title': 'Van Ness, Santa Monica, Melrose', 'Identifier': '2024.21', 'Subject': 'Graphic Arts-Prints', 'Description': 'Print by the title \"Van Ness, Santa Monica, Vine, Melrose\" done by direct gravure process on Somerset wove paper in 1999 by American artist Ed Ruscha (1937- ) as indicated by his signature and date in pencil. Marked in pencil with the edition number \"41\" of an edition of 50 produced. Published by Crown Point Press of San Francisco, California and is printed by Dena Schuckit.Black and white print of streets and intersections with streets labeled in text.', 'Creator': 'Edward Ruscha (American, b. 1937)', 'Format': 'PrintImage Size: 16 inches x 20 inches', 'Date': '1999', 'Medium': 'Direct gravure process on Somerset wove paper', 'Donor': \"Gift of Jeffrey L. Horrell '75 and Rodney F. Rose\", 'Citation': 'Edward Ruscha (American, b. 1937), “Van Ness, Santa Monica, Melrose,”Richard and Carole Cocks Art Museum at Miami University, accessed April 15, 2025,https://miamiuniversityartmuseum.omeka.net/items/show/20709.', 'Tags': ['20th Century', 'African Oceanic and New World Cultures', 'African Oceanic and New World Cultures-North America', 'Direct gravure process', 'Edward Ruscha', 'Graphic Arts', 'Graphic Arts-Prints', 'Intersection', 'Intersections', 'Melrose', 'North American', 'Paper', 'Print', 'Santa Monica', 'Somerset wove paper', 'Street', 'Streets', 'United States', 'Van Ness', 'Vine'], 'Collection Link': '/collections/show/25'}\n",
      "{'Title': 'Melrose, Market', 'Identifier': '2024.20', 'Subject': 'Graphic Arts-Prints', 'Description': 'Print by the title \"Melrose, Market\" plate 6 from the Los Francisco San Angeles portolio done by soft ground etching process on paper in 2001 by American artist Ed Ruscha (1937- ) as indicated by his signature and date in pencil. Also marked in pencil with the edition number \"3\" of an edition of 45 produced. The print was published by Crown Point Press of San Francisco, California.Street intersection of Melrose Ave and Market. Blue and Red coloring.', 'Creator': 'Edward Ruscha (American, b. 1937)', 'Format': 'PrintImage Size: 8 1/4 inches x 9 1/2 inches', 'Date': '2001', 'Medium': 'Soft ground etching on paper', 'Donor': \"Gift of Jeffrey L. Horrell '75 and Rodney F. Rose\", 'Citation': 'Edward Ruscha (American, b. 1937), “Melrose, Market,”Richard and Carole Cocks Art Museum at Miami University, accessed April 15, 2025,https://miamiuniversityartmuseum.omeka.net/items/show/20708.', 'Tags': ['21st Century', 'African Oceanic and New World Cultures', 'African Oceanic and New World Cultures-North America', 'American', 'Avenue', 'Cross Section', 'Edward Ruscha', 'etching', 'Graphic Arts', 'Graphic Arts-Prints', 'Intersection', 'Market', 'Melrose', 'North American', 'Paper', 'Print', 'Soft ground etching', 'Street', 'Streets', 'United States'], 'Collection Link': '/collections/show/25'}\n",
      "{'Title': 'Untitled', 'Identifier': '2024.19', 'Subject': 'Modern & Contemporary-Paintings-20th C. & Later', 'Description': 'Painting done in an abstract manner in the late 1960s or early 1970s using oil paints on paper by American artist Larry Poons (1937- ) as indicated by his signature.', 'Creator': 'Larry Poons (American, b. 1937)', 'Format': 'PaintingImage Size: 39 inches x 31 1/2 inches', 'Date': 'ca. Late 1960s or Early 1970s', 'Medium': 'Oil paints on paper', 'Donor': \"Gift of Jeffrey L. Horrell '75 and Rodney F. Rose\", 'Citation': 'Larry Poons (American, b. 1937), “Untitled,”Richard and Carole Cocks Art Museum at Miami University, accessed April 15, 2025,https://miamiuniversityartmuseum.omeka.net/items/show/20707.', 'Tags': ['20th Century', 'African Oceanic and New World Cultures', 'African Oceanic and New World Cultures-North America', 'American', 'Cafe', 'Coffee', 'Colorful', 'Cup', 'Larry Poons', 'Modern & Contemporary', 'Modern & Contemporary-Paintings-20th C. & Later', 'Mug', 'North American', 'Oil paints on paper', 'painting', 'Paper', 'Tea', 'United States'], 'Collection Link': '/collections/show/25'}\n",
      "{'Title': 'Desolate', 'Identifier': '2024.18', 'Subject': 'Graphic Arts-Prints', 'Description': 'Print by the title \"Desolate\" from the suite \"Notes in Hand\" done by offset lithograph process on paper with mechanical tints by the artist in 1972 by Swedish-born American artist Claes Oldenburg (1929-2022) as indicated by his signature in pencil. Also marked in pencil with the edition number \"64\" of an edition of 100. Print dimensions are 9 3/4 (h) x 8 inches (w).Green sofa chair with black smudge to the right of the chair.', 'Creator': 'Claes Oldenburg (American, b. Sweden 1929)', 'Format': 'PrintImage Size: 9 3/4 inches x 8 inches', 'Date': '1972', 'Medium': 'Offset lithograph process on paper with mechanical tints', 'Donor': \"Gift of Jeffrey L. Horrell '75 and Rodney F. Rose\", 'Citation': 'Claes Oldenburg (American, b. Sweden 1929), “Desolate,”Richard and Carole Cocks Art Museum at Miami University, accessed April 15, 2025,https://miamiuniversityartmuseum.omeka.net/items/show/20706.', 'Tags': ['20th Century', 'African Oceanic and New World Cultures', 'African Oceanic and New World Cultures-North America', 'American', 'Chair', 'Claes Oldenburg', 'Couch', 'Desolate', 'European', 'Graphic Arts', 'Graphic Arts-Prints', 'Lithograph', 'Mechanical tints', 'North American', 'Paper', 'Print', 'Sofa', 'Sweden', 'United States'], 'Collection Link': '/collections/show/25'}\n",
      "{'Title': 'Ear 1968', 'Identifier': '2024.17', 'Subject': 'Graphic Arts-Prints', 'Description': 'Print by the title \"Ear 1968\" from the suite \"Notes in Hand\" done by offset lithograph process on paper with mechanical tints by the artist in 1972 by Swedish-born American artist Claes Oldenburg (1929-2022) as indicated by his signature in pencil. Also marked in pencil with the edition number \"64\" of an edition of 100.', 'Creator': 'Claes Oldenburg (American, b. Sweden 1929)', 'Format': 'PrintImage Size: 9 3/4 inches x 8 inches', 'Date': '1972', 'Medium': 'Lithograph process on paper with mechanical tints', 'Donor': \"Gift of Jeffrey L. Horrell '75 and Rodney F. Rose\", 'Citation': 'Claes Oldenburg (American, b. Sweden 1929), “Ear 1968,”Richard and Carole Cocks Art Museum at Miami University, accessed April 15, 2025,https://miamiuniversityartmuseum.omeka.net/items/show/20705.', 'Tags': ['20th Century', 'African Oceanic and New World Cultures', 'African Oceanic and New World Cultures-North America', 'American', 'Claes Oldenburg', 'Ear', 'European', 'Graphic Arts', 'Graphic Arts-Prints', 'Lithograph', 'Mechanical tints', 'Paper', 'Print', 'Sweden', 'United States'], 'Collection Link': '/collections/show/25'}\n",
      "{'Title': 'Palo Alto', 'Identifier': '2024.16', 'Subject': 'Graphic Arts-Prints', 'Description': 'Print by the title \"Palo Alto\" done by lithographic process on Arches 88 paper in 1978 by American artist Robert Motherwell (1915-1991) as indicated by his signature in pencil. Also marked in pencil with the edition number \"20\" of an edition of 40 produced. The print was published by Gemini G. E. L.Black symbol on red background.', 'Creator': 'Robert Motherwell (American, 1915-1991)', 'Format': 'PrintImage Size: 36 inches x 24 inches', 'Date': '1978', 'Medium': 'Lithographic process on Arches 88 paper', 'Donor': \"Gift of Jeffrey L. Horrell '75 and Rodney F. Rose\", 'Citation': 'Robert Motherwell (American, 1915-1991), “Palo Alto,”Richard and Carole Cocks Art Museum at Miami University, accessed April 15, 2025,https://miamiuniversityartmuseum.omeka.net/items/show/20704.', 'Tags': ['20th Century', 'African Oceanic and New World Cultures', 'African Oceanic and New World Cultures-North America', 'American', 'Arches 88 paper', 'Black', 'Graphic Arts', 'Graphic Arts-Prints', 'Lithograph', 'North American', 'Paper', 'Print', 'Red', 'Robert Motherwell', 'Symbol', 'United States'], 'Collection Link': '/collections/show/25'}\n"
     ]
    }
   ],
   "source": [
    "for soup in soups:\n",
    "    data = extract_data_from_soup(soup)\n",
    "    print(data)"
   ]
  },
  {
   "cell_type": "code",
   "execution_count": null,
   "metadata": {},
   "outputs": [
    {
     "data": {
      "text/plain": [
       "'Palo Alto'"
      ]
     },
     "execution_count": 22,
     "metadata": {},
     "output_type": "execute_result"
    }
   ],
   "source": [
    "data['Title']"
   ]
  },
  {
   "cell_type": "markdown",
   "metadata": {},
   "source": [
    "# LLM"
   ]
  },
  {
   "cell_type": "code",
   "execution_count": 46,
   "metadata": {},
   "outputs": [],
   "source": [
    "from langchain_ollama import OllamaLLM\n",
    "from langchain_ollama.embeddings import OllamaEmbeddings\n",
    "\n",
    "model = OllamaLLM(model=\"llama3\")\n",
    "embeddings = OllamaEmbeddings(model=\"llama3\")\n"
   ]
  },
  {
   "cell_type": "code",
   "execution_count": 29,
   "metadata": {},
   "outputs": [
    {
     "name": "stdout",
     "output_type": "stream",
     "text": [
      "The capital of France is Paris.\n"
     ]
    }
   ],
   "source": [
    "# Pass the data dictionary directly to the model\n",
    "response = model.invoke(\"what is the capital of france\")\n",
    "print(response)"
   ]
  },
  {
   "cell_type": "code",
   "execution_count": 31,
   "metadata": {},
   "outputs": [
    {
     "data": {
      "text/plain": [
       "[Document(metadata={'producer': 'Skia/PDF m135', 'creator': 'Mozilla/5.0 (Macintosh; Intel Mac OS X 10_15_7) AppleWebKit/537.36 (KHTML, like Gecko) Chrome/135.0.0.0 Safari/537.36', 'creationdate': '2025-04-10T04:19:39+00:00', 'source': 'data/omeka_pdf.pdf', 'file_path': 'data/omeka_pdf.pdf', 'total_pages': 3, 'format': 'PDF 1.4', 'title': 'Pink Cone · Richard and Carole Cocks Art Museum at Miami University', 'author': '', 'subject': '', 'keywords': '', 'moddate': '2025-04-10T04:19:39+00:00', 'trapped': '', 'modDate': \"D:20250410041939+00'00'\", 'creationDate': \"D:20250410041939+00'00'\", 'page': 0}, page_content='Skip to main content\\nRichard and Carole Cocks Art Museum at Miami University\\nMenu\\nBrowse Exhibits\\nBrowse Collections\\nBrowse Items\\nArt Museum Website\\n \\nSearch using this query type:\\nKeyword\\nBoolean\\nExact match\\nSearch only these record types:\\n Item\\n File\\n Collection\\n Simple Page\\n Exhibit\\n Exhibit Page\\nAdvanced Search (Items only)\\nPink Cone\\nTitle\\nPink Cone\\nIdentifier\\n2024.23\\nSubject\\nGraphic Arts-Prints\\nDescription\\nPrint by the title \"Pink Cone\" done by process of hard ground etching printed in pink on gampi paper\\nchine colle in 1995 (edition printed in 2011) by American artist Wayne Thiebaud (1920-2021) as indicated\\nby his signature, date and title in pencil. Also marked in pencil with the edition number \"11\" of an edition\\nof 40 produced. Published by the Crown Point Press of San Francisco and printed by Emily York & Daria\\nSywulak.\\nLine etching in pink of ice cream cone.\\n4/10/25, 12:19 AM\\nPink Cone · Richard and Carole Cocks Art Museum at Miami University\\nhttps://miamiuniversityartmuseum.omeka.net/items/show/20711\\n1/3'),\n",
       " Document(metadata={'producer': 'Skia/PDF m135', 'creator': 'Mozilla/5.0 (Macintosh; Intel Mac OS X 10_15_7) AppleWebKit/537.36 (KHTML, like Gecko) Chrome/135.0.0.0 Safari/537.36', 'creationdate': '2025-04-10T04:19:39+00:00', 'source': 'data/omeka_pdf.pdf', 'file_path': 'data/omeka_pdf.pdf', 'total_pages': 3, 'format': 'PDF 1.4', 'title': 'Pink Cone · Richard and Carole Cocks Art Museum at Miami University', 'author': '', 'subject': '', 'keywords': '', 'moddate': '2025-04-10T04:19:39+00:00', 'trapped': '', 'modDate': \"D:20250410041939+00'00'\", 'creationDate': \"D:20250410041939+00'00'\", 'page': 1}, page_content=\"Creator\\nWayne Thiebaud (American, 1920-2021)\\nFormat\\nPrint\\nImage Size: 6 1/2 inches x 8 inches\\nDate\\n1995\\nMedium\\nHard ground etching printed in pink on gampi paper chine colle\\nDonor\\nGift of Jeffrey L. Horrell '75 and Rodney F. Rose\\nFiles\\n4/10/25, 12:19 AM\\nPink Cone · Richard and Carole Cocks Art Museum at Miami University\\nhttps://miamiuniversityartmuseum.omeka.net/items/show/20711\\n2/3\"),\n",
       " Document(metadata={'producer': 'Skia/PDF m135', 'creator': 'Mozilla/5.0 (Macintosh; Intel Mac OS X 10_15_7) AppleWebKit/537.36 (KHTML, like Gecko) Chrome/135.0.0.0 Safari/537.36', 'creationdate': '2025-04-10T04:19:39+00:00', 'source': 'data/omeka_pdf.pdf', 'file_path': 'data/omeka_pdf.pdf', 'total_pages': 3, 'format': 'PDF 1.4', 'title': 'Pink Cone · Richard and Carole Cocks Art Museum at Miami University', 'author': '', 'subject': '', 'keywords': '', 'moddate': '2025-04-10T04:19:39+00:00', 'trapped': '', 'modDate': \"D:20250410041939+00'00'\", 'creationDate': \"D:20250410041939+00'00'\", 'page': 2}, page_content=\"Collection\\nGifts of Jeffrey L. Horrell '75 and Rodney F. Rose\\nTags\\n20th Century, African Oceanic and New World Cultures, African Oceanic and New World Cultures-North\\nAmerica, American, Cone, etching, Gampi paper chine colle, Graphic Arts, Graphic Arts-Prints, Hard\\nground etching, Ice Cream, Line, Line etching, Lines, North American, Paper, Pink, Print, United States,\\nWayne Thiebaud\\nCitation\\nWayne Thiebaud (American, 1920-2021), “Pink Cone,” Richard and Carole Cocks Art Museum at Miami\\nUniversity, accessed April 10, 2025, https://miamiuniversityartmuseum.omeka.net/items/show/20711.\\nOutput Formats\\natom\\ndc-rdf\\ndcmes-xml\\njson\\nomeka-xml\\n← Previous Item\\nNext Item →\\n© 2017 Richard and Carole Cocks Art Museum at Miami University, All rights reserved.\\nProudly powered by Omeka.\\n4/10/25, 12:19 AM\\nPink Cone · Richard and Carole Cocks Art Museum at Miami University\\nhttps://miamiuniversityartmuseum.omeka.net/items/show/20711\\n3/3\")]"
      ]
     },
     "execution_count": 31,
     "metadata": {},
     "output_type": "execute_result"
    }
   ],
   "source": [
    "from langchain_community.document_loaders import PyMuPDFLoader\n",
    "\n",
    "loader = PyMuPDFLoader(\"data/omeka_pdf.pdf\")\n",
    "pages = loader.load_and_split()\n",
    "pages"
   ]
  },
  {
   "cell_type": "code",
   "execution_count": null,
   "metadata": {},
   "outputs": [
    {
     "name": "stdout",
     "output_type": "stream",
     "text": [
      "\n",
      "You are a helpful assistant. You will be provided with a question and some context.\n",
      "Please answer the question based on the context.\n",
      "Context: This is some contexty\n",
      "Question: What is the capital of France?\n",
      "\n",
      "\n"
     ]
    }
   ],
   "source": [
    "from langchain.prompts import PromptTemplate\n",
    "template = \"\"\"\n",
    "You are a helpful assistant. You will be provided with a question and some context.\n",
    "Please answer the question based on the context.\n",
    "Context: {context}\n",
    "Question: {question}\n",
    "\n",
    "\"\"\"\n",
    "prompt = PromptTemplate.from_template(template)\n",
    "\n",
    "print(prompt.format(context=\"This is some context \", question=\"What is the capital of France?\"))\n"
   ]
  },
  {
   "cell_type": "code",
   "execution_count": null,
   "metadata": {},
   "outputs": [],
   "source": [
    "chain = prompt | model"
   ]
  },
  {
   "cell_type": "code",
   "execution_count": 42,
   "metadata": {},
   "outputs": [
    {
     "data": {
      "text/plain": [
       "{'context': 'The name I was given was Ryan SIngh',\n",
       " 'question': 'What is my name?',\n",
       " 'text': 'Based on the context, your name is Ryan Singh!'}"
      ]
     },
     "execution_count": 42,
     "metadata": {},
     "output_type": "execute_result"
    }
   ],
   "source": [
    "chain.invoke(\n",
    "    {\"context\": \"The name I was given was Ryan SIngh\", \n",
    "    \"question\": \"What is my name?\"}\n",
    ")\n"
   ]
  },
  {
   "cell_type": "code",
   "execution_count": 47,
   "metadata": {},
   "outputs": [],
   "source": [
    "from langchain_community.vectorstores import DocArrayInMemorySearch\n",
    "vectorstore = DocArrayInMemorySearch.from_documents(\n",
    "    documents=pages,\n",
    "    embedding= embeddings,\n",
    ")"
   ]
  },
  {
   "cell_type": "code",
   "execution_count": 52,
   "metadata": {},
   "outputs": [
    {
     "data": {
      "text/plain": [
       "[Document(metadata={'producer': 'Skia/PDF m135', 'creator': 'Mozilla/5.0 (Macintosh; Intel Mac OS X 10_15_7) AppleWebKit/537.36 (KHTML, like Gecko) Chrome/135.0.0.0 Safari/537.36', 'creationdate': '2025-04-10T04:19:39+00:00', 'source': 'data/omeka_pdf.pdf', 'file_path': 'data/omeka_pdf.pdf', 'total_pages': 3, 'format': 'PDF 1.4', 'title': 'Pink Cone · Richard and Carole Cocks Art Museum at Miami University', 'author': '', 'subject': '', 'keywords': '', 'moddate': '2025-04-10T04:19:39+00:00', 'trapped': '', 'modDate': \"D:20250410041939+00'00'\", 'creationDate': \"D:20250410041939+00'00'\", 'page': 2}, page_content=\"Collection\\nGifts of Jeffrey L. Horrell '75 and Rodney F. Rose\\nTags\\n20th Century, African Oceanic and New World Cultures, African Oceanic and New World Cultures-North\\nAmerica, American, Cone, etching, Gampi paper chine colle, Graphic Arts, Graphic Arts-Prints, Hard\\nground etching, Ice Cream, Line, Line etching, Lines, North American, Paper, Pink, Print, United States,\\nWayne Thiebaud\\nCitation\\nWayne Thiebaud (American, 1920-2021), “Pink Cone,” Richard and Carole Cocks Art Museum at Miami\\nUniversity, accessed April 10, 2025, https://miamiuniversityartmuseum.omeka.net/items/show/20711.\\nOutput Formats\\natom\\ndc-rdf\\ndcmes-xml\\njson\\nomeka-xml\\n← Previous Item\\nNext Item →\\n© 2017 Richard and Carole Cocks Art Museum at Miami University, All rights reserved.\\nProudly powered by Omeka.\\n4/10/25, 12:19 AM\\nPink Cone · Richard and Carole Cocks Art Museum at Miami University\\nhttps://miamiuniversityartmuseum.omeka.net/items/show/20711\\n3/3\"),\n",
       " Document(metadata={'producer': 'Skia/PDF m135', 'creator': 'Mozilla/5.0 (Macintosh; Intel Mac OS X 10_15_7) AppleWebKit/537.36 (KHTML, like Gecko) Chrome/135.0.0.0 Safari/537.36', 'creationdate': '2025-04-10T04:19:39+00:00', 'source': 'data/omeka_pdf.pdf', 'file_path': 'data/omeka_pdf.pdf', 'total_pages': 3, 'format': 'PDF 1.4', 'title': 'Pink Cone · Richard and Carole Cocks Art Museum at Miami University', 'author': '', 'subject': '', 'keywords': '', 'moddate': '2025-04-10T04:19:39+00:00', 'trapped': '', 'modDate': \"D:20250410041939+00'00'\", 'creationDate': \"D:20250410041939+00'00'\", 'page': 1}, page_content=\"Creator\\nWayne Thiebaud (American, 1920-2021)\\nFormat\\nPrint\\nImage Size: 6 1/2 inches x 8 inches\\nDate\\n1995\\nMedium\\nHard ground etching printed in pink on gampi paper chine colle\\nDonor\\nGift of Jeffrey L. Horrell '75 and Rodney F. Rose\\nFiles\\n4/10/25, 12:19 AM\\nPink Cone · Richard and Carole Cocks Art Museum at Miami University\\nhttps://miamiuniversityartmuseum.omeka.net/items/show/20711\\n2/3\"),\n",
       " Document(metadata={'producer': 'Skia/PDF m135', 'creator': 'Mozilla/5.0 (Macintosh; Intel Mac OS X 10_15_7) AppleWebKit/537.36 (KHTML, like Gecko) Chrome/135.0.0.0 Safari/537.36', 'creationdate': '2025-04-10T04:19:39+00:00', 'source': 'data/omeka_pdf.pdf', 'file_path': 'data/omeka_pdf.pdf', 'total_pages': 3, 'format': 'PDF 1.4', 'title': 'Pink Cone · Richard and Carole Cocks Art Museum at Miami University', 'author': '', 'subject': '', 'keywords': '', 'moddate': '2025-04-10T04:19:39+00:00', 'trapped': '', 'modDate': \"D:20250410041939+00'00'\", 'creationDate': \"D:20250410041939+00'00'\", 'page': 0}, page_content='Skip to main content\\nRichard and Carole Cocks Art Museum at Miami University\\nMenu\\nBrowse Exhibits\\nBrowse Collections\\nBrowse Items\\nArt Museum Website\\n \\nSearch using this query type:\\nKeyword\\nBoolean\\nExact match\\nSearch only these record types:\\n Item\\n File\\n Collection\\n Simple Page\\n Exhibit\\n Exhibit Page\\nAdvanced Search (Items only)\\nPink Cone\\nTitle\\nPink Cone\\nIdentifier\\n2024.23\\nSubject\\nGraphic Arts-Prints\\nDescription\\nPrint by the title \"Pink Cone\" done by process of hard ground etching printed in pink on gampi paper\\nchine colle in 1995 (edition printed in 2011) by American artist Wayne Thiebaud (1920-2021) as indicated\\nby his signature, date and title in pencil. Also marked in pencil with the edition number \"11\" of an edition\\nof 40 produced. Published by the Crown Point Press of San Francisco and printed by Emily York & Daria\\nSywulak.\\nLine etching in pink of ice cream cone.\\n4/10/25, 12:19 AM\\nPink Cone · Richard and Carole Cocks Art Museum at Miami University\\nhttps://miamiuniversityartmuseum.omeka.net/items/show/20711\\n1/3')]"
      ]
     },
     "execution_count": 52,
     "metadata": {},
     "output_type": "execute_result"
    }
   ],
   "source": [
    "retriever = vectorstore.as_retriever()\n",
    "retriever.invoke(\"Art\")"
   ]
  },
  {
   "cell_type": "code",
   "execution_count": null,
   "metadata": {},
   "outputs": [],
   "source": [
    "from operator import itemgetter\n",
    "chain = (\n",
    "    {\n",
    "        \n",
    "    \"context\": itemgetter(\"context\") | retriever,\n",
    "    \"question\": itemgetter(\"question\")\n",
    "\n",
    "    } | prompt | model \n",
    "\n",
    ")\n"
   ]
  },
  {
   "cell_type": "code",
   "execution_count": 63,
   "metadata": {},
   "outputs": [
    {
     "name": "stdout",
     "output_type": "stream",
     "text": [
      "Based on the provided context, I can tell you that the artist of the print \"Pink Cone\" is Wayne Thiebaud (American, 1920-2021).\n"
     ]
    }
   ],
   "source": [
    "print( \n",
    "    chain.invoke\n",
    "    (\n",
    "    {\"question\": \"Tell me more aboiut the artist\",}\n",
    "    )   \n",
    ")"
   ]
  },
  {
   "cell_type": "markdown",
   "metadata": {},
   "source": []
  }
 ],
 "metadata": {
  "kernelspec": {
   "display_name": ".venv",
   "language": "python",
   "name": "python3"
  },
  "language_info": {
   "codemirror_mode": {
    "name": "ipython",
    "version": 3
   },
   "file_extension": ".py",
   "mimetype": "text/x-python",
   "name": "python",
   "nbconvert_exporter": "python",
   "pygments_lexer": "ipython3",
   "version": "3.10.7"
  }
 },
 "nbformat": 4,
 "nbformat_minor": 2
}
