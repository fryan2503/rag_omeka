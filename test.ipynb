{
 "cells": [
  {
   "cell_type": "code",
   "execution_count": null,
   "metadata": {},
   "outputs": [],
   "source": [
    "from bs4 import BeautifulSoup\n",
    "import requests"
   ]
  },
  {
   "cell_type": "code",
   "execution_count": 53,
   "metadata": {},
   "outputs": [],
   "source": [
    "browse = \"https://miamiuniversityartmuseum.omeka.net/items/browse\""
   ]
  },
  {
   "cell_type": "code",
   "execution_count": 54,
   "metadata": {},
   "outputs": [],
   "source": [
    "response = requests.get(browse)\n",
    "if response.status_code != 200:\n",
    "    print(f\"Failed to retrieve data from the URL. Status code: {response.status_code}\")\n",
    "    exit()\n",
    "\n",
    "soup = BeautifulSoup(response.text, 'html.parser')"
   ]
  },
  {
   "cell_type": "code",
   "execution_count": 55,
   "metadata": {},
   "outputs": [],
   "source": [
    "link_on_pages = []\n",
    "for link in soup.find_all('a'):\n",
    "\n",
    "    href = link.get('href')\n",
    "    if href and href.startswith('/items/show/'):\n",
    "        #print(href)\n",
    "        link_on_pages.append(href)\n",
    "\n",
    "#print(link_on_pages)"
   ]
  },
  {
   "cell_type": "code",
   "execution_count": 56,
   "metadata": {},
   "outputs": [],
   "source": [
    "soups = []\n",
    "\n",
    "for link in link_on_pages:\n",
    "    full_link = \"https://miamiuniversityartmuseum.omeka.net\" + link\n",
    "    #print(full_link)\n",
    "    response = requests.get(full_link)\n",
    "    if response.status_code != 200:\n",
    "        print(f\"Failed to retrieve data from the URL. Status code: {response.status_code}\")\n",
    "        exit()\n",
    "\n",
    "    soup = BeautifulSoup(response.text, 'html.parser')\n",
    "    soups.append(soup)"
   ]
  },
  {
   "cell_type": "code",
   "execution_count": 57,
   "metadata": {},
   "outputs": [],
   "source": [
    "def extract_data_from_soup(soup):\n",
    "    data = {}\n",
    "\n",
    "    # Extract fields using a loop\n",
    "    fields = {\n",
    "        'dublin-core-title': 'Title',\n",
    "        'dublin-core-identifier': 'Identifier',\n",
    "        'dublin-core-subject': 'Subject',\n",
    "        'dublin-core-description': 'Description',\n",
    "        'dublin-core-creator': 'Creator',\n",
    "        'dublin-core-format': 'Format',\n",
    "        'dublin-core-date': 'Date',\n",
    "        'dublin-core-medium': 'Medium',\n",
    "        'physical-object-item-type-metadata-donor': 'Donor',\n",
    "        'item-citation': 'Citation'\n",
    "    }\n",
    "\n",
    "    for field_id, field_name in fields.items():\n",
    "        element = soup.find('div', {'id': field_id})\n",
    "        if element:\n",
    "            data[field_name] = element.find('div', {'class': 'element-text'}).get_text(strip=True)\n",
    "\n",
    "    # Extract tags\n",
    "    data['Tags'] = [tag.get_text(strip=True) for tag in soup.find_all('a', {'rel': 'tag'})]\n",
    "\n",
    "    # Extract image URL\n",
    "    '''\n",
    "    image_element = soup.find('div', {'id': 'item-images'})\n",
    "    if image_element:\n",
    "        data['Image URL'] = image_element.find('a')['href']\n",
    "    '''\n",
    "\n",
    "    # Extract collection link\n",
    "    collection_element = soup.find('div', {'id': 'collection'})\n",
    "    if collection_element:\n",
    "        data['Collection Link'] = collection_element.find('a')['href']\n",
    "\n",
    "    return data\n",
    "    #print(f\"{key}: {value}\\n\")\n"
   ]
  },
  {
   "cell_type": "code",
   "execution_count": 73,
   "metadata": {},
   "outputs": [
    {
     "name": "stdout",
     "output_type": "stream",
     "text": [
      "Data saved to data/extracted_data.json\n"
     ]
    }
   ],
   "source": [
    "import json\n",
    "\n",
    "# Initialize a list to store all extracted data\n",
    "all_data = []\n",
    "\n",
    "# Extract data from each soup and append to the list\n",
    "for soup in soups:\n",
    "    data = extract_data_from_soup(soup)\n",
    "    all_data.append(data)\n",
    "\n",
    "# Save the extracted data to a JSON file\n",
    "with open(\"data/extracted_data.json\", \"w\", encoding=\"utf-8\") as json_file:\n",
    "    json.dump(all_data, json_file, ensure_ascii=False, indent=4)\n",
    "\n",
    "print(\"Data saved to data/extracted_data.json\")"
   ]
  },
  {
   "cell_type": "code",
   "execution_count": 59,
   "metadata": {},
   "outputs": [
    {
     "name": "stdout",
     "output_type": "stream",
     "text": [
      "Data saved to data/extracted_data.json\n"
     ]
    }
   ],
   "source": [
    "import os\n",
    "import json\n",
    "\n",
    "# Ensure the \"data\" directory exists\n",
    "os.makedirs(\"data\", exist_ok=True)\n",
    "\n",
    "# Save the extracted data to a JSON file\n",
    "with open(\"data/extracted_data.json\", \"w\", encoding=\"utf-8\") as json_file:\n",
    "    json.dump(data, json_file, ensure_ascii=False, indent=4)\n",
    "\n",
    "print(\"Data saved to data/extracted_data.json\")"
   ]
  },
  {
   "cell_type": "markdown",
   "metadata": {},
   "source": [
    "# LLM"
   ]
  },
  {
   "cell_type": "code",
   "execution_count": 60,
   "metadata": {},
   "outputs": [],
   "source": [
    "from langchain_ollama import OllamaLLM\n",
    "from langchain_ollama.embeddings import OllamaEmbeddings\n",
    "\n",
    "model = OllamaLLM(model=\"llama3\")\n",
    "embeddings = OllamaEmbeddings(model=\"llama3\")\n"
   ]
  },
  {
   "cell_type": "code",
   "execution_count": 61,
   "metadata": {},
   "outputs": [
    {
     "name": "stdout",
     "output_type": "stream",
     "text": [
      "The capital of France is Paris.\n"
     ]
    }
   ],
   "source": [
    "# Pass the data dictionary directly to the model\n",
    "response = model.invoke(\"what is the capital of france\")\n",
    "print(response)"
   ]
  },
  {
   "cell_type": "code",
   "execution_count": 62,
   "metadata": {},
   "outputs": [
    {
     "data": {
      "text/plain": [
       "[Document(metadata={'producer': 'Skia/PDF m135', 'creator': 'Mozilla/5.0 (Macintosh; Intel Mac OS X 10_15_7) AppleWebKit/537.36 (KHTML, like Gecko) Chrome/135.0.0.0 Safari/537.36', 'creationdate': '2025-04-10T04:19:39+00:00', 'source': 'data/omeka_pdf.pdf', 'file_path': 'data/omeka_pdf.pdf', 'total_pages': 3, 'format': 'PDF 1.4', 'title': 'Pink Cone · Richard and Carole Cocks Art Museum at Miami University', 'author': '', 'subject': '', 'keywords': '', 'moddate': '2025-04-10T04:19:39+00:00', 'trapped': '', 'modDate': \"D:20250410041939+00'00'\", 'creationDate': \"D:20250410041939+00'00'\", 'page': 0}, page_content='Skip to main content\\nRichard and Carole Cocks Art Museum at Miami University\\nMenu\\nBrowse Exhibits\\nBrowse Collections\\nBrowse Items\\nArt Museum Website\\n \\nSearch using this query type:\\nKeyword\\nBoolean\\nExact match\\nSearch only these record types:\\n Item\\n File\\n Collection\\n Simple Page\\n Exhibit\\n Exhibit Page\\nAdvanced Search (Items only)\\nPink Cone\\nTitle\\nPink Cone\\nIdentifier\\n2024.23\\nSubject\\nGraphic Arts-Prints\\nDescription\\nPrint by the title \"Pink Cone\" done by process of hard ground etching printed in pink on gampi paper\\nchine colle in 1995 (edition printed in 2011) by American artist Wayne Thiebaud (1920-2021) as indicated\\nby his signature, date and title in pencil. Also marked in pencil with the edition number \"11\" of an edition\\nof 40 produced. Published by the Crown Point Press of San Francisco and printed by Emily York & Daria\\nSywulak.\\nLine etching in pink of ice cream cone.\\n4/10/25, 12:19 AM\\nPink Cone · Richard and Carole Cocks Art Museum at Miami University\\nhttps://miamiuniversityartmuseum.omeka.net/items/show/20711\\n1/3'),\n",
       " Document(metadata={'producer': 'Skia/PDF m135', 'creator': 'Mozilla/5.0 (Macintosh; Intel Mac OS X 10_15_7) AppleWebKit/537.36 (KHTML, like Gecko) Chrome/135.0.0.0 Safari/537.36', 'creationdate': '2025-04-10T04:19:39+00:00', 'source': 'data/omeka_pdf.pdf', 'file_path': 'data/omeka_pdf.pdf', 'total_pages': 3, 'format': 'PDF 1.4', 'title': 'Pink Cone · Richard and Carole Cocks Art Museum at Miami University', 'author': '', 'subject': '', 'keywords': '', 'moddate': '2025-04-10T04:19:39+00:00', 'trapped': '', 'modDate': \"D:20250410041939+00'00'\", 'creationDate': \"D:20250410041939+00'00'\", 'page': 1}, page_content=\"Creator\\nWayne Thiebaud (American, 1920-2021)\\nFormat\\nPrint\\nImage Size: 6 1/2 inches x 8 inches\\nDate\\n1995\\nMedium\\nHard ground etching printed in pink on gampi paper chine colle\\nDonor\\nGift of Jeffrey L. Horrell '75 and Rodney F. Rose\\nFiles\\n4/10/25, 12:19 AM\\nPink Cone · Richard and Carole Cocks Art Museum at Miami University\\nhttps://miamiuniversityartmuseum.omeka.net/items/show/20711\\n2/3\"),\n",
       " Document(metadata={'producer': 'Skia/PDF m135', 'creator': 'Mozilla/5.0 (Macintosh; Intel Mac OS X 10_15_7) AppleWebKit/537.36 (KHTML, like Gecko) Chrome/135.0.0.0 Safari/537.36', 'creationdate': '2025-04-10T04:19:39+00:00', 'source': 'data/omeka_pdf.pdf', 'file_path': 'data/omeka_pdf.pdf', 'total_pages': 3, 'format': 'PDF 1.4', 'title': 'Pink Cone · Richard and Carole Cocks Art Museum at Miami University', 'author': '', 'subject': '', 'keywords': '', 'moddate': '2025-04-10T04:19:39+00:00', 'trapped': '', 'modDate': \"D:20250410041939+00'00'\", 'creationDate': \"D:20250410041939+00'00'\", 'page': 2}, page_content=\"Collection\\nGifts of Jeffrey L. Horrell '75 and Rodney F. Rose\\nTags\\n20th Century, African Oceanic and New World Cultures, African Oceanic and New World Cultures-North\\nAmerica, American, Cone, etching, Gampi paper chine colle, Graphic Arts, Graphic Arts-Prints, Hard\\nground etching, Ice Cream, Line, Line etching, Lines, North American, Paper, Pink, Print, United States,\\nWayne Thiebaud\\nCitation\\nWayne Thiebaud (American, 1920-2021), “Pink Cone,” Richard and Carole Cocks Art Museum at Miami\\nUniversity, accessed April 10, 2025, https://miamiuniversityartmuseum.omeka.net/items/show/20711.\\nOutput Formats\\natom\\ndc-rdf\\ndcmes-xml\\njson\\nomeka-xml\\n← Previous Item\\nNext Item →\\n© 2017 Richard and Carole Cocks Art Museum at Miami University, All rights reserved.\\nProudly powered by Omeka.\\n4/10/25, 12:19 AM\\nPink Cone · Richard and Carole Cocks Art Museum at Miami University\\nhttps://miamiuniversityartmuseum.omeka.net/items/show/20711\\n3/3\")]"
      ]
     },
     "execution_count": 62,
     "metadata": {},
     "output_type": "execute_result"
    }
   ],
   "source": [
    "from langchain_community.document_loaders import PyMuPDFLoader\n",
    "\n",
    "loader = PyMuPDFLoader(\"data/omeka_pdf.pdf\")\n",
    "pages = loader.load_and_split()\n",
    "pages"
   ]
  },
  {
   "cell_type": "code",
   "execution_count": 63,
   "metadata": {},
   "outputs": [
    {
     "name": "stdout",
     "output_type": "stream",
     "text": [
      "\n",
      "You are a helpful assistant. You will be provided with a question and some context.\n",
      "Please answer the question based on the context.\n",
      "Context: This is some context \n",
      "Question: What is the capital of France?\n",
      "\n",
      "\n"
     ]
    }
   ],
   "source": [
    "from langchain.prompts import PromptTemplate\n",
    "template = \"\"\"\n",
    "You are a helpful assistant. You will be provided with a question and some context.\n",
    "Please answer the question based on the context.\n",
    "Context: {context}\n",
    "Question: {question}\n",
    "\n",
    "\"\"\"\n",
    "prompt = PromptTemplate.from_template(template)\n",
    "\n",
    "print(prompt.format(context=\"This is some context \", question=\"What is the capital of France?\"))\n"
   ]
  },
  {
   "cell_type": "code",
   "execution_count": 64,
   "metadata": {},
   "outputs": [],
   "source": [
    "chain = prompt | model"
   ]
  },
  {
   "cell_type": "code",
   "execution_count": 65,
   "metadata": {},
   "outputs": [
    {
     "data": {
      "text/plain": [
       "'According to the context, your name is Ryan Singh!'"
      ]
     },
     "execution_count": 65,
     "metadata": {},
     "output_type": "execute_result"
    }
   ],
   "source": [
    "chain.invoke(\n",
    "    {\"context\": \"The name I was given was Ryan SIngh\", \n",
    "    \"question\": \"What is my name?\"}\n",
    ")\n"
   ]
  },
  {
   "cell_type": "code",
   "execution_count": 66,
   "metadata": {},
   "outputs": [],
   "source": [
    "from langchain_community.vectorstores import DocArrayInMemorySearch\n",
    "vectorstore = DocArrayInMemorySearch.from_documents(\n",
    "    documents=pages,\n",
    "    embedding= embeddings,\n",
    ")"
   ]
  },
  {
   "cell_type": "code",
   "execution_count": 67,
   "metadata": {},
   "outputs": [
    {
     "data": {
      "text/plain": [
       "[Document(metadata={'producer': 'Skia/PDF m135', 'creator': 'Mozilla/5.0 (Macintosh; Intel Mac OS X 10_15_7) AppleWebKit/537.36 (KHTML, like Gecko) Chrome/135.0.0.0 Safari/537.36', 'creationdate': '2025-04-10T04:19:39+00:00', 'source': 'data/omeka_pdf.pdf', 'file_path': 'data/omeka_pdf.pdf', 'total_pages': 3, 'format': 'PDF 1.4', 'title': 'Pink Cone · Richard and Carole Cocks Art Museum at Miami University', 'author': '', 'subject': '', 'keywords': '', 'moddate': '2025-04-10T04:19:39+00:00', 'trapped': '', 'modDate': \"D:20250410041939+00'00'\", 'creationDate': \"D:20250410041939+00'00'\", 'page': 2}, page_content=\"Collection\\nGifts of Jeffrey L. Horrell '75 and Rodney F. Rose\\nTags\\n20th Century, African Oceanic and New World Cultures, African Oceanic and New World Cultures-North\\nAmerica, American, Cone, etching, Gampi paper chine colle, Graphic Arts, Graphic Arts-Prints, Hard\\nground etching, Ice Cream, Line, Line etching, Lines, North American, Paper, Pink, Print, United States,\\nWayne Thiebaud\\nCitation\\nWayne Thiebaud (American, 1920-2021), “Pink Cone,” Richard and Carole Cocks Art Museum at Miami\\nUniversity, accessed April 10, 2025, https://miamiuniversityartmuseum.omeka.net/items/show/20711.\\nOutput Formats\\natom\\ndc-rdf\\ndcmes-xml\\njson\\nomeka-xml\\n← Previous Item\\nNext Item →\\n© 2017 Richard and Carole Cocks Art Museum at Miami University, All rights reserved.\\nProudly powered by Omeka.\\n4/10/25, 12:19 AM\\nPink Cone · Richard and Carole Cocks Art Museum at Miami University\\nhttps://miamiuniversityartmuseum.omeka.net/items/show/20711\\n3/3\"),\n",
       " Document(metadata={'producer': 'Skia/PDF m135', 'creator': 'Mozilla/5.0 (Macintosh; Intel Mac OS X 10_15_7) AppleWebKit/537.36 (KHTML, like Gecko) Chrome/135.0.0.0 Safari/537.36', 'creationdate': '2025-04-10T04:19:39+00:00', 'source': 'data/omeka_pdf.pdf', 'file_path': 'data/omeka_pdf.pdf', 'total_pages': 3, 'format': 'PDF 1.4', 'title': 'Pink Cone · Richard and Carole Cocks Art Museum at Miami University', 'author': '', 'subject': '', 'keywords': '', 'moddate': '2025-04-10T04:19:39+00:00', 'trapped': '', 'modDate': \"D:20250410041939+00'00'\", 'creationDate': \"D:20250410041939+00'00'\", 'page': 1}, page_content=\"Creator\\nWayne Thiebaud (American, 1920-2021)\\nFormat\\nPrint\\nImage Size: 6 1/2 inches x 8 inches\\nDate\\n1995\\nMedium\\nHard ground etching printed in pink on gampi paper chine colle\\nDonor\\nGift of Jeffrey L. Horrell '75 and Rodney F. Rose\\nFiles\\n4/10/25, 12:19 AM\\nPink Cone · Richard and Carole Cocks Art Museum at Miami University\\nhttps://miamiuniversityartmuseum.omeka.net/items/show/20711\\n2/3\"),\n",
       " Document(metadata={'producer': 'Skia/PDF m135', 'creator': 'Mozilla/5.0 (Macintosh; Intel Mac OS X 10_15_7) AppleWebKit/537.36 (KHTML, like Gecko) Chrome/135.0.0.0 Safari/537.36', 'creationdate': '2025-04-10T04:19:39+00:00', 'source': 'data/omeka_pdf.pdf', 'file_path': 'data/omeka_pdf.pdf', 'total_pages': 3, 'format': 'PDF 1.4', 'title': 'Pink Cone · Richard and Carole Cocks Art Museum at Miami University', 'author': '', 'subject': '', 'keywords': '', 'moddate': '2025-04-10T04:19:39+00:00', 'trapped': '', 'modDate': \"D:20250410041939+00'00'\", 'creationDate': \"D:20250410041939+00'00'\", 'page': 0}, page_content='Skip to main content\\nRichard and Carole Cocks Art Museum at Miami University\\nMenu\\nBrowse Exhibits\\nBrowse Collections\\nBrowse Items\\nArt Museum Website\\n \\nSearch using this query type:\\nKeyword\\nBoolean\\nExact match\\nSearch only these record types:\\n Item\\n File\\n Collection\\n Simple Page\\n Exhibit\\n Exhibit Page\\nAdvanced Search (Items only)\\nPink Cone\\nTitle\\nPink Cone\\nIdentifier\\n2024.23\\nSubject\\nGraphic Arts-Prints\\nDescription\\nPrint by the title \"Pink Cone\" done by process of hard ground etching printed in pink on gampi paper\\nchine colle in 1995 (edition printed in 2011) by American artist Wayne Thiebaud (1920-2021) as indicated\\nby his signature, date and title in pencil. Also marked in pencil with the edition number \"11\" of an edition\\nof 40 produced. Published by the Crown Point Press of San Francisco and printed by Emily York & Daria\\nSywulak.\\nLine etching in pink of ice cream cone.\\n4/10/25, 12:19 AM\\nPink Cone · Richard and Carole Cocks Art Museum at Miami University\\nhttps://miamiuniversityartmuseum.omeka.net/items/show/20711\\n1/3')]"
      ]
     },
     "execution_count": 67,
     "metadata": {},
     "output_type": "execute_result"
    }
   ],
   "source": [
    "retriever = vectorstore.as_retriever()\n",
    "retriever.invoke(\"Art\")"
   ]
  },
  {
   "cell_type": "code",
   "execution_count": 68,
   "metadata": {},
   "outputs": [],
   "source": [
    "from operator import itemgetter\n",
    "chain = (\n",
    "    {\n",
    "        \n",
    "    \"context\": itemgetter(\"context\") | retriever,\n",
    "    \"question\": itemgetter(\"question\")\n",
    "\n",
    "    } | prompt | model \n",
    "\n",
    ")\n"
   ]
  },
  {
   "cell_type": "code",
   "execution_count": 69,
   "metadata": {},
   "outputs": [
    {
     "data": {
      "text/plain": [
       "'According to the context, the name of the artwork is \"Pink Cone\". It\\'s a print by Wayne Thiebaud (1920-2021), done through process of hard ground etching printed in pink on gampi paper chine colle.'"
      ]
     },
     "execution_count": 69,
     "metadata": {},
     "output_type": "execute_result"
    }
   ],
   "source": [
    "chain.invoke(\n",
    "    {\"context\": \"\", \n",
    "    \"question\": \"What is the name of the painting?\"}\n",
    ")"
   ]
  },
  {
   "cell_type": "markdown",
   "metadata": {},
   "source": [
    "# JSON Doc Loading"
   ]
  },
  {
   "cell_type": "code",
   "execution_count": 70,
   "metadata": {},
   "outputs": [
    {
     "name": "stdout",
     "output_type": "stream",
     "text": [
      "I'm happy to help! However, I don't see any JSON data provided. Please share the JSON data, and I'll be happy to assist you in identifying the title of the first item.\n"
     ]
    }
   ],
   "source": [
    "    \n",
    "response = model.invoke(\"What is the title of the first item in the JSON data?\")\n",
    "print(response)"
   ]
  },
  {
   "cell_type": "code",
   "execution_count": 71,
   "metadata": {},
   "outputs": [],
   "source": [
    "# Load the JSON data from the saved file\n",
    "with open(\"data/extracted_data.json\", \"r\", encoding=\"utf-8\") as json_file:\n",
    "    json_data = json.load(json_file)"
   ]
  },
  {
   "cell_type": "code",
   "execution_count": 72,
   "metadata": {},
   "outputs": [],
   "source": [
    "from langchain_community.vectorstores import DocArrayInMemorySearch\n",
    "from langchain_ollama.embeddings import OllamaEmbeddings\n",
    "\n",
    "# Initialize embeddings\n",
    "embeddings = OllamaEmbeddings(model=\"llama3\")\n",
    "\n",
    "from langchain.schema import Document\n",
    "\n",
    "# Prepare documents from JSON data\n",
    "# Ensure data is wrapped in a list if it's a single dictionary\n",
    "documents = [Document(page_content=data[\"Description\"], metadata=data)]\n",
    "\n",
    "# Create a vector store\n",
    "vectorstore = DocArrayInMemorySearch.from_documents(\n",
    "    documents=documents,\n",
    "    embedding=embeddings,\n",
    ")\n",
    "\n",
    "# Example: Retrieve relevant documents\n",
    "retriever = vectorstore.as_retriever()"
   ]
  },
  {
   "cell_type": "markdown",
   "metadata": {},
   "source": []
  }
 ],
 "metadata": {
  "kernelspec": {
   "display_name": ".venv",
   "language": "python",
   "name": "python3"
  },
  "language_info": {
   "codemirror_mode": {
    "name": "ipython",
    "version": 3
   },
   "file_extension": ".py",
   "mimetype": "text/x-python",
   "name": "python",
   "nbconvert_exporter": "python",
   "pygments_lexer": "ipython3",
   "version": "3.10.7"
  }
 },
 "nbformat": 4,
 "nbformat_minor": 2
}
