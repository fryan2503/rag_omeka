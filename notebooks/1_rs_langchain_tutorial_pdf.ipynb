{
 "cells": [
  {
   "cell_type": "code",
   "execution_count": 2,
   "id": "02290fab",
   "metadata": {},
   "outputs": [],
   "source": [
    "from langchain_ollama import ChatOllama\n",
    "\n",
    "local_llm = \"llama3\"\n",
    "llm = ChatOllama(model=local_llm, temperature=0)\n",
    "llm_json_mode = ChatOllama(model=local_llm, temperature=0, format=\"json\")"
   ]
  },
  {
   "cell_type": "code",
   "execution_count": 4,
   "id": "c065c1b6",
   "metadata": {},
   "outputs": [
    {
     "data": {
      "text/plain": [
       "True"
      ]
     },
     "execution_count": 4,
     "metadata": {},
     "output_type": "execute_result"
    }
   ],
   "source": [
    "from dotenv import load_dotenv\n",
    "import os\n",
    "\n",
    "load_dotenv(dotenv_path=\".env\")"
   ]
  },
  {
   "cell_type": "markdown",
   "id": "d38423c8",
   "metadata": {},
   "source": [
    "# Vector Store"
   ]
  },
  {
   "cell_type": "code",
   "execution_count": 5,
   "id": "fdb957ac",
   "metadata": {},
   "outputs": [
    {
     "name": "stderr",
     "output_type": "stream",
     "text": [
      "USER_AGENT environment variable not set, consider setting it to identify your requests.\n",
      "Embedding texts: 100%|██████████| 62/62 [00:00<00:00, 83.19inputs/s]\n"
     ]
    }
   ],
   "source": [
    "from langchain.text_splitter import RecursiveCharacterTextSplitter\n",
    "from langchain_community.document_loaders import WebBaseLoader\n",
    "from langchain_community.vectorstores import SKLearnVectorStore\n",
    "from langchain_nomic.embeddings import NomicEmbeddings\n",
    "\n",
    "urls = [\n",
    "    \"https://miamiuniversityartmuseum.omeka.net/items/show/20713\",\n",
    "    \"https://miamiuniversityartmuseum.omeka.net/items/show/20712\",\n",
    "    \"https://miamiuniversityartmuseum.omeka.net/items/show/20711\",\n",
    "]\n",
    "\n",
    "# Load documents\n",
    "docs = [WebBaseLoader(url).load() for url in urls]\n",
    "docs_list = [item for sublist in docs for item in sublist]\n",
    "\n",
    "# Split documents\n",
    "text_splitter = RecursiveCharacterTextSplitter.from_tiktoken_encoder(\n",
    "    chunk_size=50, chunk_overlap=10\n",
    ")\n",
    "doc_splits = text_splitter.split_documents(docs_list)\n",
    "\n",
    "# Add to vectorDB\n",
    "vectorstore = SKLearnVectorStore.from_documents(\n",
    "    documents=doc_splits,\n",
    "    embedding=NomicEmbeddings(model=\"nomic-embed-text-v1.5\", inference_mode=\"local\"),\n",
    ")\n",
    "\n",
    "# Create retriever\n",
    "retriever = vectorstore.as_retriever(k=1)"
   ]
  },
  {
   "cell_type": "markdown",
   "id": "e507debd",
   "metadata": {},
   "source": [
    "# Router"
   ]
  },
  {
   "cell_type": "code",
   "execution_count": 12,
   "id": "6a0e9daa",
   "metadata": {},
   "outputs": [],
   "source": [
    "import json\n",
    "from langchain_core.messages import HumanMessage, SystemMessage\n",
    "\n",
    "# Prompt\n",
    "router_instructions = \"\"\"You are an expert at routing a user question to a vectorstore or web search.\n",
    "\n",
    "The vectorstore contains documents related 17000 objects in the Miami University Art Museum collection, including: paintings, sculptures, and photographs.\n",
    "\n",
    "Use the vectorstore for questions on these topics. For all else, and especially for current events, use web-search.\n",
    "\n",
    "Return JSON with single key, datasource, that is 'websearch' or 'vectorstore' depending on the question.\"\"\"\n"
   ]
  },
  {
   "cell_type": "markdown",
   "id": "22aad90e",
   "metadata": {},
   "source": [
    "# Retrieval"
   ]
  },
  {
   "cell_type": "code",
   "execution_count": 13,
   "id": "54e7039a",
   "metadata": {},
   "outputs": [],
   "source": [
    " # Doc grader instructions\n",
    "doc_grader_instructions = \"\"\"You are a grader assessing relevance of a retrieved document to a user question.\n",
    "\n",
    "If the document contains keyword(s) or semantic meaning related to the question, grade it as relevant.\"\"\"\n",
    "\n",
    "# Grader prompt\n",
    "doc_grader_prompt = \"\"\"Here is the retrieved document: \\n\\n {document} \\n\\n Here is the user question: \\n\\n {question}. \n",
    "\n",
    "This carefully and objectively assess whether the document contains at least some information that is relevant to the question.\n",
    "\n",
    "Return JSON with single key, binary_score, that is 'yes' or 'no' score to indicate whether the document contains at least some information that is relevant to the question.\"\"\"\n"
   ]
  },
  {
   "cell_type": "markdown",
   "id": "c7161a90",
   "metadata": {},
   "source": [
    "# Generation"
   ]
  },
  {
   "cell_type": "code",
   "execution_count": 14,
   "id": "39f2ec16",
   "metadata": {},
   "outputs": [],
   "source": [
    "rag_prompt = \"\"\"You are an assistant for question-answering tasks. \n",
    "\n",
    "Here is the context to use to answer the question:\n",
    "\n",
    "{context} \n",
    "\n",
    "Think carefully about the above context. \n",
    "\n",
    "Now, review the user question:\n",
    "\n",
    "{question}\n",
    "\n",
    "Provide an answer to this questions using only the above context. \n",
    "\n",
    "Use three sentences maximum and keep the answer concise.\n",
    "\n",
    "Answer:\"\"\"\n",
    "\n",
    "def format_docs(docs):\n",
    "    return \"\\n\\n\".join(doc.page_content for doc in docs)"
   ]
  },
  {
   "cell_type": "markdown",
   "id": "740d24c2",
   "metadata": {},
   "source": [
    "# Hallucination Grader"
   ]
  },
  {
   "cell_type": "code",
   "execution_count": 16,
   "id": "3555c941",
   "metadata": {},
   "outputs": [],
   "source": [
    "\n",
    "hallucination_grader_instructions = \"\"\"\n",
    "\n",
    "You are a teacher grading a quiz. \n",
    "\n",
    "You will be given FACTS and a STUDENT ANSWER. \n",
    "\n",
    "Here is the grade criteria to follow:\n",
    "\n",
    "(1) Ensure the STUDENT ANSWER is grounded in the FACTS. \n",
    "\n",
    "(2) Ensure the STUDENT ANSWER does not contain \"hallucinated\" information outside the scope of the FACTS.\n",
    "\n",
    "Score:\n",
    "\n",
    "A score of yes means that the student's answer meets all of the criteria. This is the highest (best) score. \n",
    "\n",
    "A score of no means that the student's answer does not meet all of the criteria. This is the lowest possible score you can give.\n",
    "\n",
    "Explain your reasoning in a step-by-step manner to ensure your reasoning and conclusion are correct. \n",
    "\n",
    "Avoid simply stating the correct answer at the outset.\"\"\"\n",
    "\n"
   ]
  },
  {
   "cell_type": "markdown",
   "id": "3d95130a",
   "metadata": {},
   "source": [
    "# Answer Grader"
   ]
  },
  {
   "cell_type": "code",
   "execution_count": 17,
   "id": "1ec8769b",
   "metadata": {},
   "outputs": [],
   "source": [
    "# Answer grader instructions\n",
    "answer_grader_instructions = \"\"\"You are a teacher grading a quiz. \n",
    "\n",
    "You will be given a QUESTION and a STUDENT ANSWER. \n",
    "\n",
    "Here is the grade criteria to follow:\n",
    "\n",
    "(1) The STUDENT ANSWER helps to answer the QUESTION\n",
    "\n",
    "Score:\n",
    "\n",
    "A score of yes means that the student's answer meets all of the criteria. This is the highest (best) score. \n",
    "\n",
    "The student can receive a score of yes if the answer contains extra information that is not explicitly asked for in the question.\n",
    "\n",
    "A score of no means that the student's answer does not meet all of the criteria. This is the lowest possible score you can give.\n",
    "\n",
    "Explain your reasoning in a step-by-step manner to ensure your reasoning and conclusion are correct. \n",
    "\n",
    "Avoid simply stating the correct answer at the outset.\"\"\"\n",
    "\n",
    "# Grader prompt\n",
    "answer_grader_prompt = \"\"\"QUESTION: \\n\\n {question} \\n\\n STUDENT ANSWER: {generation}. \n",
    "\n",
    "Return JSON with two two keys, binary_score is 'yes' or 'no' score to indicate whether the STUDENT ANSWER meets the criteria. And a key, explanation, that contains an explanation of the score.\"\"\"\n",
    "\n"
   ]
  },
  {
   "cell_type": "markdown",
   "id": "68a202f3",
   "metadata": {},
   "source": [
    "# Search"
   ]
  },
  {
   "cell_type": "code",
   "execution_count": 18,
   "id": "f01f7625",
   "metadata": {},
   "outputs": [],
   "source": [
    "### Search\n",
    "from langchain_community.tools.tavily_search import TavilySearchResults\n",
    "\n",
    "web_search_tool = TavilySearchResults(k=3)"
   ]
  },
  {
   "cell_type": "markdown",
   "id": "c11680bb",
   "metadata": {},
   "source": [
    "# Langgraph"
   ]
  },
  {
   "cell_type": "code",
   "execution_count": 19,
   "id": "e3a5faa1",
   "metadata": {},
   "outputs": [],
   "source": [
    "import operator\n",
    "from typing_extensions import TypedDict\n",
    "from typing import List, Annotated\n",
    "\n",
    "\n",
    "class GraphState(TypedDict):\n",
    "    \"\"\"\n",
    "    Graph state is a dictionary that contains information we want to propagate to, and modify in, each graph node.\n",
    "    \"\"\"\n",
    "\n",
    "    question: str  # User question\n",
    "    generation: str  # LLM generation\n",
    "    web_search: str  # Binary decision to run web search\n",
    "    max_retries: int  # Max number of retries for answer generation\n",
    "    answers: int  # Number of answers generated\n",
    "    loop_step: Annotated[int, operator.add]\n",
    "    documents: List[str]  # List of retrieved documents"
   ]
  },
  {
   "cell_type": "code",
   "execution_count": 20,
   "id": "ad2ad838",
   "metadata": {},
   "outputs": [],
   "source": [
    "from langchain.schema import Document\n",
    "from langgraph.graph import END\n",
    "\n",
    "\n",
    "### Nodes\n",
    "def retrieve(state):\n",
    "    \"\"\"\n",
    "    Retrieve documents from vectorstore\n",
    "\n",
    "    Args:\n",
    "        state (dict): The current graph state\n",
    "\n",
    "    Returns:\n",
    "        state (dict): New key added to state, documents, that contains retrieved documents\n",
    "    \"\"\"\n",
    "    print(\"---RETRIEVE---\")\n",
    "    question = state[\"question\"]\n",
    "\n",
    "    # Write retrieved documents to documents key in state\n",
    "    documents = retriever.invoke(question)\n",
    "    return {\"documents\": documents}\n",
    "\n",
    "\n",
    "def generate(state):\n",
    "    \"\"\"\n",
    "    Generate answer using RAG on retrieved documents\n",
    "\n",
    "    Args:\n",
    "        state (dict): The current graph state\n",
    "\n",
    "    Returns:\n",
    "        state (dict): New key added to state, generation, that contains LLM generation\n",
    "    \"\"\"\n",
    "    print(\"---GENERATE---\")\n",
    "    question = state[\"question\"]\n",
    "    documents = state[\"documents\"]\n",
    "    loop_step = state.get(\"loop_step\", 0)\n",
    "\n",
    "    # RAG generation\n",
    "    docs_txt = format_docs(documents)\n",
    "    rag_prompt_formatted = rag_prompt.format(context=docs_txt, question=question)\n",
    "    generation = llm.invoke([HumanMessage(content=rag_prompt_formatted)])\n",
    "    return {\"generation\": generation, \"loop_step\": loop_step + 1}\n",
    "\n",
    "\n",
    "def grade_documents(state):\n",
    "    \"\"\"\n",
    "    Determines whether the retrieved documents are relevant to the question\n",
    "    If any document is not relevant, we will set a flag to run web search\n",
    "\n",
    "    Args:\n",
    "        state (dict): The current graph state\n",
    "\n",
    "    Returns:\n",
    "        state (dict): Filtered out irrelevant documents and updated web_search state\n",
    "    \"\"\"\n",
    "\n",
    "    print(\"---CHECK DOCUMENT RELEVANCE TO QUESTION---\")\n",
    "    question = state[\"question\"]\n",
    "    documents = state[\"documents\"]\n",
    "\n",
    "    # Score each doc\n",
    "    filtered_docs = []\n",
    "    web_search = \"No\"\n",
    "    for d in documents:\n",
    "        doc_grader_prompt_formatted = doc_grader_prompt.format(\n",
    "            document=d.page_content, question=question\n",
    "        )\n",
    "        result = llm_json_mode.invoke(\n",
    "            [SystemMessage(content=doc_grader_instructions)]\n",
    "            + [HumanMessage(content=doc_grader_prompt_formatted)]\n",
    "        )\n",
    "        grade = json.loads(result.content)[\"binary_score\"]\n",
    "        # Document relevant\n",
    "        if grade.lower() == \"yes\":\n",
    "            print(\"---GRADE: DOCUMENT RELEVANT---\")\n",
    "            filtered_docs.append(d)\n",
    "        # Document not relevant\n",
    "        else:\n",
    "            print(\"---GRADE: DOCUMENT NOT RELEVANT---\")\n",
    "            # We do not include the document in filtered_docs\n",
    "            # We set a flag to indicate that we want to run web search\n",
    "            web_search = \"Yes\"\n",
    "            continue\n",
    "    return {\"documents\": filtered_docs, \"web_search\": web_search}\n",
    "\n",
    "\n",
    "def web_search(state):\n",
    "    \"\"\"\n",
    "    Web search based based on the question\n",
    "\n",
    "    Args:\n",
    "        state (dict): The current graph state\n",
    "\n",
    "    Returns:\n",
    "        state (dict): Appended web results to documents\n",
    "    \"\"\"\n",
    "\n",
    "    print(\"---WEB SEARCH---\")\n",
    "    question = state[\"question\"]\n",
    "    documents = state.get(\"documents\", [])\n",
    "\n",
    "    # Web search\n",
    "    docs = web_search_tool.invoke({\"query\": question})\n",
    "    web_results = \"\\n\".join([d[\"content\"] for d in docs])\n",
    "    web_results = Document(page_content=web_results)\n",
    "    documents.append(web_results)\n",
    "    return {\"documents\": documents}\n",
    "\n",
    "\n",
    "### Edges\n",
    "\n",
    "\n",
    "def route_question(state):\n",
    "    \"\"\"\n",
    "    Route question to web search or RAG\n",
    "\n",
    "    Args:\n",
    "        state (dict): The current graph state\n",
    "\n",
    "    Returns:\n",
    "        str: Next node to call\n",
    "    \"\"\"\n",
    "\n",
    "    print(\"---ROUTE QUESTION---\")\n",
    "    route_question = llm_json_mode.invoke(\n",
    "        [SystemMessage(content=router_instructions)]\n",
    "        + [HumanMessage(content=state[\"question\"])]\n",
    "    )\n",
    "    source = json.loads(route_question.content)[\"datasource\"]\n",
    "    if source == \"websearch\":\n",
    "        print(\"---ROUTE QUESTION TO WEB SEARCH---\")\n",
    "        return \"websearch\"\n",
    "    elif source == \"vectorstore\":\n",
    "        print(\"---ROUTE QUESTION TO RAG---\")\n",
    "        return \"vectorstore\"\n",
    "\n",
    "\n",
    "def decide_to_generate(state):\n",
    "    \"\"\"\n",
    "    Determines whether to generate an answer, or add web search\n",
    "\n",
    "    Args:\n",
    "        state (dict): The current graph state\n",
    "\n",
    "    Returns:\n",
    "        str: Binary decision for next node to call\n",
    "    \"\"\"\n",
    "\n",
    "    print(\"---ASSESS GRADED DOCUMENTS---\")\n",
    "    question = state[\"question\"]\n",
    "    web_search = state[\"web_search\"]\n",
    "    filtered_documents = state[\"documents\"]\n",
    "\n",
    "    if web_search == \"Yes\":\n",
    "        # All documents have been filtered check_relevance\n",
    "        # We will re-generate a new query\n",
    "        print(\n",
    "            \"---DECISION: NOT ALL DOCUMENTS ARE RELEVANT TO QUESTION, INCLUDE WEB SEARCH---\"\n",
    "        )\n",
    "        return \"websearch\"\n",
    "    else:\n",
    "        # We have relevant documents, so generate answer\n",
    "        print(\"---DECISION: GENERATE---\")\n",
    "        return \"generate\"\n",
    "\n",
    "\n",
    "def grade_generation_v_documents_and_question(state):\n",
    "    \"\"\"\n",
    "    Determines whether the generation is grounded in the document and answers question\n",
    "\n",
    "    Args:\n",
    "        state (dict): The current graph state\n",
    "\n",
    "    Returns:\n",
    "        str: Decision for next node to call\n",
    "    \"\"\"\n",
    "\n",
    "    print(\"---CHECK HALLUCINATIONS---\")\n",
    "    question = state[\"question\"]\n",
    "    documents = state[\"documents\"]\n",
    "    generation = state[\"generation\"]\n",
    "    max_retries = state.get(\"max_retries\", 3)  # Default to 3 if not provided\n",
    "\n",
    "    hallucination_grader_prompt_formatted = hallucination_grader_prompt.format(\n",
    "        documents=format_docs(documents), generation=generation.content\n",
    "    )\n",
    "    result = llm_json_mode.invoke(\n",
    "        [SystemMessage(content=hallucination_grader_instructions)]\n",
    "        + [HumanMessage(content=hallucination_grader_prompt_formatted)]\n",
    "    )\n",
    "    grade = json.loads(result.content)[\"binary_score\"]\n",
    "\n",
    "    # Check hallucination\n",
    "    if grade == \"yes\":\n",
    "        print(\"---DECISION: GENERATION IS GROUNDED IN DOCUMENTS---\")\n",
    "        # Check question-answering\n",
    "        print(\"---GRADE GENERATION vs QUESTION---\")\n",
    "        # Test using question and generation from above\n",
    "        answer_grader_prompt_formatted = answer_grader_prompt.format(\n",
    "            question=question, generation=generation.content\n",
    "        )\n",
    "        result = llm_json_mode.invoke(\n",
    "            [SystemMessage(content=answer_grader_instructions)]\n",
    "            + [HumanMessage(content=answer_grader_prompt_formatted)]\n",
    "        )\n",
    "        grade = json.loads(result.content)[\"binary_score\"]\n",
    "        if grade == \"yes\":\n",
    "            print(\"---DECISION: GENERATION ADDRESSES QUESTION---\")\n",
    "            return \"useful\"\n",
    "        elif state[\"loop_step\"] <= max_retries:\n",
    "            print(\"---DECISION: GENERATION DOES NOT ADDRESS QUESTION---\")\n",
    "            return \"not useful\"\n",
    "        else:\n",
    "            print(\"---DECISION: MAX RETRIES REACHED---\")\n",
    "            return \"max retries\"\n",
    "    elif state[\"loop_step\"] <= max_retries:\n",
    "        print(\"---DECISION: GENERATION IS NOT GROUNDED IN DOCUMENTS, RE-TRY---\")\n",
    "        return \"not supported\"\n",
    "    else:\n",
    "        print(\"---DECISION: MAX RETRIES REACHED---\")\n",
    "        return \"max retries\""
   ]
  },
  {
   "cell_type": "code",
   "execution_count": 21,
   "id": "e207fd4f",
   "metadata": {},
   "outputs": [
    {
     "data": {
      "image/png": "[encoded data removed]",
      "text/plain": [
       "<IPython.core.display.Image object>"
      ]
     },
     "metadata": {},
     "output_type": "display_data"
    }
   ],
   "source": [
    "from langgraph.graph import StateGraph\n",
    "from IPython.display import Image, display\n",
    "\n",
    "workflow = StateGraph(GraphState)\n",
    "\n",
    "# Define the nodes\n",
    "workflow.add_node(\"websearch\", web_search)  # web search\n",
    "workflow.add_node(\"retrieve\", retrieve)  # retrieve\n",
    "workflow.add_node(\"grade_documents\", grade_documents)  # grade documents\n",
    "workflow.add_node(\"generate\", generate)  # generate\n",
    "\n",
    "# Build graph\n",
    "workflow.set_conditional_entry_point(\n",
    "    route_question,\n",
    "    {\n",
    "        \"websearch\": \"websearch\",\n",
    "        \"vectorstore\": \"retrieve\",\n",
    "    },\n",
    ")\n",
    "workflow.add_edge(\"websearch\", \"generate\")\n",
    "workflow.add_edge(\"retrieve\", \"grade_documents\")\n",
    "workflow.add_conditional_edges(\n",
    "    \"grade_documents\",\n",
    "    decide_to_generate,\n",
    "    {\n",
    "        \"websearch\": \"websearch\",\n",
    "        \"generate\": \"generate\",\n",
    "    },\n",
    ")\n",
    "workflow.add_conditional_edges(\n",
    "    \"generate\",\n",
    "    grade_generation_v_documents_and_question,\n",
    "    {\n",
    "        \"not supported\": \"generate\",\n",
    "        \"useful\": END,\n",
    "        \"not useful\": \"websearch\",\n",
    "        \"max retries\": END,\n",
    "    },\n",
    ")\n",
    "\n",
    "# Compile\n",
    "graph = workflow.compile()\n",
    "display(Image(graph.get_graph().draw_mermaid_png()))"
   ]
  },
  {
   "cell_type": "code",
   "execution_count": 27,
   "id": "aa96697c",
   "metadata": {},
   "outputs": [
    {
     "name": "stdout",
     "output_type": "stream",
     "text": [
      "---ROUTE QUESTION---\n",
      "---ROUTE QUESTION TO RAG---\n",
      "{'question': 'What is the title of the painting of ', 'max_retries': 3, 'loop_step': 0}\n",
      "---RETRIEVE---\n"
     ]
    },
    {
     "name": "stderr",
     "output_type": "stream",
     "text": [
      "Embedding texts: 100%|██████████| 1/1 [00:00<00:00, 28.15inputs/s]"
     ]
    },
    {
     "name": "stdout",
     "output_type": "stream",
     "text": [
      "{'question': 'What is the title of the painting of ', 'max_retries': 3, 'loop_step': 0, 'documents': [Document(metadata={'id': '8e842376-7006-4a5c-a615-ccf79a2e0b92', 'source': 'https://miamiuniversityartmuseum.omeka.net/items/show/20712', 'title': 'Gathering of the Clans · Richard and Carole Cocks Art Museum at Miami University', 'language': 'en-US'}, page_content='Print by the title \"Gathering of the Clans\" done by color woodcut process on paper in 1952 by American artist Adja Yunkers (1900-1983) as indicated by his signature, title and date in pencil. Printed in'), Document(metadata={'id': '6c75a0c6-a330-47c9-b80a-558e70a8e5e8', 'source': 'https://miamiuniversityartmuseum.omeka.net/items/show/20712', 'title': 'Gathering of the Clans · Richard and Carole Cocks Art Museum at Miami University', 'language': 'en-US'}, page_content='Title\\nGathering of the Clans\\n\\n\\nIdentifier\\n2024.24\\n\\n\\nSubject\\nGraphic Arts-Prints'), Document(metadata={'id': '9f9d92bf-d24f-448c-bc5b-20feeb958bf3', 'source': 'https://miamiuniversityartmuseum.omeka.net/items/show/20713', 'title': 'Untitled III · Richard and Carole Cocks Art Museum at Miami University', 'language': 'en-US'}, page_content='Print by the title \"Untitled III\" done by etching and screenprint process on paper in 1978 by American artist Adja Yunkers (1900-1983) as indicated by his signature in pencil. Marked in pencil with the edition number'), Document(metadata={'id': 'cdaa57ee-70a0-40e6-ade1-e2b8c109e48d', 'source': 'https://miamiuniversityartmuseum.omeka.net/items/show/20713', 'title': 'Untitled III · Richard and Carole Cocks Art Museum at Miami University', 'language': 'en-US'}, page_content='Untitled III · Richard and Carole Cocks Art Museum at Miami University\\n\\n\\n\\n\\n\\n\\n\\n\\n\\n\\n\\n\\n\\n\\n\\n\\n\\n\\n\\n\\n\\n\\n\\n\\n\\n\\n\\n\\n\\xa0\\nSkip to main content\\n\\n\\nRichard and Carole Cocks Art Museum at Miami University')]}\n",
      "---CHECK DOCUMENT RELEVANCE TO QUESTION---\n"
     ]
    },
    {
     "name": "stderr",
     "output_type": "stream",
     "text": [
      "\n"
     ]
    },
    {
     "name": "stdout",
     "output_type": "stream",
     "text": [
      "---GRADE: DOCUMENT RELEVANT---\n",
      "---GRADE: DOCUMENT NOT RELEVANT---\n",
      "---GRADE: DOCUMENT RELEVANT---\n",
      "---GRADE: DOCUMENT NOT RELEVANT---\n",
      "---ASSESS GRADED DOCUMENTS---\n",
      "---DECISION: NOT ALL DOCUMENTS ARE RELEVANT TO QUESTION, INCLUDE WEB SEARCH---\n",
      "{'question': 'What is the title of the painting of ', 'web_search': 'Yes', 'max_retries': 3, 'loop_step': 0, 'documents': [Document(metadata={'id': '8e842376-7006-4a5c-a615-ccf79a2e0b92', 'source': 'https://miamiuniversityartmuseum.omeka.net/items/show/20712', 'title': 'Gathering of the Clans · Richard and Carole Cocks Art Museum at Miami University', 'language': 'en-US'}, page_content='Print by the title \"Gathering of the Clans\" done by color woodcut process on paper in 1952 by American artist Adja Yunkers (1900-1983) as indicated by his signature, title and date in pencil. Printed in'), Document(metadata={'id': '9f9d92bf-d24f-448c-bc5b-20feeb958bf3', 'source': 'https://miamiuniversityartmuseum.omeka.net/items/show/20713', 'title': 'Untitled III · Richard and Carole Cocks Art Museum at Miami University', 'language': 'en-US'}, page_content='Print by the title \"Untitled III\" done by etching and screenprint process on paper in 1978 by American artist Adja Yunkers (1900-1983) as indicated by his signature in pencil. Marked in pencil with the edition number')]}\n",
      "---WEB SEARCH---\n",
      "{'question': 'What is the title of the painting of ', 'web_search': 'Yes', 'max_retries': 3, 'loop_step': 0, 'documents': [Document(metadata={'id': '8e842376-7006-4a5c-a615-ccf79a2e0b92', 'source': 'https://miamiuniversityartmuseum.omeka.net/items/show/20712', 'title': 'Gathering of the Clans · Richard and Carole Cocks Art Museum at Miami University', 'language': 'en-US'}, page_content='Print by the title \"Gathering of the Clans\" done by color woodcut process on paper in 1952 by American artist Adja Yunkers (1900-1983) as indicated by his signature, title and date in pencil. Printed in'), Document(metadata={'id': '9f9d92bf-d24f-448c-bc5b-20feeb958bf3', 'source': 'https://miamiuniversityartmuseum.omeka.net/items/show/20713', 'title': 'Untitled III · Richard and Carole Cocks Art Museum at Miami University', 'language': 'en-US'}, page_content='Print by the title \"Untitled III\" done by etching and screenprint process on paper in 1978 by American artist Adja Yunkers (1900-1983) as indicated by his signature in pencil. Marked in pencil with the edition number'), Document(metadata={}, page_content='A painting’s title is an important part of its emotional appeal. It gives the viewer insight into what you, the artist, hopes the viewer will see or feel in your work. I think of titling a painting as writing a bit of poetry, using words that convey feelings and intangible concepts. Titles such as “Doorway to a Dream,”\\xa0“Echoes in the Mountains,” and “To Catch a Moonbeam,” suggest a mood rather than a clear visual description. [...] Write down some key words from your painting, such as “dandelions, pink shadows, abandoned barn, calm, and years gone by” Select the words that best suggest your painting and try to form a title. Maybe a single word “Dandelions” tells the story of abandonment. Maybe you want to put a haunting spin on your piece with the title “Quiet Barnyard Sounds” or a sad note, “The Silence Is Deafening,” or perhaps you simply wish to describe a picture, “Pink Tones Across a Field.” [...] I know artists who don’t think about titles until their artworks are finished and they see what their paintings evoke. Other artists have something clearly in mind as they create, and form titles along with that idea. Most artists probably start thinking about a title somewhere in the middle stages of a painting, as their imagery takes shape. As is always true in art, there are no definite rules for titling a painting.\\n\\nI’ve developed some approaches for generating titles:\\nThe painting is by Claude Monet and its called San Giorgio Maggiore at Dusk. It does not actually hang at the Met in NYC, it belongs to the\\nThere are five main kinds of titles: Sentimental, Numerical, Factual, Abstract and Mysterious. For comparison purposes, take a recent painting\\nI would much rather have the information written in pencil by the artist, even if it’s not the best handwriting in the world.  I have a wonderful print of an arctic wolf with the title, number, and artist’s signature in pencil on the inner mat.  (It’s double matted.)  The writing is not too bad, but the title does read more like “Archie Wolf” than “Arctic Wolf.”\\n\\nC&C is welcome.\\nRichard [...] Richard, you make a good point. I think I’d rather have the title in the artist’s handwriting too.  I think I will write it in pencil, then go over it with a pigma pen.\\n\\nDebra, thanks for the suggestion, but doesnt a graphite pencil smear? I usually paint right to the edge of the paper…\\nJoAnn\\n\\nHe who works with his hands is a laborer.He who works with his hands and his head is a craftsman. He who works with his hands and his head and his heart is an artist.\"   -St Francis of Assisi [...] If I achieve a nice clean margin when I tape off and if I title the painting, I put the title just below the bottom center edge of the painting, with my signature to the far right.  I use graphite pencil.  Matting is done taking the clean margin into effect all around.\\nFor me, a title never precedes the painting. Most of the time I choose the title after I\\'ve signed the painting.')]}\n",
      "---GENERATE---\n",
      "---CHECK HALLUCINATIONS---\n",
      "---DECISION: GENERATION IS GROUNDED IN DOCUMENTS---\n",
      "---GRADE GENERATION vs QUESTION---\n",
      "---DECISION: GENERATION ADDRESSES QUESTION---\n",
      "{'question': 'What is the title of the painting of ', 'generation': AIMessage(content='Based on the provided context, the titles of the two paintings are \"Gathering of the Clans\" and \"Untitled III\". The first title is written in pencil by Adja Yunkers, while the second title is marked with an edition number in pencil.', additional_kwargs={}, response_metadata={'model': 'llama3', 'created_at': '2025-05-10T17:13:52.916613Z', 'done': True, 'done_reason': 'stop', 'total_duration': 5721107250, 'load_duration': 43439167, 'prompt_eval_count': 861, 'prompt_eval_duration': 3802532583, 'eval_count': 54, 'eval_duration': 1874308334, 'message': Message(role='assistant', content='', images=None, tool_calls=None), 'model_name': 'llama3'}, id='run-38ecbc58-206f-4acd-af9c-0ea99c490387-0', usage_metadata={'input_tokens': 861, 'output_tokens': 54, 'total_tokens': 915}), 'web_search': 'Yes', 'max_retries': 3, 'loop_step': 1, 'documents': [Document(metadata={'id': '8e842376-7006-4a5c-a615-ccf79a2e0b92', 'source': 'https://miamiuniversityartmuseum.omeka.net/items/show/20712', 'title': 'Gathering of the Clans · Richard and Carole Cocks Art Museum at Miami University', 'language': 'en-US'}, page_content='Print by the title \"Gathering of the Clans\" done by color woodcut process on paper in 1952 by American artist Adja Yunkers (1900-1983) as indicated by his signature, title and date in pencil. Printed in'), Document(metadata={'id': '9f9d92bf-d24f-448c-bc5b-20feeb958bf3', 'source': 'https://miamiuniversityartmuseum.omeka.net/items/show/20713', 'title': 'Untitled III · Richard and Carole Cocks Art Museum at Miami University', 'language': 'en-US'}, page_content='Print by the title \"Untitled III\" done by etching and screenprint process on paper in 1978 by American artist Adja Yunkers (1900-1983) as indicated by his signature in pencil. Marked in pencil with the edition number'), Document(metadata={}, page_content='A painting’s title is an important part of its emotional appeal. It gives the viewer insight into what you, the artist, hopes the viewer will see or feel in your work. I think of titling a painting as writing a bit of poetry, using words that convey feelings and intangible concepts. Titles such as “Doorway to a Dream,”\\xa0“Echoes in the Mountains,” and “To Catch a Moonbeam,” suggest a mood rather than a clear visual description. [...] Write down some key words from your painting, such as “dandelions, pink shadows, abandoned barn, calm, and years gone by” Select the words that best suggest your painting and try to form a title. Maybe a single word “Dandelions” tells the story of abandonment. Maybe you want to put a haunting spin on your piece with the title “Quiet Barnyard Sounds” or a sad note, “The Silence Is Deafening,” or perhaps you simply wish to describe a picture, “Pink Tones Across a Field.” [...] I know artists who don’t think about titles until their artworks are finished and they see what their paintings evoke. Other artists have something clearly in mind as they create, and form titles along with that idea. Most artists probably start thinking about a title somewhere in the middle stages of a painting, as their imagery takes shape. As is always true in art, there are no definite rules for titling a painting.\\n\\nI’ve developed some approaches for generating titles:\\nThe painting is by Claude Monet and its called San Giorgio Maggiore at Dusk. It does not actually hang at the Met in NYC, it belongs to the\\nThere are five main kinds of titles: Sentimental, Numerical, Factual, Abstract and Mysterious. For comparison purposes, take a recent painting\\nI would much rather have the information written in pencil by the artist, even if it’s not the best handwriting in the world.  I have a wonderful print of an arctic wolf with the title, number, and artist’s signature in pencil on the inner mat.  (It’s double matted.)  The writing is not too bad, but the title does read more like “Archie Wolf” than “Arctic Wolf.”\\n\\nC&C is welcome.\\nRichard [...] Richard, you make a good point. I think I’d rather have the title in the artist’s handwriting too.  I think I will write it in pencil, then go over it with a pigma pen.\\n\\nDebra, thanks for the suggestion, but doesnt a graphite pencil smear? I usually paint right to the edge of the paper…\\nJoAnn\\n\\nHe who works with his hands is a laborer.He who works with his hands and his head is a craftsman. He who works with his hands and his head and his heart is an artist.\"   -St Francis of Assisi [...] If I achieve a nice clean margin when I tape off and if I title the painting, I put the title just below the bottom center edge of the painting, with my signature to the far right.  I use graphite pencil.  Matting is done taking the clean margin into effect all around.\\nFor me, a title never precedes the painting. Most of the time I choose the title after I\\'ve signed the painting.')]}\n"
     ]
    }
   ],
   "source": [
    "inputs = {\"question\": \"What is the title of the painting of \", \"max_retries\": 3}\n",
    "for event in graph.stream(inputs, stream_mode=\"values\"):\n",
    "    print(event)"
   ]
  },
  {
   "cell_type": "code",
   "execution_count": 24,
   "id": "77889b75",
   "metadata": {},
   "outputs": [
    {
     "name": "stdout",
     "output_type": "stream",
     "text": [
      "---ROUTE QUESTION---\n",
      "---ROUTE QUESTION TO RAG---\n",
      "{'question': 'Type of painting Untitled III ', 'max_retries': 3, 'loop_step': 0}\n",
      "---RETRIEVE---\n"
     ]
    },
    {
     "name": "stderr",
     "output_type": "stream",
     "text": [
      "Embedding texts: 100%|██████████| 1/1 [00:00<00:00, 13.89inputs/s]"
     ]
    },
    {
     "name": "stdout",
     "output_type": "stream",
     "text": [
      "{'question': 'Type of painting Untitled III ', 'max_retries': 3, 'loop_step': 0, 'documents': [Document(metadata={'id': '9f9d92bf-d24f-448c-bc5b-20feeb958bf3', 'source': 'https://miamiuniversityartmuseum.omeka.net/items/show/20713', 'title': 'Untitled III · Richard and Carole Cocks Art Museum at Miami University', 'language': 'en-US'}, page_content='Print by the title \"Untitled III\" done by etching and screenprint process on paper in 1978 by American artist Adja Yunkers (1900-1983) as indicated by his signature in pencil. Marked in pencil with the edition number'), Document(metadata={'id': 'cdaa57ee-70a0-40e6-ade1-e2b8c109e48d', 'source': 'https://miamiuniversityartmuseum.omeka.net/items/show/20713', 'title': 'Untitled III · Richard and Carole Cocks Art Museum at Miami University', 'language': 'en-US'}, page_content='Untitled III · Richard and Carole Cocks Art Museum at Miami University\\n\\n\\n\\n\\n\\n\\n\\n\\n\\n\\n\\n\\n\\n\\n\\n\\n\\n\\n\\n\\n\\n\\n\\n\\n\\n\\n\\n\\n\\xa0\\nSkip to main content\\n\\n\\nRichard and Carole Cocks Art Museum at Miami University'), Document(metadata={'id': '9582347f-adac-4138-826d-90c304c8c5df', 'source': 'https://miamiuniversityartmuseum.omeka.net/items/show/20713', 'title': 'Untitled III · Richard and Carole Cocks Art Museum at Miami University', 'language': 'en-US'}, page_content='Advanced Search (Items only)\\n\\n\\n\\n\\n\\nUntitled III\\n\\n\\nTitle\\nUntitled III\\n\\n\\nIdentifier\\n2024.25\\n\\n\\nSubject\\nGraphic Arts-Prints'), Document(metadata={'id': '59b60ab0-35d1-4817-a213-9002a8a28579', 'source': 'https://miamiuniversityartmuseum.omeka.net/items/show/20713', 'title': 'Untitled III · Richard and Carole Cocks Art Museum at Miami University', 'language': 'en-US'}, page_content='Adja Yunkers (American, b. Latvia, 1900-1983), “Untitled III,” Richard and Carole Cocks Art Museum at Miami University, accessed May 10, 2025,')]}\n",
      "---CHECK DOCUMENT RELEVANCE TO QUESTION---\n"
     ]
    },
    {
     "name": "stderr",
     "output_type": "stream",
     "text": [
      "\n"
     ]
    },
    {
     "name": "stdout",
     "output_type": "stream",
     "text": [
      "---GRADE: DOCUMENT NOT RELEVANT---\n",
      "---GRADE: DOCUMENT NOT RELEVANT---\n",
      "---GRADE: DOCUMENT NOT RELEVANT---\n",
      "---GRADE: DOCUMENT RELEVANT---\n",
      "---ASSESS GRADED DOCUMENTS---\n",
      "---DECISION: NOT ALL DOCUMENTS ARE RELEVANT TO QUESTION, INCLUDE WEB SEARCH---\n",
      "{'question': 'Type of painting Untitled III ', 'web_search': 'Yes', 'max_retries': 3, 'loop_step': 0, 'documents': [Document(metadata={'id': '59b60ab0-35d1-4817-a213-9002a8a28579', 'source': 'https://miamiuniversityartmuseum.omeka.net/items/show/20713', 'title': 'Untitled III · Richard and Carole Cocks Art Museum at Miami University', 'language': 'en-US'}, page_content='Adja Yunkers (American, b. Latvia, 1900-1983), “Untitled III,” Richard and Carole Cocks Art Museum at Miami University, accessed May 10, 2025,')]}\n",
      "---WEB SEARCH---\n",
      "{'question': 'Type of painting Untitled III ', 'web_search': 'Yes', 'max_retries': 3, 'loop_step': 0, 'documents': [Document(metadata={'id': '59b60ab0-35d1-4817-a213-9002a8a28579', 'source': 'https://miamiuniversityartmuseum.omeka.net/items/show/20713', 'title': 'Untitled III · Richard and Carole Cocks Art Museum at Miami University', 'language': 'en-US'}, page_content='Adja Yunkers (American, b. Latvia, 1900-1983), “Untitled III,” Richard and Carole Cocks Art Museum at Miami University, accessed May 10, 2025,'), Document(metadata={}, page_content='Untitled 3 is part of a series of six insistently vertical paintings exhibited by the artist at the Betty Parsons Gallery, New York, in 1951, in which Newman translated his signature compositions, “zip” paintings, into three-dimensional objects. Painted on canvas over an unusually thick frame, strips of cadmium red and silver gray thrust outward toward the viewer, dismantling the boundary between painting and sculpture. Concerned about the odd appearance of the deep sides of these works, the\\nBasher Martin\\n\\nNew Zealand\\n\\nUntitled III\\n\\nPaintings. Oil on canvas.\\n\\nHand selected by our curators\\n\\nIn this series of paintings and collages, Basher features his signature oil-painted gradated stripes, creating spaces of sublimated psychological desire. The altered retail scenarios evoke both familiarity and strangeness, exploring unspoken drives, and blending the mundane with the exclusive, highbrow with lowbrow, and public with private.\\n\\nYou may also like\\n\\nMore ways to browse [...] Item added to your cart\\n\\nNEW SCULPTURES\\n\\nNEW PAINTINGS\\n\\nNEW PHOTOGRAPHY\\n\\nNEW DECOR\\n\\nSELECT YOUR SHIPPING COUNTRY\\n\\nUntitled III\\n\\nBasher Martin\\n\\nNew Zealand, 2014\\n\\n\\n- Unique piece\\n\\nPaintings. \\n                                    Oil on canvas\\n\\n111  W x 137  H x 4  D cm\\n\\nThis work includes the artist\\'s signature\\n\\nThis piece is in stock and ready to ship\\n\\n\\n\\nPrice and Payment Methods\\n\\nPrice and Shipping Costs [...] Be the first to know the least relases, news, collaborations, exclusives and offers.\\n\\nCopyright @ 2025 Fp Art Online. All Rights Reserved\\n\\nYour cart is empty\\n\\nHave an account?\\n\\nLog in to check out faster.\\n\\n\\n\\nLoading...\\nUntitled III. 1982. Willem de Kooning Untitled III 1982. Not on view. Medium: Oil on canvas. Dimensions: 6\\' 8\" x 70\" (203.2 x 177.8 cm). Credit: Gift of UBS.\\nUntitled #3 was among ten canvases featured in the exhibition Agnes Martin: Recent Paintings, which opened in December 1990 at the Pace Gallery in New York. It is considered the height of Martin’s grey period (approximately 1985–1992), a body of work that was celebrated in the 2011 Pace exhibition Agnes Martin, The ’80s: Grey Paintings. Untitled #3 was also included alongside a series of prints, On a Clear Day, 1973, and seven other acrylic and graphite on canvas paintings in a solo exhibition [...] Grey paintings were not a radical departure for Martin. Her\\xa0grid paintings of\\xa0the 1960s often had an off-white or light grey palette. In 1974 Martin introduced muted colours as seen in Untitled #3, 1974, but then moved back toward\\xa0a white or an off-white palette in paintings such as The Islands I–XII, 1979, and White Flower I, 1985. However, the grey paintings of the late 1980s are much darker and more sombre than anything she had\\xa0painted before or after. Martin never acknowledged whether\\xa0she [...] Untitled #3 1989\\n\\nUntitled #3 1989\\n\\nAgnes Martin, Untitled #3, 1989\\nAcrylic and graphite on canvas, 182.9 x 182.9 cm\\nPrivate collection, New York\\n\\n© Agnes Martin / SOCAN (2019)\\n\\nBy the late 1980s, Martin’s monochromatic palette evolved to feature darker\\xa0tones.\\xa0Untitled #3, 1989,\\xa0includes three thick, dark grey bars alternating with four thinner and darker\\xa0bars. The\\xa0acrylic is\\xa0the colour of graphite, which largely hides the graphite lines that separate the thick and thin bars.\\n“Untitled III,” a renowned artwork crafted by Willem de Kooning in 1981, epitomizes the Abstract Expressionism movement and falls within the genre of')]}\n",
      "---GENERATE---\n",
      "---CHECK HALLUCINATIONS---\n",
      "---DECISION: GENERATION IS GROUNDED IN DOCUMENTS---\n",
      "---GRADE GENERATION vs QUESTION---\n",
      "---DECISION: GENERATION ADDRESSES QUESTION---\n",
      "{'question': 'Type of painting Untitled III ', 'generation': AIMessage(content='Based on the provided context, I can confidently say that \"Untitled III\" is a painting by Agnes Martin, created in 1989. It features a monochromatic palette with alternating thick and thin dark grey bars, separated by graphite lines. This artwork is considered part of her grey period, characterized by darker tones and somber mood.', additional_kwargs={}, response_metadata={'model': 'llama3', 'created_at': '2025-05-10T17:08:37.291486Z', 'done': True, 'done_reason': 'stop', 'total_duration': 6727771750, 'load_duration': 40022417, 'prompt_eval_count': 949, 'prompt_eval_duration': 4214261250, 'eval_count': 70, 'eval_duration': 2472872958, 'message': Message(role='assistant', content='', images=None, tool_calls=None), 'model_name': 'llama3'}, id='run-08da9635-6f27-4ec3-83c3-9244a85fa671-0', usage_metadata={'input_tokens': 949, 'output_tokens': 70, 'total_tokens': 1019}), 'web_search': 'Yes', 'max_retries': 3, 'loop_step': 1, 'documents': [Document(metadata={'id': '59b60ab0-35d1-4817-a213-9002a8a28579', 'source': 'https://miamiuniversityartmuseum.omeka.net/items/show/20713', 'title': 'Untitled III · Richard and Carole Cocks Art Museum at Miami University', 'language': 'en-US'}, page_content='Adja Yunkers (American, b. Latvia, 1900-1983), “Untitled III,” Richard and Carole Cocks Art Museum at Miami University, accessed May 10, 2025,'), Document(metadata={}, page_content='Untitled 3 is part of a series of six insistently vertical paintings exhibited by the artist at the Betty Parsons Gallery, New York, in 1951, in which Newman translated his signature compositions, “zip” paintings, into three-dimensional objects. Painted on canvas over an unusually thick frame, strips of cadmium red and silver gray thrust outward toward the viewer, dismantling the boundary between painting and sculpture. Concerned about the odd appearance of the deep sides of these works, the\\nBasher Martin\\n\\nNew Zealand\\n\\nUntitled III\\n\\nPaintings. Oil on canvas.\\n\\nHand selected by our curators\\n\\nIn this series of paintings and collages, Basher features his signature oil-painted gradated stripes, creating spaces of sublimated psychological desire. The altered retail scenarios evoke both familiarity and strangeness, exploring unspoken drives, and blending the mundane with the exclusive, highbrow with lowbrow, and public with private.\\n\\nYou may also like\\n\\nMore ways to browse [...] Item added to your cart\\n\\nNEW SCULPTURES\\n\\nNEW PAINTINGS\\n\\nNEW PHOTOGRAPHY\\n\\nNEW DECOR\\n\\nSELECT YOUR SHIPPING COUNTRY\\n\\nUntitled III\\n\\nBasher Martin\\n\\nNew Zealand, 2014\\n\\n\\n- Unique piece\\n\\nPaintings. \\n                                    Oil on canvas\\n\\n111  W x 137  H x 4  D cm\\n\\nThis work includes the artist\\'s signature\\n\\nThis piece is in stock and ready to ship\\n\\n\\n\\nPrice and Payment Methods\\n\\nPrice and Shipping Costs [...] Be the first to know the least relases, news, collaborations, exclusives and offers.\\n\\nCopyright @ 2025 Fp Art Online. All Rights Reserved\\n\\nYour cart is empty\\n\\nHave an account?\\n\\nLog in to check out faster.\\n\\n\\n\\nLoading...\\nUntitled III. 1982. Willem de Kooning Untitled III 1982. Not on view. Medium: Oil on canvas. Dimensions: 6\\' 8\" x 70\" (203.2 x 177.8 cm). Credit: Gift of UBS.\\nUntitled #3 was among ten canvases featured in the exhibition Agnes Martin: Recent Paintings, which opened in December 1990 at the Pace Gallery in New York. It is considered the height of Martin’s grey period (approximately 1985–1992), a body of work that was celebrated in the 2011 Pace exhibition Agnes Martin, The ’80s: Grey Paintings. Untitled #3 was also included alongside a series of prints, On a Clear Day, 1973, and seven other acrylic and graphite on canvas paintings in a solo exhibition [...] Grey paintings were not a radical departure for Martin. Her\\xa0grid paintings of\\xa0the 1960s often had an off-white or light grey palette. In 1974 Martin introduced muted colours as seen in Untitled #3, 1974, but then moved back toward\\xa0a white or an off-white palette in paintings such as The Islands I–XII, 1979, and White Flower I, 1985. However, the grey paintings of the late 1980s are much darker and more sombre than anything she had\\xa0painted before or after. Martin never acknowledged whether\\xa0she [...] Untitled #3 1989\\n\\nUntitled #3 1989\\n\\nAgnes Martin, Untitled #3, 1989\\nAcrylic and graphite on canvas, 182.9 x 182.9 cm\\nPrivate collection, New York\\n\\n© Agnes Martin / SOCAN (2019)\\n\\nBy the late 1980s, Martin’s monochromatic palette evolved to feature darker\\xa0tones.\\xa0Untitled #3, 1989,\\xa0includes three thick, dark grey bars alternating with four thinner and darker\\xa0bars. The\\xa0acrylic is\\xa0the colour of graphite, which largely hides the graphite lines that separate the thick and thin bars.\\n“Untitled III,” a renowned artwork crafted by Willem de Kooning in 1981, epitomizes the Abstract Expressionism movement and falls within the genre of')]}\n"
     ]
    }
   ],
   "source": [
    "inputs = {\"question\": \"Type of painting Untitled III \", \"max_retries\": 3}\n",
    "for event in graph.stream(inputs, stream_mode=\"values\"):\n",
    "    print(event)"
   ]
  },
  {
   "cell_type": "code",
   "execution_count": null,
   "id": "4afccdd6",
   "metadata": {},
   "outputs": [
    {
     "name": "stdout",
     "output_type": "stream",
     "text": [
      "---ROUTE QUESTION---\n",
      "---ROUTE QUESTION TO RAG---\n",
      "{'question': 'Summarise Pink Cone ', 'max_retries': 3, 'loop_step': 0}\n",
      "---RETRIEVE---\n"
     ]
    },
    {
     "name": "stderr",
     "output_type": "stream",
     "text": [
      "Embedding texts: 100%|██████████| 1/1 [00:00<00:00, 28.87inputs/s]"
     ]
    },
    {
     "name": "stdout",
     "output_type": "stream",
     "text": [
      "{'question': 'Summarise Pink Cone ', 'max_retries': 3, 'loop_step': 0, 'documents': [Document(metadata={'id': '99b70cc8-9bff-456d-9d71-e5b64c2acf9d', 'source': 'https://miamiuniversityartmuseum.omeka.net/items/show/20711', 'title': 'Pink Cone · Richard and Carole Cocks Art Museum at Miami University', 'language': 'en-US'}, page_content='Pink Cone · Richard and Carole Cocks Art Museum at Miami University\\n\\n\\n\\n\\n\\n\\n\\n\\n\\n\\n\\n\\n\\n\\n\\n\\n\\n\\n\\n\\n\\n\\n\\n\\n\\n\\n\\n\\n\\xa0\\nSkip to main content'), Document(metadata={'id': '70bfeb28-b1c4-4613-9941-1f8cb3f774e7', 'source': 'https://miamiuniversityartmuseum.omeka.net/items/show/20711', 'title': 'Pink Cone · Richard and Carole Cocks Art Museum at Miami University', 'language': 'en-US'}, page_content='Print by the title \"Pink Cone\" done by process of hard ground etching printed in pink on gampi paper chine colle in 1995 (edition printed in 2011) by American artist Wayne Thiebaud'), Document(metadata={'id': '62240c13-2bc2-4db0-8001-3f504e2b2a93', 'source': 'https://miamiuniversityartmuseum.omeka.net/items/show/20711', 'title': 'Pink Cone · Richard and Carole Cocks Art Museum at Miami University', 'language': 'en-US'}, page_content='Wayne Thiebaud (American, 1920-2021), “Pink Cone,” Richard and Carole Cocks Art Museum at Miami University, accessed May 4, 2025,'), Document(metadata={'id': '2a30852a-800f-4810-9784-855d029b9a9f', 'source': 'https://miamiuniversityartmuseum.omeka.net/items/show/20711', 'title': 'Pink Cone · Richard and Carole Cocks Art Museum at Miami University', 'language': 'en-US'}, page_content='Title\\nPink Cone\\n\\n\\nIdentifier\\n2024.23\\n\\n\\nSubject\\nGraphic Arts-Prints')]}\n",
      "---CHECK DOCUMENT RELEVANCE TO QUESTION---\n"
     ]
    },
    {
     "name": "stderr",
     "output_type": "stream",
     "text": [
      "\n"
     ]
    },
    {
     "name": "stdout",
     "output_type": "stream",
     "text": [
      "---GRADE: DOCUMENT RELEVANT---\n",
      "---GRADE: DOCUMENT RELEVANT---\n",
      "---GRADE: DOCUMENT RELEVANT---\n",
      "---GRADE: DOCUMENT RELEVANT---\n",
      "---ASSESS GRADED DOCUMENTS---\n",
      "---DECISION: GENERATE---\n",
      "{'question': 'Summarise Pink Cone ', 'web_search': 'No', 'max_retries': 3, 'loop_step': 0, 'documents': [Document(metadata={'id': '99b70cc8-9bff-456d-9d71-e5b64c2acf9d', 'source': 'https://miamiuniversityartmuseum.omeka.net/items/show/20711', 'title': 'Pink Cone · Richard and Carole Cocks Art Museum at Miami University', 'language': 'en-US'}, page_content='Pink Cone · Richard and Carole Cocks Art Museum at Miami University\\n\\n\\n\\n\\n\\n\\n\\n\\n\\n\\n\\n\\n\\n\\n\\n\\n\\n\\n\\n\\n\\n\\n\\n\\n\\n\\n\\n\\n\\xa0\\nSkip to main content'), Document(metadata={'id': '70bfeb28-b1c4-4613-9941-1f8cb3f774e7', 'source': 'https://miamiuniversityartmuseum.omeka.net/items/show/20711', 'title': 'Pink Cone · Richard and Carole Cocks Art Museum at Miami University', 'language': 'en-US'}, page_content='Print by the title \"Pink Cone\" done by process of hard ground etching printed in pink on gampi paper chine colle in 1995 (edition printed in 2011) by American artist Wayne Thiebaud'), Document(metadata={'id': '62240c13-2bc2-4db0-8001-3f504e2b2a93', 'source': 'https://miamiuniversityartmuseum.omeka.net/items/show/20711', 'title': 'Pink Cone · Richard and Carole Cocks Art Museum at Miami University', 'language': 'en-US'}, page_content='Wayne Thiebaud (American, 1920-2021), “Pink Cone,” Richard and Carole Cocks Art Museum at Miami University, accessed May 4, 2025,'), Document(metadata={'id': '2a30852a-800f-4810-9784-855d029b9a9f', 'source': 'https://miamiuniversityartmuseum.omeka.net/items/show/20711', 'title': 'Pink Cone · Richard and Carole Cocks Art Museum at Miami University', 'language': 'en-US'}, page_content='Title\\nPink Cone\\n\\n\\nIdentifier\\n2024.23\\n\\n\\nSubject\\nGraphic Arts-Prints')]}\n",
      "---GENERATE---\n",
      "---CHECK HALLUCINATIONS---\n",
      "---DECISION: GENERATION IS GROUNDED IN DOCUMENTS---\n",
      "---GRADE GENERATION vs QUESTION---\n",
      "---DECISION: GENERATION ADDRESSES QUESTION---\n",
      "{'question': 'Summarise Pink Cone ', 'generation': AIMessage(content='Here is a summary of \"Pink Cone\":\\n\\n\"Pink Cone\" is a print by American artist Wayne Thiebaud, created through the process of hard ground etching and printed in pink on gampi paper with chine colle. The edition was printed in 2011. This artwork is part of the Richard and Carole Cocks Art Museum at Miami University\\'s collection, identified as 2024.23.', additional_kwargs={}, response_metadata={'model': 'llama3', 'created_at': '2025-05-05T01:27:06.707128Z', 'done': True, 'done_reason': 'stop', 'total_duration': 3716306250, 'load_duration': 11896750, 'prompt_eval_count': 212, 'prompt_eval_duration': 914515709, 'eval_count': 86, 'eval_duration': 2789434125, 'message': Message(role='assistant', content='', images=None, tool_calls=None), 'model_name': 'llama3'}, id='run-ab3640b8-7477-4a7f-86e8-b0af4747bb1b-0', usage_metadata={'input_tokens': 212, 'output_tokens': 86, 'total_tokens': 298}), 'web_search': 'No', 'max_retries': 3, 'loop_step': 1, 'documents': [Document(metadata={'id': '99b70cc8-9bff-456d-9d71-e5b64c2acf9d', 'source': 'https://miamiuniversityartmuseum.omeka.net/items/show/20711', 'title': 'Pink Cone · Richard and Carole Cocks Art Museum at Miami University', 'language': 'en-US'}, page_content='Pink Cone · Richard and Carole Cocks Art Museum at Miami University\\n\\n\\n\\n\\n\\n\\n\\n\\n\\n\\n\\n\\n\\n\\n\\n\\n\\n\\n\\n\\n\\n\\n\\n\\n\\n\\n\\n\\n\\xa0\\nSkip to main content'), Document(metadata={'id': '70bfeb28-b1c4-4613-9941-1f8cb3f774e7', 'source': 'https://miamiuniversityartmuseum.omeka.net/items/show/20711', 'title': 'Pink Cone · Richard and Carole Cocks Art Museum at Miami University', 'language': 'en-US'}, page_content='Print by the title \"Pink Cone\" done by process of hard ground etching printed in pink on gampi paper chine colle in 1995 (edition printed in 2011) by American artist Wayne Thiebaud'), Document(metadata={'id': '62240c13-2bc2-4db0-8001-3f504e2b2a93', 'source': 'https://miamiuniversityartmuseum.omeka.net/items/show/20711', 'title': 'Pink Cone · Richard and Carole Cocks Art Museum at Miami University', 'language': 'en-US'}, page_content='Wayne Thiebaud (American, 1920-2021), “Pink Cone,” Richard and Carole Cocks Art Museum at Miami University, accessed May 4, 2025,'), Document(metadata={'id': '2a30852a-800f-4810-9784-855d029b9a9f', 'source': 'https://miamiuniversityartmuseum.omeka.net/items/show/20711', 'title': 'Pink Cone · Richard and Carole Cocks Art Museum at Miami University', 'language': 'en-US'}, page_content='Title\\nPink Cone\\n\\n\\nIdentifier\\n2024.23\\n\\n\\nSubject\\nGraphic Arts-Prints')]}\n"
     ]
    }
   ],
   "source": [
    "inputs = {\"question\": \"Summarise Pink Cone \", \"max_retries\": 3}\n",
    "for event in graph.stream(inputs, stream_mode=\"values\"):\n",
    "    print(event)"
   ]
  },
  {
   "cell_type": "code",
   "execution_count": null,
   "id": "1f2aed0b",
   "metadata": {},
   "outputs": [],
   "source": []
  }
 ],
 "metadata": {
  "kernelspec": {
   "display_name": ".venv",
   "language": "python",
   "name": "python3"
  },
  "language_info": {
   "codemirror_mode": {
    "name": "ipython",
    "version": 3
   },
   "file_extension": ".py",
   "mimetype": "text/x-python",
   "name": "python",
   "nbconvert_exporter": "python",
   "pygments_lexer": "ipython3",
   "version": "3.10.7"
  }
 },
 "nbformat": 4,
 "nbformat_minor": 5
}
